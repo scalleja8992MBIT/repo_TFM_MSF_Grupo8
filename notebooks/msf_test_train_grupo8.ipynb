{
 "cells": [
  {
   "cell_type": "markdown",
   "id": "7bd01ba8-eb9f-4cd9-b092-7f2d81f37139",
   "metadata": {
    "id": "_fngJex2YVWR",
    "tags": []
   },
   "source": [
    "# Notebook TFM Experimentación\n",
    "<div style=\"background-color:#F2EDED;\">\n",
    "<br/>\n",
    "<div>\n",
    "<img src=\"https://uploads-ssl.webflow.com/614b1fe22fa8b90ef41aeffe/6265cb48f9496b1cefc9ab75_logotipo-mbit-39.png\" width=\"200px\" align=\"left\" CLASS=\"TextWrap\" style=\"background-color:#2a3f3f; margin-left: 10px;\">\n",
    "<img src=\"https://branding-guidelines.msf.es/esp/imgs/logo/Logo-01.jpg\" width=\"100px\" align=\"right\" CLASS=\"TextWrap\" style=\"background-color:#2a3f3f;\">\n",
    "</div>\n",
    "<br/>\n",
    "<br/>\n",
    "<br/>\n",
    "<div>\n",
    "<h1><font color=\"#2a3f3f\" size=4 style=\"margin-left: 10px;\">MODELO DE PROBABILIDAD A TESTAR EN MÉDICOS SIN FRONTERAS</font></h1>\n",
    "</div>\n",
    "<br/>\n",
    "<div style=\"text-align: right; margin-right: 10px; margin-bottom: 10px;\">\n",
    "<font color=\"#2a3f3f\" size=3>Elio López Salamanca </font><br>\n",
    "<font color=\"#2a3f3f\" size=3>Sergio Israel Calleja Chimeno</font><br>\n",
    "</div>\n",
    "</div>"
   ]
  },
  {
   "cell_type": "markdown",
   "id": "314d35b6-1544-4d74-8278-9117d6823f9b",
   "metadata": {
    "tags": []
   },
   "source": [
    "En este proyecto vamos a generar un caso de uso que ayude a MSF a detectar socios potenciales que puedan\n",
    "dejar el testamento a favor de MSF.\n",
    "\n",
    "En este notebook vamos a hacer los entrenamientos necesarios para proponer el modelo más eficiente para\n",
    "que prediga si el socio potencialmente puede dejar dicho testamento a favor\n",
    "\n",
    "Este notebook consiste en los siguientes pasos\n",
    "\n",
    "1. **Lectura de datos**: lectura de los datos anteriormente preprocesados\n",
    "2. **Generacion datos entrenamiento y test**: generamos datos de entrenamiento y test\n",
    "3. **Entrenamiento modelo base**: entrenamos y evaluamos un modelo base\n",
    "4. **Enfoques alternativos**: entrenamos y evaluamos modelos alternativos\n",
    "4. **Busqueda de hiperparametros**: optimizamos nuestro modelo para buscar mayor precisión"
   ]
  },
  {
   "cell_type": "markdown",
   "id": "ff8f18d4-19b3-4a11-baa4-2c972c1301d4",
   "metadata": {
    "id": "_fngJex2YVWR"
   },
   "source": [
    "## Imports e instalables necesarios"
   ]
  },
  {
   "cell_type": "code",
   "execution_count": 2,
   "id": "2d84c9c7-0178-4df3-8061-5a2ce6a10301",
   "metadata": {
    "tags": []
   },
   "outputs": [],
   "source": [
    "%%capture --no-display\n",
    "!pip install -U imbalanced-learn==0.8.1"
   ]
  },
  {
   "cell_type": "code",
   "execution_count": 3,
   "id": "a3671559-bf1e-4a9f-9f0b-f8235588f1cb",
   "metadata": {
    "tags": []
   },
   "outputs": [],
   "source": [
    "import pandas as pd\n",
    "import numpy as np\n",
    "import matplotlib.pyplot as plt\n",
    "import seaborn as sns\n",
    "from sklearn.model_selection import train_test_split, cross_val_score\n",
    "from sklearn.metrics import accuracy_score, classification_report, precision_score, recall_score \n",
    "from sklearn.metrics import confusion_matrix, precision_recall_curve, roc_curve, auc, log_loss, roc_auc_score\n",
    "from sklearn.linear_model import LogisticRegression\n",
    "from sklearn.neighbors import KNeighborsClassifier\n",
    "from sklearn.svm import SVC\n",
    "from sklearn.naive_bayes import GaussianNB \n",
    "from sklearn.preprocessing import StandardScaler\n",
    "from sklearn.pipeline import Pipeline\n",
    "from sklearn.ensemble import RandomForestClassifier\n",
    "from sklearn import decomposition, datasets\n",
    "from sklearn.pipeline import Pipeline\n",
    "from sklearn.model_selection import GridSearchCV\n",
    "from imblearn.over_sampling import SMOTE\n",
    "from sklearn.model_selection import RandomizedSearchCV\n",
    "from sklearn.neural_network import MLPClassifier\n",
    "import pickle"
   ]
  },
  {
   "cell_type": "markdown",
   "id": "5725d070-409d-42fa-a8dc-ad2c485502ba",
   "metadata": {
    "id": "_fngJex2YVWR"
   },
   "source": [
    "## Leemos los datos preprocesados"
   ]
  },
  {
   "cell_type": "code",
   "execution_count": 4,
   "id": "d38b5e22-464e-418e-878b-18df8e656582",
   "metadata": {
    "tags": []
   },
   "outputs": [
    {
     "data": {
      "text/plain": [
       "(687224, 97)"
      ]
     },
     "execution_count": 4,
     "metadata": {},
     "output_type": "execute_result"
    }
   ],
   "source": [
    "df_preprocessed = pd.read_parquet(\"msf_df_preprocessed.parquet\")\n",
    "df_preprocessed.shape"
   ]
  },
  {
   "cell_type": "markdown",
   "id": "5024bc35-55e0-4d09-8fad-536967501118",
   "metadata": {
    "id": "_fngJex2YVWR",
    "tags": []
   },
   "source": [
    "## Preparación de datos\n",
    "- Se hace la división entre dato de entrenamiento y test\n",
    "- Vemos la distribución de clases entre tiene programa herencias o no lo tiene"
   ]
  },
  {
   "cell_type": "code",
   "execution_count": 5,
   "id": "0beba2f5-6333-461f-a66b-6d1215ab5c98",
   "metadata": {
    "tags": []
   },
   "outputs": [],
   "source": [
    "def create_training_sets(data, list_columns):\n",
    "    \"\"\"\n",
    "    Convert data frame to train, validation and test\n",
    "    params:\n",
    "        data: The dataframe with the dataset to be split\n",
    "    Returns:\n",
    "        train_features: Training feature dataset\n",
    "        test_features: Test feature dataset \n",
    "        train_labels: Labels for the training dataset\n",
    "        test_labels: Labels for the test dataset\n",
    "        val_features: Validation feature dataset\n",
    "        val_labels: Labels for the validation dataset\n",
    "    \"\"\"\n",
    "    # Extract the target variable from the dataframe and convert the type to float32\n",
    "    ys = np.array(data[\"cnt_programaherencias\"]).astype(\"float32\")\n",
    "    \n",
    "    # Drop all the unwanted columns including the target column\n",
    "    drop_list = [\"cnt_id\", \"cnt_programaherencias\"]\n",
    "    data = data[list_columns]\n",
    "    \n",
    "    # Drop the columns from the drop_list and convert the data into a NumPy array of type float32\n",
    "    xs = np.array(data.drop(drop_list, axis=1)).astype(\"float32\")\n",
    "    \n",
    "    np.random.seed(0)\n",
    "    \n",
    "    # Use the sklearn function train_test_split to split the dataset in the ratio train 80% and test 20%\n",
    "    train_features, test_features, \\\n",
    "    train_labels, test_labels = train_test_split(xs, ys, test_size=0.2, stratify=ys)\n",
    "    \n",
    "    \n",
    "    return train_features, test_features, train_labels, test_labels"
   ]
  },
  {
   "cell_type": "code",
   "execution_count": 6,
   "id": "818f84bc-b746-4690-b1be-4f979ebf267c",
   "metadata": {
    "tags": []
   },
   "outputs": [
    {
     "name": "stdout",
     "output_type": "stream",
     "text": [
      "Length of train_features is: (549779, 95)\n",
      "Length of train_labels is: (549779,)\n",
      "Length of test_features is: (137445, 95)\n",
      "Length of test_labels is: (137445,)\n"
     ]
    }
   ],
   "source": [
    "# Use the function to create your datasets\n",
    "train_features, test_features, train_labels, test_labels = create_training_sets(df_preprocessed, df_preprocessed.columns)\n",
    "\n",
    "print(f\"Length of train_features is: {train_features.shape}\")\n",
    "print(f\"Length of train_labels is: {train_labels.shape}\")\n",
    "print(f\"Length of test_features is: {test_features.shape}\")\n",
    "print(f\"Length of test_labels is: {test_labels.shape}\")"
   ]
  },
  {
   "cell_type": "code",
   "execution_count": 7,
   "id": "291a6dca-e36f-4472-8419-a24cd99d3747",
   "metadata": {
    "tags": []
   },
   "outputs": [
    {
     "data": {
      "image/png": "[encoded data removed]",
      "text/plain": [
       "<Figure size 640x480 with 1 Axes>"
      ]
     },
     "metadata": {},
     "output_type": "display_data"
    }
   ],
   "source": [
    "df = pd.DataFrame(data=train_labels, columns=[\"Programa Herencia\"])\n",
    "ax = sns.countplot(x=\"Programa Herencia\", hue=\"Programa Herencia\", dodge=False, data=df)\n",
    "ax.set_title(\"Programa Herencia Distribucion Dataset Entrenamiento\", fontsize=18, fontweight='bold')\n",
    "ax.set_xlabel('programa herencia', fontsize=15,)\n",
    "ax.bar_label(ax.containers[0], label_type='edge')\n",
    "ax.set_ylabel('frequency', fontsize=15)\n",
    "ax.margins(y=0.1)\n",
    "\n",
    "plt.tight_layout()\n",
    "plt.show()"
   ]
  },
  {
   "cell_type": "code",
   "execution_count": 8,
   "id": "d0050cb1-af8b-4737-8c08-b0c3e63d3fda",
   "metadata": {
    "tags": []
   },
   "outputs": [
    {
     "data": {
      "image/png": "[encoded data removed]",
      "text/plain": [
       "<Figure size 640x480 with 1 Axes>"
      ]
     },
     "metadata": {},
     "output_type": "display_data"
    }
   ],
   "source": [
    "df = pd.DataFrame(data=test_labels, columns=[\"Programa Herencia\"])\n",
    "ax = sns.countplot(x=\"Programa Herencia\", hue=\"Programa Herencia\", dodge=False, data=df)\n",
    "ax.set_title(\"Programa Herencia Distribucion Dataset Test\", fontsize=18, fontweight='bold')\n",
    "ax.set_xlabel('programa herencia', fontsize=15,)\n",
    "ax.bar_label(ax.containers[0], label_type='edge')\n",
    "ax.set_ylabel('frequency', fontsize=15)\n",
    "ax.margins(y=0.1)\n",
    "\n",
    "plt.tight_layout()\n",
    "plt.show()"
   ]
  },
  {
   "cell_type": "markdown",
   "id": "3167446b-ecec-40a7-bc0a-74ac3c79c83a",
   "metadata": {
    "id": "Zkn73Mg4e8zd",
    "tags": []
   },
   "source": [
    "## Modelo Base\n",
    "Generamos un modelo base, es decir sin hacer optimizaciones para 4 clasificadores:\n",
    "- Regresión Logistica\n",
    "- Gaussian Naive Bayes\n",
    "- Random Forest Classifier\n",
    "- MLP Classifier\n",
    "\n",
    "Haremos una pipeline de normalización de datos y ejecución del modelo"
   ]
  },
  {
   "cell_type": "markdown",
   "id": "bd990547-25de-4956-bf9f-2ec747c41fad",
   "metadata": {
    "id": "Zkn73Mg4e8zd",
    "tags": []
   },
   "source": [
    "### REGRESIÓN LOGÍSTICA\n",
    "- Modelo baseline"
   ]
  },
  {
   "cell_type": "markdown",
   "id": "81028976-cf2b-49a2-8b8e-aa7302cd3026",
   "metadata": {},
   "source": [
    "#### Entrenamiento"
   ]
  },
  {
   "cell_type": "code",
   "execution_count": 9,
   "id": "aaff0d22-80a1-4b4d-bd9f-6e156bf5f240",
   "metadata": {
    "tags": []
   },
   "outputs": [],
   "source": [
    "train_pipeline = Pipeline([('scaler', StandardScaler()), ('lf', LogisticRegression(random_state = 0))])"
   ]
  },
  {
   "cell_type": "code",
   "execution_count": 10,
   "id": "4c0dd3d0-2a5d-4de1-833b-210eea2383f4",
   "metadata": {
    "tags": []
   },
   "outputs": [
    {
     "name": "stderr",
     "output_type": "stream",
     "text": [
      "/opt/conda/lib/python3.10/site-packages/sklearn/linear_model/_logistic.py:814: ConvergenceWarning: lbfgs failed to converge (status=1):\n",
      "STOP: TOTAL NO. of ITERATIONS REACHED LIMIT.\n",
      "\n",
      "Increase the number of iterations (max_iter) or scale the data as shown in:\n",
      "    https://scikit-learn.org/stable/modules/preprocessing.html\n",
      "Please also refer to the documentation for alternative solver options:\n",
      "    https://scikit-learn.org/stable/modules/linear_model.html#logistic-regression\n",
      "  n_iter_i = _check_optimize_result(\n"
     ]
    },
    {
     "data": {
      "text/plain": [
       "Pipeline(steps=[('scaler', StandardScaler()),\n",
       "                ('lf', LogisticRegression(random_state=0))])"
      ]
     },
     "execution_count": 10,
     "metadata": {},
     "output_type": "execute_result"
    }
   ],
   "source": [
    "train_pipeline.fit(train_features, train_labels)"
   ]
  },
  {
   "cell_type": "markdown",
   "id": "deaba091-aaa0-478b-ab7c-ad16cab41581",
   "metadata": {},
   "source": [
    "#### Evaluacion"
   ]
  },
  {
   "cell_type": "code",
   "execution_count": 11,
   "id": "10419957-5130-4482-8b0b-177f29d5f3bf",
   "metadata": {
    "id": "gXsrDSDDMed4",
    "tags": []
   },
   "outputs": [],
   "source": [
    "y_pred  = train_pipeline.predict(test_features)"
   ]
  },
  {
   "cell_type": "code",
   "execution_count": 12,
   "id": "74e4e3f7-3948-4b0e-b55b-bd5546abe9b9",
   "metadata": {
    "colab": {
     "base_uri": "https://localhost:8080/"
    },
    "executionInfo": {
     "elapsed": 3,
     "status": "ok",
     "timestamp": 1639087935169,
     "user": {
      "displayName": "Fran Vaquer",
      "photoUrl": "https://lh3.googleusercontent.com/a/default-user=s64",
      "userId": "05040906435658654965"
     },
     "user_tz": -60
    },
    "id": "MHDA7bYMdoCr",
    "outputId": "24815273-14ec-489a-f3ff-401d46ade1c9",
    "tags": []
   },
   "outputs": [
    {
     "name": "stdout",
     "output_type": "stream",
     "text": [
      "              precision    recall  f1-score   support\n",
      "\n",
      "         0.0       1.00      1.00      1.00    136343\n",
      "         1.0       0.93      0.55      0.69      1102\n",
      "\n",
      "    accuracy                           1.00    137445\n",
      "   macro avg       0.96      0.77      0.84    137445\n",
      "weighted avg       1.00      1.00      1.00    137445\n",
      "\n"
     ]
    }
   ],
   "source": [
    "print(classification_report(test_labels, y_pred))"
   ]
  },
  {
   "cell_type": "code",
   "execution_count": 13,
   "id": "515139ec-09cb-4e12-a811-a3e4830cc0d6",
   "metadata": {
    "colab": {
     "base_uri": "https://localhost:8080/"
    },
    "executionInfo": {
     "elapsed": 1,
     "status": "ok",
     "timestamp": 1639087936213,
     "user": {
      "displayName": "Fran Vaquer",
      "photoUrl": "https://lh3.googleusercontent.com/a/default-user=s64",
      "userId": "05040906435658654965"
     },
     "user_tz": -60
    },
    "id": "jEIYLoXKeQMQ",
    "outputId": "889e4dce-5475-454e-d36e-4eebd87c6914",
    "tags": []
   },
   "outputs": [
    {
     "data": {
      "text/plain": [
       "array([[136297,     46],\n",
       "       [   497,    605]])"
      ]
     },
     "execution_count": 13,
     "metadata": {},
     "output_type": "execute_result"
    }
   ],
   "source": [
    "confusion_matrix(test_labels, y_pred)"
   ]
  },
  {
   "cell_type": "code",
   "execution_count": 14,
   "id": "f5288e54-1f97-4b4a-84a2-7d385ba5b6ff",
   "metadata": {
    "colab": {
     "base_uri": "https://localhost:8080/"
    },
    "executionInfo": {
     "elapsed": 3,
     "status": "ok",
     "timestamp": 1639087937368,
     "user": {
      "displayName": "Fran Vaquer",
      "photoUrl": "https://lh3.googleusercontent.com/a/default-user=s64",
      "userId": "05040906435658654965"
     },
     "user_tz": -60
    },
    "id": "AXWQsvvodvIG",
    "outputId": "b5574b57-58b5-43ea-ce81-c62b115860d2",
    "tags": []
   },
   "outputs": [
    {
     "name": "stdout",
     "output_type": "stream",
     "text": [
      "                       Predicción No Programa Herencias  \\\n",
      "No Programa Herencias                            136297   \n",
      "Programa Herencias                                  497   \n",
      "\n",
      "                       Predicción Programa Herencias  \n",
      "No Programa Herencias                             46  \n",
      "Programa Herencias                               605  \n"
     ]
    }
   ],
   "source": [
    "conf=pd.DataFrame(\n",
    "    confusion_matrix(test_labels, y_pred),\n",
    "    columns=['Predicción No Programa Herencias', 'Predicción Programa Herencias'],\n",
    "    index  =['No Programa Herencias', 'Programa Herencias']\n",
    ")\n",
    "print(conf)"
   ]
  },
  {
   "cell_type": "code",
   "execution_count": 15,
   "id": "783725de-1f61-4946-8aac-b30db2993da5",
   "metadata": {
    "colab": {
     "base_uri": "https://localhost:8080/"
    },
    "executionInfo": {
     "elapsed": 3,
     "status": "ok",
     "timestamp": 1639087938359,
     "user": {
      "displayName": "Fran Vaquer",
      "photoUrl": "https://lh3.googleusercontent.com/a/default-user=s64",
      "userId": "05040906435658654965"
     },
     "user_tz": -60
    },
    "id": "CU28npXveGN0",
    "outputId": "e560df3b-fdd8-4b15-c5c3-c4d722f15237",
    "tags": []
   },
   "outputs": [
    {
     "data": {
      "text/plain": [
       "0.996049328822438"
      ]
     },
     "execution_count": 15,
     "metadata": {},
     "output_type": "execute_result"
    }
   ],
   "source": [
    "accuracy_score(test_labels, y_pred)"
   ]
  },
  {
   "cell_type": "code",
   "execution_count": 16,
   "id": "b68ec64d-eebe-49a2-8897-a9573b1da08d",
   "metadata": {
    "colab": {
     "base_uri": "https://localhost:8080/"
    },
    "executionInfo": {
     "elapsed": 2,
     "status": "ok",
     "timestamp": 1639087939362,
     "user": {
      "displayName": "Fran Vaquer",
      "photoUrl": "https://lh3.googleusercontent.com/a/default-user=s64",
      "userId": "05040906435658654965"
     },
     "user_tz": -60
    },
    "id": "_mtNLwPVeiOO",
    "outputId": "062ce7e4-6246-4aab-a087-cc9eebad10e5",
    "scrolled": true,
    "tags": []
   },
   "outputs": [
    {
     "data": {
      "text/plain": [
       "0.7743322152455974"
      ]
     },
     "execution_count": 16,
     "metadata": {},
     "output_type": "execute_result"
    }
   ],
   "source": [
    "roc_auc_score(test_labels, y_pred)"
   ]
  },
  {
   "cell_type": "code",
   "execution_count": 17,
   "id": "7a81c1d4-3dff-4230-a7c7-4b621db13be4",
   "metadata": {
    "id": "gjmgGG3Kewlx",
    "tags": []
   },
   "outputs": [],
   "source": [
    "fpr, tpr, threshold = roc_curve(test_labels, y_pred)\n",
    "roc_auc = roc_auc_score(test_labels, y_pred)"
   ]
  },
  {
   "cell_type": "code",
   "execution_count": 18,
   "id": "dda55eb4-18d8-49df-9750-83d490d77b07",
   "metadata": {
    "colab": {
     "base_uri": "https://localhost:8080/",
     "height": 295
    },
    "executionInfo": {
     "elapsed": 503,
     "status": "ok",
     "timestamp": 1639087942662,
     "user": {
      "displayName": "Fran Vaquer",
      "photoUrl": "https://lh3.googleusercontent.com/a/default-user=s64",
      "userId": "05040906435658654965"
     },
     "user_tz": -60
    },
    "id": "xx7bFQUjez5m",
    "outputId": "ac149dff-5d87-4bf2-a342-2d4b785b157a",
    "tags": []
   },
   "outputs": [
    {
     "data": {
      "image/png": "[encoded data removed]",
      "text/plain": [
       "<Figure size 640x480 with 1 Axes>"
      ]
     },
     "metadata": {},
     "output_type": "display_data"
    }
   ],
   "source": [
    "plt.title('Receiver Operating Characteristic')\n",
    "plt.plot(fpr, tpr, 'b', label = 'AUC = %0.2f' % roc_auc)\n",
    "plt.legend(loc = 'lower right')\n",
    "plt.plot([0, 1], [0, 1],'r--')\n",
    "plt.xlim([0, 1])\n",
    "plt.ylim([0, 1])\n",
    "plt.ylabel('True Positive Rate')\n",
    "plt.xlabel('False Positive Rate')\n",
    "plt.show()"
   ]
  },
  {
   "cell_type": "markdown",
   "id": "e19a85a7-80fa-451f-ba73-ae3e0cd028ce",
   "metadata": {
    "id": "HnrAudROBmAI"
   },
   "source": [
    "### NB"
   ]
  },
  {
   "cell_type": "markdown",
   "id": "87453a0e-a586-4004-bdcb-ffd195b44063",
   "metadata": {},
   "source": [
    "#### Entrenamiento"
   ]
  },
  {
   "cell_type": "code",
   "execution_count": 19,
   "id": "42fd9c2f-3c5a-4980-8ac9-3b61ca11cf38",
   "metadata": {
    "colab": {
     "base_uri": "https://localhost:8080/"
    },
    "executionInfo": {
     "elapsed": 414,
     "status": "ok",
     "timestamp": 1638957755719,
     "user": {
      "displayName": "Fran Vaquer",
      "photoUrl": "https://lh3.googleusercontent.com/a/default-user=s64",
      "userId": "05040906435658654965"
     },
     "user_tz": -60
    },
    "id": "wmZS0PUtBmAI",
    "outputId": "00dee959-2db3-442b-d0c6-deb77d90d480",
    "tags": []
   },
   "outputs": [],
   "source": [
    "train_pipeline = Pipeline([('scaler', StandardScaler()), ('gb', GaussianNB())])"
   ]
  },
  {
   "cell_type": "code",
   "execution_count": 20,
   "id": "395de0ba-3da1-440a-9161-50b446a3b0b9",
   "metadata": {
    "tags": []
   },
   "outputs": [
    {
     "data": {
      "text/plain": [
       "Pipeline(steps=[('scaler', StandardScaler()), ('gb', GaussianNB())])"
      ]
     },
     "execution_count": 20,
     "metadata": {},
     "output_type": "execute_result"
    }
   ],
   "source": [
    "train_pipeline.fit(train_features, train_labels)"
   ]
  },
  {
   "cell_type": "markdown",
   "id": "6e9d2883-b44a-43a1-9123-b8e64f42457d",
   "metadata": {},
   "source": [
    "#### Evaluacion"
   ]
  },
  {
   "cell_type": "code",
   "execution_count": 21,
   "id": "a6048ba0-a285-42f0-b369-a95a725cb1d8",
   "metadata": {
    "id": "gXsrDSDDMed4",
    "tags": []
   },
   "outputs": [],
   "source": [
    "y_pred  = train_pipeline.predict(test_features)"
   ]
  },
  {
   "cell_type": "code",
   "execution_count": 22,
   "id": "ad925e47-243c-4124-8890-139202ca9cf7",
   "metadata": {
    "colab": {
     "base_uri": "https://localhost:8080/"
    },
    "executionInfo": {
     "elapsed": 3,
     "status": "ok",
     "timestamp": 1639087935169,
     "user": {
      "displayName": "Fran Vaquer",
      "photoUrl": "https://lh3.googleusercontent.com/a/default-user=s64",
      "userId": "05040906435658654965"
     },
     "user_tz": -60
    },
    "id": "MHDA7bYMdoCr",
    "outputId": "24815273-14ec-489a-f3ff-401d46ade1c9",
    "tags": []
   },
   "outputs": [
    {
     "name": "stdout",
     "output_type": "stream",
     "text": [
      "              precision    recall  f1-score   support\n",
      "\n",
      "         0.0       1.00      0.97      0.98    136343\n",
      "         1.0       0.12      0.45      0.19      1102\n",
      "\n",
      "    accuracy                           0.97    137445\n",
      "   macro avg       0.56      0.71      0.59    137445\n",
      "weighted avg       0.99      0.97      0.98    137445\n",
      "\n"
     ]
    }
   ],
   "source": [
    "print(classification_report(test_labels, y_pred))"
   ]
  },
  {
   "cell_type": "code",
   "execution_count": 23,
   "id": "6412741c-07c1-46aa-9d11-108614855516",
   "metadata": {
    "colab": {
     "base_uri": "https://localhost:8080/"
    },
    "executionInfo": {
     "elapsed": 1,
     "status": "ok",
     "timestamp": 1639087936213,
     "user": {
      "displayName": "Fran Vaquer",
      "photoUrl": "https://lh3.googleusercontent.com/a/default-user=s64",
      "userId": "05040906435658654965"
     },
     "user_tz": -60
    },
    "id": "jEIYLoXKeQMQ",
    "outputId": "889e4dce-5475-454e-d36e-4eebd87c6914",
    "tags": []
   },
   "outputs": [
    {
     "data": {
      "text/plain": [
       "array([[132718,   3625],\n",
       "       [   610,    492]])"
      ]
     },
     "execution_count": 23,
     "metadata": {},
     "output_type": "execute_result"
    }
   ],
   "source": [
    "confusion_matrix(test_labels, y_pred)"
   ]
  },
  {
   "cell_type": "code",
   "execution_count": 24,
   "id": "1d9665e6-7de8-44f5-91b6-58bf72b35eed",
   "metadata": {
    "colab": {
     "base_uri": "https://localhost:8080/"
    },
    "executionInfo": {
     "elapsed": 3,
     "status": "ok",
     "timestamp": 1639087937368,
     "user": {
      "displayName": "Fran Vaquer",
      "photoUrl": "https://lh3.googleusercontent.com/a/default-user=s64",
      "userId": "05040906435658654965"
     },
     "user_tz": -60
    },
    "id": "AXWQsvvodvIG",
    "outputId": "b5574b57-58b5-43ea-ce81-c62b115860d2",
    "tags": []
   },
   "outputs": [
    {
     "name": "stdout",
     "output_type": "stream",
     "text": [
      "                       Predicción No Programa Herencias  \\\n",
      "No Programa Herencias                            132718   \n",
      "Programa Herencias                                  610   \n",
      "\n",
      "                       Predicción Programa Herencias  \n",
      "No Programa Herencias                           3625  \n",
      "Programa Herencias                               492  \n"
     ]
    }
   ],
   "source": [
    "conf=pd.DataFrame(\n",
    "    confusion_matrix(test_labels, y_pred),\n",
    "    columns=['Predicción No Programa Herencias', 'Predicción Programa Herencias'],\n",
    "    index  =['No Programa Herencias', 'Programa Herencias']\n",
    ")\n",
    "print(conf)"
   ]
  },
  {
   "cell_type": "code",
   "execution_count": 25,
   "id": "8232f36c-a72b-46fb-addf-245772c99b0e",
   "metadata": {
    "colab": {
     "base_uri": "https://localhost:8080/"
    },
    "executionInfo": {
     "elapsed": 3,
     "status": "ok",
     "timestamp": 1639087938359,
     "user": {
      "displayName": "Fran Vaquer",
      "photoUrl": "https://lh3.googleusercontent.com/a/default-user=s64",
      "userId": "05040906435658654965"
     },
     "user_tz": -60
    },
    "id": "CU28npXveGN0",
    "outputId": "e560df3b-fdd8-4b15-c5c3-c4d722f15237",
    "tags": []
   },
   "outputs": [
    {
     "data": {
      "text/plain": [
       "0.969187675070028"
      ]
     },
     "execution_count": 25,
     "metadata": {},
     "output_type": "execute_result"
    }
   ],
   "source": [
    "accuracy_score(test_labels, y_pred)"
   ]
  },
  {
   "cell_type": "code",
   "execution_count": 26,
   "id": "9d776312-3a3a-4350-934a-12f272ef863f",
   "metadata": {
    "colab": {
     "base_uri": "https://localhost:8080/"
    },
    "executionInfo": {
     "elapsed": 2,
     "status": "ok",
     "timestamp": 1639087939362,
     "user": {
      "displayName": "Fran Vaquer",
      "photoUrl": "https://lh3.googleusercontent.com/a/default-user=s64",
      "userId": "05040906435658654965"
     },
     "user_tz": -60
    },
    "id": "_mtNLwPVeiOO",
    "outputId": "062ce7e4-6246-4aab-a087-cc9eebad10e5",
    "scrolled": true,
    "tags": []
   },
   "outputs": [
    {
     "data": {
      "text/plain": [
       "0.7099368115748111"
      ]
     },
     "execution_count": 26,
     "metadata": {},
     "output_type": "execute_result"
    }
   ],
   "source": [
    "roc_auc_score(test_labels, y_pred)"
   ]
  },
  {
   "cell_type": "code",
   "execution_count": 27,
   "id": "e49e2555-0a53-433d-906e-13d6367d6e16",
   "metadata": {
    "id": "gjmgGG3Kewlx",
    "tags": []
   },
   "outputs": [],
   "source": [
    "fpr, tpr, threshold = roc_curve(test_labels, y_pred)\n",
    "roc_auc = roc_auc_score(test_labels, y_pred)"
   ]
  },
  {
   "cell_type": "code",
   "execution_count": 28,
   "id": "8d0f2865-d1d2-47f8-877c-e0b65344fc28",
   "metadata": {
    "colab": {
     "base_uri": "https://localhost:8080/",
     "height": 295
    },
    "executionInfo": {
     "elapsed": 503,
     "status": "ok",
     "timestamp": 1639087942662,
     "user": {
      "displayName": "Fran Vaquer",
      "photoUrl": "https://lh3.googleusercontent.com/a/default-user=s64",
      "userId": "05040906435658654965"
     },
     "user_tz": -60
    },
    "id": "xx7bFQUjez5m",
    "outputId": "ac149dff-5d87-4bf2-a342-2d4b785b157a",
    "tags": []
   },
   "outputs": [
    {
     "data": {
      "image/png": "[encoded data removed]",
      "text/plain": [
       "<Figure size 640x480 with 1 Axes>"
      ]
     },
     "metadata": {},
     "output_type": "display_data"
    }
   ],
   "source": [
    "plt.title('Receiver Operating Characteristic')\n",
    "plt.plot(fpr, tpr, 'b', label = 'AUC = %0.2f' % roc_auc)\n",
    "plt.legend(loc = 'lower right')\n",
    "plt.plot([0, 1], [0, 1],'r--')\n",
    "plt.xlim([0, 1])\n",
    "plt.ylim([0, 1])\n",
    "plt.ylabel('True Positive Rate')\n",
    "plt.xlabel('False Positive Rate')\n",
    "plt.show()"
   ]
  },
  {
   "cell_type": "markdown",
   "id": "080f2e6e-0ce3-41de-88cb-06d7d0f616aa",
   "metadata": {
    "id": "HnrAudROBmAI"
   },
   "source": [
    "### RF Classifier"
   ]
  },
  {
   "cell_type": "markdown",
   "id": "e0858d5e-d306-4e89-8859-1eb20274106c",
   "metadata": {},
   "source": [
    "#### Entrenamiento"
   ]
  },
  {
   "cell_type": "code",
   "execution_count": 29,
   "id": "f59d0666-89e3-4e53-9986-e323ebeb77d9",
   "metadata": {
    "colab": {
     "base_uri": "https://localhost:8080/"
    },
    "executionInfo": {
     "elapsed": 414,
     "status": "ok",
     "timestamp": 1638957755719,
     "user": {
      "displayName": "Fran Vaquer",
      "photoUrl": "https://lh3.googleusercontent.com/a/default-user=s64",
      "userId": "05040906435658654965"
     },
     "user_tz": -60
    },
    "id": "wmZS0PUtBmAI",
    "outputId": "00dee959-2db3-442b-d0c6-deb77d90d480"
   },
   "outputs": [],
   "source": [
    "train_pipeline = Pipeline([('scaler', StandardScaler()), ('rf', RandomForestClassifier(max_depth=2, random_state=0))])"
   ]
  },
  {
   "cell_type": "code",
   "execution_count": 30,
   "id": "eb95c247-8435-4149-bc9b-90ab83233eb8",
   "metadata": {
    "tags": []
   },
   "outputs": [
    {
     "data": {
      "text/plain": [
       "Pipeline(steps=[('scaler', StandardScaler()),\n",
       "                ('rf', RandomForestClassifier(max_depth=2, random_state=0))])"
      ]
     },
     "execution_count": 30,
     "metadata": {},
     "output_type": "execute_result"
    }
   ],
   "source": [
    "train_pipeline.fit(train_features, train_labels)"
   ]
  },
  {
   "cell_type": "markdown",
   "id": "a96ccc69-98bb-413e-9cac-8eaf2d04427a",
   "metadata": {},
   "source": [
    "#### Evaluacion"
   ]
  },
  {
   "cell_type": "code",
   "execution_count": 31,
   "id": "ea01a267-f480-46f6-9a44-1d62c97bd604",
   "metadata": {
    "id": "gXsrDSDDMed4",
    "tags": []
   },
   "outputs": [],
   "source": [
    "y_pred  = train_pipeline.predict(test_features)"
   ]
  },
  {
   "cell_type": "code",
   "execution_count": 32,
   "id": "f5246494-a3cd-49f2-891c-e2b0eba78384",
   "metadata": {
    "colab": {
     "base_uri": "https://localhost:8080/"
    },
    "executionInfo": {
     "elapsed": 3,
     "status": "ok",
     "timestamp": 1639087935169,
     "user": {
      "displayName": "Fran Vaquer",
      "photoUrl": "https://lh3.googleusercontent.com/a/default-user=s64",
      "userId": "05040906435658654965"
     },
     "user_tz": -60
    },
    "id": "MHDA7bYMdoCr",
    "outputId": "24815273-14ec-489a-f3ff-401d46ade1c9",
    "tags": []
   },
   "outputs": [
    {
     "name": "stdout",
     "output_type": "stream",
     "text": [
      "              precision    recall  f1-score   support\n",
      "\n",
      "         0.0       0.99      1.00      1.00    136343\n",
      "         1.0       0.00      0.00      0.00      1102\n",
      "\n",
      "    accuracy                           0.99    137445\n",
      "   macro avg       0.50      0.50      0.50    137445\n",
      "weighted avg       0.98      0.99      0.99    137445\n",
      "\n"
     ]
    },
    {
     "name": "stderr",
     "output_type": "stream",
     "text": [
      "/opt/conda/lib/python3.10/site-packages/sklearn/metrics/_classification.py:1308: UndefinedMetricWarning: Precision and F-score are ill-defined and being set to 0.0 in labels with no predicted samples. Use `zero_division` parameter to control this behavior.\n",
      "  _warn_prf(average, modifier, msg_start, len(result))\n",
      "/opt/conda/lib/python3.10/site-packages/sklearn/metrics/_classification.py:1308: UndefinedMetricWarning: Precision and F-score are ill-defined and being set to 0.0 in labels with no predicted samples. Use `zero_division` parameter to control this behavior.\n",
      "  _warn_prf(average, modifier, msg_start, len(result))\n",
      "/opt/conda/lib/python3.10/site-packages/sklearn/metrics/_classification.py:1308: UndefinedMetricWarning: Precision and F-score are ill-defined and being set to 0.0 in labels with no predicted samples. Use `zero_division` parameter to control this behavior.\n",
      "  _warn_prf(average, modifier, msg_start, len(result))\n"
     ]
    }
   ],
   "source": [
    "print(classification_report(test_labels, y_pred))"
   ]
  },
  {
   "cell_type": "code",
   "execution_count": 33,
   "id": "636a87c9-a284-4333-84c4-0a49f2668413",
   "metadata": {
    "colab": {
     "base_uri": "https://localhost:8080/"
    },
    "executionInfo": {
     "elapsed": 1,
     "status": "ok",
     "timestamp": 1639087936213,
     "user": {
      "displayName": "Fran Vaquer",
      "photoUrl": "https://lh3.googleusercontent.com/a/default-user=s64",
      "userId": "05040906435658654965"
     },
     "user_tz": -60
    },
    "id": "jEIYLoXKeQMQ",
    "outputId": "889e4dce-5475-454e-d36e-4eebd87c6914",
    "tags": []
   },
   "outputs": [
    {
     "data": {
      "text/plain": [
       "array([[136343,      0],\n",
       "       [  1102,      0]])"
      ]
     },
     "execution_count": 33,
     "metadata": {},
     "output_type": "execute_result"
    }
   ],
   "source": [
    "confusion_matrix(test_labels, y_pred)"
   ]
  },
  {
   "cell_type": "code",
   "execution_count": 34,
   "id": "132fdb2d-1e58-4624-92dc-ca3224931828",
   "metadata": {
    "colab": {
     "base_uri": "https://localhost:8080/"
    },
    "executionInfo": {
     "elapsed": 3,
     "status": "ok",
     "timestamp": 1639087937368,
     "user": {
      "displayName": "Fran Vaquer",
      "photoUrl": "https://lh3.googleusercontent.com/a/default-user=s64",
      "userId": "05040906435658654965"
     },
     "user_tz": -60
    },
    "id": "AXWQsvvodvIG",
    "outputId": "b5574b57-58b5-43ea-ce81-c62b115860d2",
    "tags": []
   },
   "outputs": [
    {
     "name": "stdout",
     "output_type": "stream",
     "text": [
      "                       Predicción No Programa Herencias  \\\n",
      "No Programa Herencias                            136343   \n",
      "Programa Herencias                                 1102   \n",
      "\n",
      "                       Predicción Programa Herencias  \n",
      "No Programa Herencias                              0  \n",
      "Programa Herencias                                 0  \n"
     ]
    }
   ],
   "source": [
    "conf=pd.DataFrame(\n",
    "    confusion_matrix(test_labels, y_pred),\n",
    "    columns=['Predicción No Programa Herencias', 'Predicción Programa Herencias'],\n",
    "    index  =['No Programa Herencias', 'Programa Herencias']\n",
    ")\n",
    "print(conf)"
   ]
  },
  {
   "cell_type": "code",
   "execution_count": 35,
   "id": "501c6a7a-8607-44d1-af1a-beb5918edd65",
   "metadata": {
    "colab": {
     "base_uri": "https://localhost:8080/"
    },
    "executionInfo": {
     "elapsed": 3,
     "status": "ok",
     "timestamp": 1639087938359,
     "user": {
      "displayName": "Fran Vaquer",
      "photoUrl": "https://lh3.googleusercontent.com/a/default-user=s64",
      "userId": "05040906435658654965"
     },
     "user_tz": -60
    },
    "id": "CU28npXveGN0",
    "outputId": "e560df3b-fdd8-4b15-c5c3-c4d722f15237",
    "tags": []
   },
   "outputs": [
    {
     "data": {
      "text/plain": [
       "0.9919822474444323"
      ]
     },
     "execution_count": 35,
     "metadata": {},
     "output_type": "execute_result"
    }
   ],
   "source": [
    "accuracy_score(test_labels, y_pred)"
   ]
  },
  {
   "cell_type": "code",
   "execution_count": 36,
   "id": "89f1572c-3cc4-4641-b5b2-a6188d14505d",
   "metadata": {
    "colab": {
     "base_uri": "https://localhost:8080/"
    },
    "executionInfo": {
     "elapsed": 2,
     "status": "ok",
     "timestamp": 1639087939362,
     "user": {
      "displayName": "Fran Vaquer",
      "photoUrl": "https://lh3.googleusercontent.com/a/default-user=s64",
      "userId": "05040906435658654965"
     },
     "user_tz": -60
    },
    "id": "_mtNLwPVeiOO",
    "outputId": "062ce7e4-6246-4aab-a087-cc9eebad10e5",
    "scrolled": true,
    "tags": []
   },
   "outputs": [
    {
     "data": {
      "text/plain": [
       "0.5"
      ]
     },
     "execution_count": 36,
     "metadata": {},
     "output_type": "execute_result"
    }
   ],
   "source": [
    "roc_auc_score(test_labels, y_pred)"
   ]
  },
  {
   "cell_type": "code",
   "execution_count": 37,
   "id": "fba0fb1d-64ac-44b3-9726-8eb0664972db",
   "metadata": {
    "id": "gjmgGG3Kewlx",
    "tags": []
   },
   "outputs": [],
   "source": [
    "fpr, tpr, threshold = roc_curve(test_labels, y_pred)\n",
    "roc_auc = roc_auc_score(test_labels, y_pred)"
   ]
  },
  {
   "cell_type": "code",
   "execution_count": 38,
   "id": "d94baecc-92f4-4969-95e3-e4943b8af141",
   "metadata": {
    "colab": {
     "base_uri": "https://localhost:8080/",
     "height": 295
    },
    "executionInfo": {
     "elapsed": 503,
     "status": "ok",
     "timestamp": 1639087942662,
     "user": {
      "displayName": "Fran Vaquer",
      "photoUrl": "https://lh3.googleusercontent.com/a/default-user=s64",
      "userId": "05040906435658654965"
     },
     "user_tz": -60
    },
    "id": "xx7bFQUjez5m",
    "outputId": "ac149dff-5d87-4bf2-a342-2d4b785b157a",
    "tags": []
   },
   "outputs": [
    {
     "data": {
      "image/png": "[encoded data removed]",
      "text/plain": [
       "<Figure size 640x480 with 1 Axes>"
      ]
     },
     "metadata": {},
     "output_type": "display_data"
    }
   ],
   "source": [
    "plt.title('Receiver Operating Characteristic')\n",
    "plt.plot(fpr, tpr, 'b', label = 'AUC = %0.2f' % roc_auc)\n",
    "plt.legend(loc = 'lower right')\n",
    "plt.plot([0, 1], [0, 1],'r--')\n",
    "plt.xlim([0, 1])\n",
    "plt.ylim([0, 1])\n",
    "plt.ylabel('True Positive Rate')\n",
    "plt.xlabel('False Positive Rate')\n",
    "plt.show()"
   ]
  },
  {
   "cell_type": "markdown",
   "id": "801f4327-7cdb-42d6-b1e9-d7274b9e30c5",
   "metadata": {
    "id": "Zkn73Mg4e8zd"
   },
   "source": [
    "### MLP Classifier\n",
    "- Modelo baseline"
   ]
  },
  {
   "cell_type": "markdown",
   "id": "df5e647f-22b1-40c1-b9a6-4e2ce367806e",
   "metadata": {},
   "source": [
    "#### Entrenamiento"
   ]
  },
  {
   "cell_type": "code",
   "execution_count": 39,
   "id": "c21b78af-7385-4b95-a463-c8cd8fcdf07a",
   "metadata": {
    "tags": []
   },
   "outputs": [],
   "source": [
    "train_pipeline = Pipeline([('scaler', StandardScaler()), ('mlp', MLPClassifier(random_state=0, max_iter=25))])"
   ]
  },
  {
   "cell_type": "code",
   "execution_count": 40,
   "id": "e0c4efe4-5cc6-41c4-bffd-a77d2410ca09",
   "metadata": {
    "tags": []
   },
   "outputs": [
    {
     "name": "stderr",
     "output_type": "stream",
     "text": [
      "/opt/conda/lib/python3.10/site-packages/sklearn/neural_network/_multilayer_perceptron.py:692: ConvergenceWarning: Stochastic Optimizer: Maximum iterations (25) reached and the optimization hasn't converged yet.\n",
      "  warnings.warn(\n"
     ]
    },
    {
     "data": {
      "text/plain": [
       "Pipeline(steps=[('scaler', StandardScaler()),\n",
       "                ('mlp', MLPClassifier(max_iter=25, random_state=0))])"
      ]
     },
     "execution_count": 40,
     "metadata": {},
     "output_type": "execute_result"
    }
   ],
   "source": [
    "train_pipeline.fit(train_features, train_labels)"
   ]
  },
  {
   "cell_type": "markdown",
   "id": "09adb39c-3eeb-42e2-8058-74cd5607555a",
   "metadata": {},
   "source": [
    "#### Evaluacion"
   ]
  },
  {
   "cell_type": "code",
   "execution_count": 41,
   "id": "6237d300-dda3-4c9e-80bb-ff6d54bd6bf5",
   "metadata": {
    "id": "gXsrDSDDMed4",
    "tags": []
   },
   "outputs": [],
   "source": [
    "y_pred  = train_pipeline.predict(test_features)"
   ]
  },
  {
   "cell_type": "code",
   "execution_count": 42,
   "id": "76c9b33e-249a-4c86-8a38-331d7bdd2bfc",
   "metadata": {
    "colab": {
     "base_uri": "https://localhost:8080/"
    },
    "executionInfo": {
     "elapsed": 3,
     "status": "ok",
     "timestamp": 1639087935169,
     "user": {
      "displayName": "Fran Vaquer",
      "photoUrl": "https://lh3.googleusercontent.com/a/default-user=s64",
      "userId": "05040906435658654965"
     },
     "user_tz": -60
    },
    "id": "MHDA7bYMdoCr",
    "outputId": "24815273-14ec-489a-f3ff-401d46ade1c9",
    "tags": []
   },
   "outputs": [
    {
     "name": "stdout",
     "output_type": "stream",
     "text": [
      "              precision    recall  f1-score   support\n",
      "\n",
      "         0.0       1.00      1.00      1.00    136343\n",
      "         1.0       0.92      0.63      0.75      1102\n",
      "\n",
      "    accuracy                           1.00    137445\n",
      "   macro avg       0.96      0.81      0.87    137445\n",
      "weighted avg       1.00      1.00      1.00    137445\n",
      "\n"
     ]
    }
   ],
   "source": [
    "print(classification_report(test_labels, y_pred))"
   ]
  },
  {
   "cell_type": "code",
   "execution_count": 43,
   "id": "4179368a-3391-4f33-b9bc-c5a03fe6c892",
   "metadata": {
    "colab": {
     "base_uri": "https://localhost:8080/"
    },
    "executionInfo": {
     "elapsed": 1,
     "status": "ok",
     "timestamp": 1639087936213,
     "user": {
      "displayName": "Fran Vaquer",
      "photoUrl": "https://lh3.googleusercontent.com/a/default-user=s64",
      "userId": "05040906435658654965"
     },
     "user_tz": -60
    },
    "id": "jEIYLoXKeQMQ",
    "outputId": "889e4dce-5475-454e-d36e-4eebd87c6914",
    "tags": []
   },
   "outputs": [
    {
     "data": {
      "text/plain": [
       "array([[136285,     58],\n",
       "       [   411,    691]])"
      ]
     },
     "execution_count": 43,
     "metadata": {},
     "output_type": "execute_result"
    }
   ],
   "source": [
    "confusion_matrix(test_labels, y_pred)"
   ]
  },
  {
   "cell_type": "code",
   "execution_count": 44,
   "id": "bb364901-a181-4699-b097-f7c7ba86a4b0",
   "metadata": {
    "colab": {
     "base_uri": "https://localhost:8080/"
    },
    "executionInfo": {
     "elapsed": 3,
     "status": "ok",
     "timestamp": 1639087937368,
     "user": {
      "displayName": "Fran Vaquer",
      "photoUrl": "https://lh3.googleusercontent.com/a/default-user=s64",
      "userId": "05040906435658654965"
     },
     "user_tz": -60
    },
    "id": "AXWQsvvodvIG",
    "outputId": "b5574b57-58b5-43ea-ce81-c62b115860d2",
    "tags": []
   },
   "outputs": [
    {
     "name": "stdout",
     "output_type": "stream",
     "text": [
      "                       Predicción No Programa Herencias  \\\n",
      "No Programa Herencias                            136285   \n",
      "Programa Herencias                                  411   \n",
      "\n",
      "                       Predicción Programa Herencias  \n",
      "No Programa Herencias                             58  \n",
      "Programa Herencias                               691  \n"
     ]
    }
   ],
   "source": [
    "conf=pd.DataFrame(\n",
    "    confusion_matrix(test_labels, y_pred),\n",
    "    columns=['Predicción No Programa Herencias', 'Predicción Programa Herencias'],\n",
    "    index  =['No Programa Herencias', 'Programa Herencias']\n",
    ")\n",
    "print(conf)"
   ]
  },
  {
   "cell_type": "code",
   "execution_count": 45,
   "id": "5b6e99e8-6a4b-4122-9698-9079c7de2188",
   "metadata": {
    "colab": {
     "base_uri": "https://localhost:8080/"
    },
    "executionInfo": {
     "elapsed": 3,
     "status": "ok",
     "timestamp": 1639087938359,
     "user": {
      "displayName": "Fran Vaquer",
      "photoUrl": "https://lh3.googleusercontent.com/a/default-user=s64",
      "userId": "05040906435658654965"
     },
     "user_tz": -60
    },
    "id": "CU28npXveGN0",
    "outputId": "e560df3b-fdd8-4b15-c5c3-c4d722f15237",
    "tags": []
   },
   "outputs": [
    {
     "data": {
      "text/plain": [
       "0.9965877259994907"
      ]
     },
     "execution_count": 45,
     "metadata": {},
     "output_type": "execute_result"
    }
   ],
   "source": [
    "accuracy_score(test_labels, y_pred)"
   ]
  },
  {
   "cell_type": "code",
   "execution_count": 46,
   "id": "c2d72eb1-0354-43f9-ad88-45c7faa5f921",
   "metadata": {
    "colab": {
     "base_uri": "https://localhost:8080/"
    },
    "executionInfo": {
     "elapsed": 2,
     "status": "ok",
     "timestamp": 1639087939362,
     "user": {
      "displayName": "Fran Vaquer",
      "photoUrl": "https://lh3.googleusercontent.com/a/default-user=s64",
      "userId": "05040906435658654965"
     },
     "user_tz": -60
    },
    "id": "_mtNLwPVeiOO",
    "outputId": "062ce7e4-6246-4aab-a087-cc9eebad10e5",
    "scrolled": true,
    "tags": []
   },
   "outputs": [
    {
     "data": {
      "text/plain": [
       "0.8133081722882822"
      ]
     },
     "execution_count": 46,
     "metadata": {},
     "output_type": "execute_result"
    }
   ],
   "source": [
    "roc_auc_score(test_labels, y_pred)"
   ]
  },
  {
   "cell_type": "code",
   "execution_count": 47,
   "id": "9aeb0b7a-37e7-40cf-b9a1-5a547c05f997",
   "metadata": {
    "id": "gjmgGG3Kewlx",
    "tags": []
   },
   "outputs": [],
   "source": [
    "fpr, tpr, threshold = roc_curve(test_labels, y_pred)\n",
    "roc_auc = roc_auc_score(test_labels, y_pred)"
   ]
  },
  {
   "cell_type": "code",
   "execution_count": 48,
   "id": "853f5ca9-2b29-483c-8147-9ce1198eee6d",
   "metadata": {
    "colab": {
     "base_uri": "https://localhost:8080/",
     "height": 295
    },
    "executionInfo": {
     "elapsed": 503,
     "status": "ok",
     "timestamp": 1639087942662,
     "user": {
      "displayName": "Fran Vaquer",
      "photoUrl": "https://lh3.googleusercontent.com/a/default-user=s64",
      "userId": "05040906435658654965"
     },
     "user_tz": -60
    },
    "id": "xx7bFQUjez5m",
    "outputId": "ac149dff-5d87-4bf2-a342-2d4b785b157a",
    "tags": []
   },
   "outputs": [
    {
     "data": {
      "image/png": "[encoded data removed]",
      "text/plain": [
       "<Figure size 640x480 with 1 Axes>"
      ]
     },
     "metadata": {},
     "output_type": "display_data"
    }
   ],
   "source": [
    "plt.title('Receiver Operating Characteristic')\n",
    "plt.plot(fpr, tpr, 'b', label = 'AUC = %0.2f' % roc_auc)\n",
    "plt.legend(loc = 'lower right')\n",
    "plt.plot([0, 1], [0, 1],'r--')\n",
    "plt.xlim([0, 1])\n",
    "plt.ylim([0, 1])\n",
    "plt.ylabel('True Positive Rate')\n",
    "plt.xlabel('False Positive Rate')\n",
    "plt.show()"
   ]
  },
  {
   "cell_type": "markdown",
   "id": "50514ead-0de1-4051-bba1-548692ffa0db",
   "metadata": {
    "id": "Zkn73Mg4e8zd"
   },
   "source": [
    "### Conclusiones\n",
    "- Se detecta un desbalanceo de clases, que hace que el modelo tienda a predecir que no tiene programa herencias.\n",
    "- Parece que funciona mejor una regresión logistica, ya que es menos sensible a desbalanceos de datos"
   ]
  },
  {
   "cell_type": "markdown",
   "id": "48afe6ee-69c0-4517-bc78-18b1a7ba2ae4",
   "metadata": {
    "tags": []
   },
   "source": [
    "## Tratamiento desbalanceo de clases"
   ]
  },
  {
   "cell_type": "markdown",
   "id": "ddfb9c36-c65a-46ca-8c8a-45572f73c44f",
   "metadata": {
    "tags": []
   },
   "source": [
    "### Eliminar registros clase mayoritaria"
   ]
  },
  {
   "cell_type": "markdown",
   "id": "32f5e77e-7899-4929-9328-9414a9ed6b15",
   "metadata": {
    "tags": []
   },
   "source": [
    "#### Generamos dataset"
   ]
  },
  {
   "cell_type": "code",
   "execution_count": 49,
   "id": "52a7df03-0e39-4e79-a0b9-482c2062c7c1",
   "metadata": {
    "tags": []
   },
   "outputs": [],
   "source": [
    "variables_salida_bal = list(df_preprocessed.columns)\n",
    "variables_salida_bal.remove(\"cnt_id\")\n",
    "variables_salida_bal.remove(\"cnt_programaherencias\")"
   ]
  },
  {
   "cell_type": "code",
   "execution_count": 50,
   "id": "038f2051-dd5f-400e-ab82-798dcfa521f3",
   "metadata": {
    "scrolled": true,
    "tags": []
   },
   "outputs": [
    {
     "data": {
      "text/html": [
       "<div>\n",
       "<style scoped>\n",
       "    .dataframe tbody tr th:only-of-type {\n",
       "        vertical-align: middle;\n",
       "    }\n",
       "\n",
       "    .dataframe tbody tr th {\n",
       "        vertical-align: top;\n",
       "    }\n",
       "\n",
       "    .dataframe thead th {\n",
       "        text-align: right;\n",
       "    }\n",
       "</style>\n",
       "<table border=\"1\" class=\"dataframe\">\n",
       "  <thead>\n",
       "    <tr style=\"text-align: right;\">\n",
       "      <th></th>\n",
       "      <th>cnt_programais</th>\n",
       "      <th>cmp_isemergency</th>\n",
       "      <th>opp_rating_Caliente</th>\n",
       "      <th>opp_rating_Frio</th>\n",
       "      <th>opp_rating_Templado</th>\n",
       "      <th>opp_stagename_Cobrada</th>\n",
       "      <th>opp_stagename_Puesta al cobro</th>\n",
       "      <th>opp_program_Conversion prospectos</th>\n",
       "      <th>opp_program_Cultivacion socios MASS</th>\n",
       "      <th>opp_program_Cultivacion socios MID</th>\n",
       "      <th>...</th>\n",
       "      <th>cmp_status_Created</th>\n",
       "      <th>cmp_status_In Progress</th>\n",
       "      <th>rcd_installmentperiod_Bimensual</th>\n",
       "      <th>rcd_installmentperiod_Monthly</th>\n",
       "      <th>rcd_installmentperiod_Quarterly</th>\n",
       "      <th>rcd_installmentperiod_Semestral</th>\n",
       "      <th>rcd_installmentperiod_Yearly</th>\n",
       "      <th>opp_type_Membership</th>\n",
       "      <th>opp_type_Recurrent Donation</th>\n",
       "      <th>Target</th>\n",
       "    </tr>\n",
       "  </thead>\n",
       "  <tbody>\n",
       "    <tr>\n",
       "      <th>0</th>\n",
       "      <td>0.0</td>\n",
       "      <td>0.0</td>\n",
       "      <td>1.0</td>\n",
       "      <td>0.0</td>\n",
       "      <td>0.0</td>\n",
       "      <td>1.0</td>\n",
       "      <td>1.0</td>\n",
       "      <td>0.0</td>\n",
       "      <td>1.0</td>\n",
       "      <td>0.0</td>\n",
       "      <td>...</td>\n",
       "      <td>0.0</td>\n",
       "      <td>0.0</td>\n",
       "      <td>0.0</td>\n",
       "      <td>0.0</td>\n",
       "      <td>1.0</td>\n",
       "      <td>0.0</td>\n",
       "      <td>0.0</td>\n",
       "      <td>0.0</td>\n",
       "      <td>1.0</td>\n",
       "      <td>1.0</td>\n",
       "    </tr>\n",
       "    <tr>\n",
       "      <th>1</th>\n",
       "      <td>0.0</td>\n",
       "      <td>0.0</td>\n",
       "      <td>1.0</td>\n",
       "      <td>0.0</td>\n",
       "      <td>0.0</td>\n",
       "      <td>1.0</td>\n",
       "      <td>1.0</td>\n",
       "      <td>0.0</td>\n",
       "      <td>1.0</td>\n",
       "      <td>0.0</td>\n",
       "      <td>...</td>\n",
       "      <td>0.0</td>\n",
       "      <td>0.0</td>\n",
       "      <td>0.0</td>\n",
       "      <td>0.0</td>\n",
       "      <td>1.0</td>\n",
       "      <td>0.0</td>\n",
       "      <td>0.0</td>\n",
       "      <td>0.0</td>\n",
       "      <td>1.0</td>\n",
       "      <td>1.0</td>\n",
       "    </tr>\n",
       "    <tr>\n",
       "      <th>2</th>\n",
       "      <td>0.0</td>\n",
       "      <td>0.0</td>\n",
       "      <td>1.0</td>\n",
       "      <td>0.0</td>\n",
       "      <td>0.0</td>\n",
       "      <td>1.0</td>\n",
       "      <td>1.0</td>\n",
       "      <td>0.0</td>\n",
       "      <td>1.0</td>\n",
       "      <td>0.0</td>\n",
       "      <td>...</td>\n",
       "      <td>0.0</td>\n",
       "      <td>1.0</td>\n",
       "      <td>0.0</td>\n",
       "      <td>1.0</td>\n",
       "      <td>0.0</td>\n",
       "      <td>0.0</td>\n",
       "      <td>0.0</td>\n",
       "      <td>0.0</td>\n",
       "      <td>1.0</td>\n",
       "      <td>1.0</td>\n",
       "    </tr>\n",
       "    <tr>\n",
       "      <th>3</th>\n",
       "      <td>0.0</td>\n",
       "      <td>0.0</td>\n",
       "      <td>1.0</td>\n",
       "      <td>0.0</td>\n",
       "      <td>0.0</td>\n",
       "      <td>1.0</td>\n",
       "      <td>1.0</td>\n",
       "      <td>0.0</td>\n",
       "      <td>1.0</td>\n",
       "      <td>0.0</td>\n",
       "      <td>...</td>\n",
       "      <td>0.0</td>\n",
       "      <td>1.0</td>\n",
       "      <td>0.0</td>\n",
       "      <td>1.0</td>\n",
       "      <td>0.0</td>\n",
       "      <td>0.0</td>\n",
       "      <td>0.0</td>\n",
       "      <td>0.0</td>\n",
       "      <td>1.0</td>\n",
       "      <td>1.0</td>\n",
       "    </tr>\n",
       "    <tr>\n",
       "      <th>4</th>\n",
       "      <td>0.0</td>\n",
       "      <td>0.0</td>\n",
       "      <td>0.0</td>\n",
       "      <td>0.0</td>\n",
       "      <td>1.0</td>\n",
       "      <td>0.0</td>\n",
       "      <td>0.0</td>\n",
       "      <td>1.0</td>\n",
       "      <td>0.0</td>\n",
       "      <td>0.0</td>\n",
       "      <td>...</td>\n",
       "      <td>1.0</td>\n",
       "      <td>0.0</td>\n",
       "      <td>0.0</td>\n",
       "      <td>0.0</td>\n",
       "      <td>0.0</td>\n",
       "      <td>0.0</td>\n",
       "      <td>0.0</td>\n",
       "      <td>0.0</td>\n",
       "      <td>0.0</td>\n",
       "      <td>1.0</td>\n",
       "    </tr>\n",
       "  </tbody>\n",
       "</table>\n",
       "<p>5 rows × 96 columns</p>\n",
       "</div>"
      ],
      "text/plain": [
       "   cnt_programais  cmp_isemergency  opp_rating_Caliente  opp_rating_Frio  \\\n",
       "0             0.0              0.0                  1.0              0.0   \n",
       "1             0.0              0.0                  1.0              0.0   \n",
       "2             0.0              0.0                  1.0              0.0   \n",
       "3             0.0              0.0                  1.0              0.0   \n",
       "4             0.0              0.0                  0.0              0.0   \n",
       "\n",
       "   opp_rating_Templado  opp_stagename_Cobrada  opp_stagename_Puesta al cobro  \\\n",
       "0                  0.0                    1.0                            1.0   \n",
       "1                  0.0                    1.0                            1.0   \n",
       "2                  0.0                    1.0                            1.0   \n",
       "3                  0.0                    1.0                            1.0   \n",
       "4                  1.0                    0.0                            0.0   \n",
       "\n",
       "   opp_program_Conversion prospectos  opp_program_Cultivacion socios MASS  \\\n",
       "0                                0.0                                  1.0   \n",
       "1                                0.0                                  1.0   \n",
       "2                                0.0                                  1.0   \n",
       "3                                0.0                                  1.0   \n",
       "4                                1.0                                  0.0   \n",
       "\n",
       "   opp_program_Cultivacion socios MID  ...  cmp_status_Created  \\\n",
       "0                                 0.0  ...                 0.0   \n",
       "1                                 0.0  ...                 0.0   \n",
       "2                                 0.0  ...                 0.0   \n",
       "3                                 0.0  ...                 0.0   \n",
       "4                                 0.0  ...                 1.0   \n",
       "\n",
       "   cmp_status_In Progress  rcd_installmentperiod_Bimensual  \\\n",
       "0                     0.0                              0.0   \n",
       "1                     0.0                              0.0   \n",
       "2                     1.0                              0.0   \n",
       "3                     1.0                              0.0   \n",
       "4                     0.0                              0.0   \n",
       "\n",
       "   rcd_installmentperiod_Monthly  rcd_installmentperiod_Quarterly  \\\n",
       "0                            0.0                              1.0   \n",
       "1                            0.0                              1.0   \n",
       "2                            1.0                              0.0   \n",
       "3                            1.0                              0.0   \n",
       "4                            0.0                              0.0   \n",
       "\n",
       "   rcd_installmentperiod_Semestral  rcd_installmentperiod_Yearly  \\\n",
       "0                              0.0                           0.0   \n",
       "1                              0.0                           0.0   \n",
       "2                              0.0                           0.0   \n",
       "3                              0.0                           0.0   \n",
       "4                              0.0                           0.0   \n",
       "\n",
       "   opp_type_Membership  opp_type_Recurrent Donation  Target  \n",
       "0                  0.0                          1.0     1.0  \n",
       "1                  0.0                          1.0     1.0  \n",
       "2                  0.0                          1.0     1.0  \n",
       "3                  0.0                          1.0     1.0  \n",
       "4                  0.0                          0.0     1.0  \n",
       "\n",
       "[5 rows x 96 columns]"
      ]
     },
     "execution_count": 50,
     "metadata": {},
     "output_type": "execute_result"
    }
   ],
   "source": [
    "# Select the rows in df_train dataframe where Target == 1\n",
    "data_to_balanced_df = pd.DataFrame(train_features, columns = variables_salida_bal)\n",
    "data_to_balanced_df['Target'] = train_labels\n",
    "\n",
    "herencias_df = data_to_balanced_df[data_to_balanced_df['Target'] == 1]\n",
    "\n",
    "# Select the rows in df_train dataframe where Target == 0\n",
    "non_herencias_df = data_to_balanced_df[data_to_balanced_df['Target'] == 0].sample(herencias_df.shape[0], random_state=235)\n",
    "\n",
    "balanced_df = pd.concat([herencias_df, non_herencias_df], ignore_index=True, sort=False)\n",
    "\n",
    "balanced_df.head()"
   ]
  },
  {
   "cell_type": "code",
   "execution_count": 51,
   "id": "b220c917-82b3-4d72-9a97-0edf74f5886e",
   "metadata": {
    "tags": []
   },
   "outputs": [
    {
     "data": {
      "text/plain": [
       "Text(0.5, 1.0, 'Balanced Distribution of the dataset')"
      ]
     },
     "execution_count": 51,
     "metadata": {},
     "output_type": "execute_result"
    },
    {
     "data": {
      "image/png": "[encoded data removed]",
      "text/plain": [
       "<Figure size 640x480 with 1 Axes>"
      ]
     },
     "metadata": {},
     "output_type": "display_data"
    }
   ],
   "source": [
    "sns.countplot(x=balanced_df[\"Target\"])\n",
    "plt.title('Balanced Distribution of the dataset')"
   ]
  },
  {
   "cell_type": "code",
   "execution_count": 52,
   "id": "cd7356cf-02b8-4707-9370-efc8ddac147c",
   "metadata": {
    "tags": []
   },
   "outputs": [
    {
     "data": {
      "text/plain": [
       "(8816, 96)"
      ]
     },
     "execution_count": 52,
     "metadata": {},
     "output_type": "execute_result"
    }
   ],
   "source": [
    "balanced_df.shape"
   ]
  },
  {
   "cell_type": "markdown",
   "id": "b1fe8059-631e-49a7-bd68-1617a5b46800",
   "metadata": {
    "id": "Zkn73Mg4e8zd"
   },
   "source": [
    "#### REGRESIÓN LOGÍSTICA"
   ]
  },
  {
   "cell_type": "markdown",
   "id": "bf7407e0-4e4b-4ca2-88a2-a2254378db7b",
   "metadata": {},
   "source": [
    "##### Entrenamiento"
   ]
  },
  {
   "cell_type": "code",
   "execution_count": 53,
   "id": "6527379a-b7ce-4c70-a7a7-f69febddbf64",
   "metadata": {
    "tags": []
   },
   "outputs": [],
   "source": [
    "train_pipeline = Pipeline([('scaler', StandardScaler()), ('lf', LogisticRegression(random_state = 0))])"
   ]
  },
  {
   "cell_type": "code",
   "execution_count": 54,
   "id": "55355cf1-7afc-4bb3-bfe7-a863f61947bb",
   "metadata": {
    "tags": []
   },
   "outputs": [
    {
     "name": "stderr",
     "output_type": "stream",
     "text": [
      "/opt/conda/lib/python3.10/site-packages/sklearn/linear_model/_logistic.py:814: ConvergenceWarning: lbfgs failed to converge (status=1):\n",
      "STOP: TOTAL NO. of ITERATIONS REACHED LIMIT.\n",
      "\n",
      "Increase the number of iterations (max_iter) or scale the data as shown in:\n",
      "    https://scikit-learn.org/stable/modules/preprocessing.html\n",
      "Please also refer to the documentation for alternative solver options:\n",
      "    https://scikit-learn.org/stable/modules/linear_model.html#logistic-regression\n",
      "  n_iter_i = _check_optimize_result(\n"
     ]
    },
    {
     "data": {
      "text/plain": [
       "Pipeline(steps=[('scaler', StandardScaler()),\n",
       "                ('lf', LogisticRegression(random_state=0))])"
      ]
     },
     "execution_count": 54,
     "metadata": {},
     "output_type": "execute_result"
    }
   ],
   "source": [
    "train_pipeline.fit(balanced_df.drop([\"Target\"], axis=1), balanced_df[\"Target\"])"
   ]
  },
  {
   "cell_type": "markdown",
   "id": "0b68a432-f0ec-4a53-99ab-0742e48b419a",
   "metadata": {},
   "source": [
    "##### Evaluacion"
   ]
  },
  {
   "cell_type": "code",
   "execution_count": 55,
   "id": "b477ddd7-1b23-4df1-a8c3-6994c284e921",
   "metadata": {
    "id": "gXsrDSDDMed4",
    "tags": []
   },
   "outputs": [
    {
     "name": "stderr",
     "output_type": "stream",
     "text": [
      "/opt/conda/lib/python3.10/site-packages/sklearn/base.py:445: UserWarning: X does not have valid feature names, but StandardScaler was fitted with feature names\n",
      "  warnings.warn(\n"
     ]
    }
   ],
   "source": [
    "y_pred  = train_pipeline.predict(test_features)"
   ]
  },
  {
   "cell_type": "code",
   "execution_count": 56,
   "id": "2a4fc57e-50e2-4c78-807e-cc81d5a04193",
   "metadata": {
    "colab": {
     "base_uri": "https://localhost:8080/"
    },
    "executionInfo": {
     "elapsed": 3,
     "status": "ok",
     "timestamp": 1639087935169,
     "user": {
      "displayName": "Fran Vaquer",
      "photoUrl": "https://lh3.googleusercontent.com/a/default-user=s64",
      "userId": "05040906435658654965"
     },
     "user_tz": -60
    },
    "id": "MHDA7bYMdoCr",
    "outputId": "24815273-14ec-489a-f3ff-401d46ade1c9",
    "tags": []
   },
   "outputs": [
    {
     "name": "stdout",
     "output_type": "stream",
     "text": [
      "              precision    recall  f1-score   support\n",
      "\n",
      "         0.0       1.00      0.90      0.95    136343\n",
      "         1.0       0.06      0.85      0.12      1102\n",
      "\n",
      "    accuracy                           0.90    137445\n",
      "   macro avg       0.53      0.87      0.53    137445\n",
      "weighted avg       0.99      0.90      0.94    137445\n",
      "\n"
     ]
    }
   ],
   "source": [
    "print(classification_report(test_labels, y_pred))"
   ]
  },
  {
   "cell_type": "code",
   "execution_count": 57,
   "id": "be61264b-dc73-44a8-b205-9dc37d6a6bf7",
   "metadata": {
    "colab": {
     "base_uri": "https://localhost:8080/"
    },
    "executionInfo": {
     "elapsed": 1,
     "status": "ok",
     "timestamp": 1639087936213,
     "user": {
      "displayName": "Fran Vaquer",
      "photoUrl": "https://lh3.googleusercontent.com/a/default-user=s64",
      "userId": "05040906435658654965"
     },
     "user_tz": -60
    },
    "id": "jEIYLoXKeQMQ",
    "outputId": "889e4dce-5475-454e-d36e-4eebd87c6914",
    "tags": []
   },
   "outputs": [
    {
     "data": {
      "text/plain": [
       "array([[122637,  13706],\n",
       "       [   167,    935]])"
      ]
     },
     "execution_count": 57,
     "metadata": {},
     "output_type": "execute_result"
    }
   ],
   "source": [
    "confusion_matrix(test_labels, y_pred)"
   ]
  },
  {
   "cell_type": "code",
   "execution_count": 58,
   "id": "24c39d0e-f14b-4f33-8573-cb16a32786c5",
   "metadata": {
    "colab": {
     "base_uri": "https://localhost:8080/"
    },
    "executionInfo": {
     "elapsed": 3,
     "status": "ok",
     "timestamp": 1639087937368,
     "user": {
      "displayName": "Fran Vaquer",
      "photoUrl": "https://lh3.googleusercontent.com/a/default-user=s64",
      "userId": "05040906435658654965"
     },
     "user_tz": -60
    },
    "id": "AXWQsvvodvIG",
    "outputId": "b5574b57-58b5-43ea-ce81-c62b115860d2",
    "tags": []
   },
   "outputs": [
    {
     "name": "stdout",
     "output_type": "stream",
     "text": [
      "                       Predicción No Programa Herencias  \\\n",
      "No Programa Herencias                            122637   \n",
      "Programa Herencias                                  167   \n",
      "\n",
      "                       Predicción Programa Herencias  \n",
      "No Programa Herencias                          13706  \n",
      "Programa Herencias                               935  \n"
     ]
    }
   ],
   "source": [
    "conf=pd.DataFrame(\n",
    "    confusion_matrix(test_labels, y_pred),\n",
    "    columns=['Predicción No Programa Herencias', 'Predicción Programa Herencias'],\n",
    "    index  =['No Programa Herencias', 'Programa Herencias']\n",
    ")\n",
    "print(conf)"
   ]
  },
  {
   "cell_type": "code",
   "execution_count": 59,
   "id": "3f969bef-b06d-47df-90e6-ebb2b7b51fd9",
   "metadata": {
    "colab": {
     "base_uri": "https://localhost:8080/"
    },
    "executionInfo": {
     "elapsed": 3,
     "status": "ok",
     "timestamp": 1639087938359,
     "user": {
      "displayName": "Fran Vaquer",
      "photoUrl": "https://lh3.googleusercontent.com/a/default-user=s64",
      "userId": "05040906435658654965"
     },
     "user_tz": -60
    },
    "id": "CU28npXveGN0",
    "outputId": "e560df3b-fdd8-4b15-c5c3-c4d722f15237",
    "tags": []
   },
   "outputs": [
    {
     "data": {
      "text/plain": [
       "0.8990650805776856"
      ]
     },
     "execution_count": 59,
     "metadata": {},
     "output_type": "execute_result"
    }
   ],
   "source": [
    "accuracy_score(test_labels, y_pred)"
   ]
  },
  {
   "cell_type": "code",
   "execution_count": 60,
   "id": "195c5fc7-5a86-413d-bfd3-734fd2f1a6a1",
   "metadata": {
    "colab": {
     "base_uri": "https://localhost:8080/"
    },
    "executionInfo": {
     "elapsed": 2,
     "status": "ok",
     "timestamp": 1639087939362,
     "user": {
      "displayName": "Fran Vaquer",
      "photoUrl": "https://lh3.googleusercontent.com/a/default-user=s64",
      "userId": "05040906435658654965"
     },
     "user_tz": -60
    },
    "id": "_mtNLwPVeiOO",
    "outputId": "062ce7e4-6246-4aab-a087-cc9eebad10e5",
    "scrolled": true,
    "tags": []
   },
   "outputs": [
    {
     "data": {
      "text/plain": [
       "0.8739657353445611"
      ]
     },
     "execution_count": 60,
     "metadata": {},
     "output_type": "execute_result"
    }
   ],
   "source": [
    "roc_auc_score(test_labels, y_pred)"
   ]
  },
  {
   "cell_type": "code",
   "execution_count": 61,
   "id": "7b186a33-71ca-4069-8d0d-27a14d2a0cda",
   "metadata": {
    "id": "gjmgGG3Kewlx",
    "tags": []
   },
   "outputs": [],
   "source": [
    "fpr, tpr, threshold = roc_curve(test_labels, y_pred)\n",
    "roc_auc = roc_auc_score(test_labels, y_pred)"
   ]
  },
  {
   "cell_type": "code",
   "execution_count": 62,
   "id": "a96eefd3-8fad-4f66-b3fc-8b83cf74fdef",
   "metadata": {
    "colab": {
     "base_uri": "https://localhost:8080/",
     "height": 295
    },
    "executionInfo": {
     "elapsed": 503,
     "status": "ok",
     "timestamp": 1639087942662,
     "user": {
      "displayName": "Fran Vaquer",
      "photoUrl": "https://lh3.googleusercontent.com/a/default-user=s64",
      "userId": "05040906435658654965"
     },
     "user_tz": -60
    },
    "id": "xx7bFQUjez5m",
    "outputId": "ac149dff-5d87-4bf2-a342-2d4b785b157a",
    "tags": []
   },
   "outputs": [
    {
     "data": {
      "image/png": "[encoded data removed]",
      "text/plain": [
       "<Figure size 640x480 with 1 Axes>"
      ]
     },
     "metadata": {},
     "output_type": "display_data"
    }
   ],
   "source": [
    "plt.title('Receiver Operating Characteristic')\n",
    "plt.plot(fpr, tpr, 'b', label = 'AUC = %0.2f' % roc_auc)\n",
    "plt.legend(loc = 'lower right')\n",
    "plt.plot([0, 1], [0, 1],'r--')\n",
    "plt.xlim([0, 1])\n",
    "plt.ylim([0, 1])\n",
    "plt.ylabel('True Positive Rate')\n",
    "plt.xlabel('False Positive Rate')\n",
    "plt.show()"
   ]
  },
  {
   "cell_type": "markdown",
   "id": "1d7e1d1c-9700-4f37-8914-65c1e7f96214",
   "metadata": {
    "id": "HnrAudROBmAI"
   },
   "source": [
    "#### NB"
   ]
  },
  {
   "cell_type": "markdown",
   "id": "5e0c40a4-23ed-4294-8912-72f06e9f247c",
   "metadata": {},
   "source": [
    "##### Entrenamiento"
   ]
  },
  {
   "cell_type": "code",
   "execution_count": 63,
   "id": "781a60e0-c16c-4756-a798-3a738151af24",
   "metadata": {
    "colab": {
     "base_uri": "https://localhost:8080/"
    },
    "executionInfo": {
     "elapsed": 414,
     "status": "ok",
     "timestamp": 1638957755719,
     "user": {
      "displayName": "Fran Vaquer",
      "photoUrl": "https://lh3.googleusercontent.com/a/default-user=s64",
      "userId": "05040906435658654965"
     },
     "user_tz": -60
    },
    "id": "wmZS0PUtBmAI",
    "outputId": "00dee959-2db3-442b-d0c6-deb77d90d480",
    "tags": []
   },
   "outputs": [],
   "source": [
    "train_pipeline = Pipeline([('scaler', StandardScaler()), ('gb', GaussianNB())])"
   ]
  },
  {
   "cell_type": "code",
   "execution_count": 64,
   "id": "7dd86cd7-a257-48f1-b810-d217815b9e1f",
   "metadata": {
    "tags": []
   },
   "outputs": [
    {
     "data": {
      "text/plain": [
       "Pipeline(steps=[('scaler', StandardScaler()), ('gb', GaussianNB())])"
      ]
     },
     "execution_count": 64,
     "metadata": {},
     "output_type": "execute_result"
    }
   ],
   "source": [
    "train_pipeline.fit(balanced_df.drop([\"Target\"], axis=1), balanced_df[\"Target\"])"
   ]
  },
  {
   "cell_type": "markdown",
   "id": "2d0dc94a-5681-4b3f-be6d-9e2380c3c3a3",
   "metadata": {},
   "source": [
    "##### Evaluacion"
   ]
  },
  {
   "cell_type": "code",
   "execution_count": 65,
   "id": "8d8928a1-5b8e-4c0d-8a16-57d7b2864948",
   "metadata": {
    "id": "gXsrDSDDMed4",
    "tags": []
   },
   "outputs": [
    {
     "name": "stderr",
     "output_type": "stream",
     "text": [
      "/opt/conda/lib/python3.10/site-packages/sklearn/base.py:445: UserWarning: X does not have valid feature names, but StandardScaler was fitted with feature names\n",
      "  warnings.warn(\n"
     ]
    }
   ],
   "source": [
    "y_pred  = train_pipeline.predict(test_features)"
   ]
  },
  {
   "cell_type": "code",
   "execution_count": 66,
   "id": "383cc0ea-93d2-4ba7-853c-d06565307129",
   "metadata": {
    "colab": {
     "base_uri": "https://localhost:8080/"
    },
    "executionInfo": {
     "elapsed": 3,
     "status": "ok",
     "timestamp": 1639087935169,
     "user": {
      "displayName": "Fran Vaquer",
      "photoUrl": "https://lh3.googleusercontent.com/a/default-user=s64",
      "userId": "05040906435658654965"
     },
     "user_tz": -60
    },
    "id": "MHDA7bYMdoCr",
    "outputId": "24815273-14ec-489a-f3ff-401d46ade1c9",
    "tags": []
   },
   "outputs": [
    {
     "name": "stdout",
     "output_type": "stream",
     "text": [
      "              precision    recall  f1-score   support\n",
      "\n",
      "         0.0       1.00      0.98      0.99    136343\n",
      "         1.0       0.17      0.39      0.24      1102\n",
      "\n",
      "    accuracy                           0.98    137445\n",
      "   macro avg       0.58      0.69      0.61    137445\n",
      "weighted avg       0.99      0.98      0.98    137445\n",
      "\n"
     ]
    }
   ],
   "source": [
    "print(classification_report(test_labels, y_pred))"
   ]
  },
  {
   "cell_type": "code",
   "execution_count": 67,
   "id": "5892b2c1-fdc0-473a-9a66-94d1809801b1",
   "metadata": {
    "colab": {
     "base_uri": "https://localhost:8080/"
    },
    "executionInfo": {
     "elapsed": 1,
     "status": "ok",
     "timestamp": 1639087936213,
     "user": {
      "displayName": "Fran Vaquer",
      "photoUrl": "https://lh3.googleusercontent.com/a/default-user=s64",
      "userId": "05040906435658654965"
     },
     "user_tz": -60
    },
    "id": "jEIYLoXKeQMQ",
    "outputId": "889e4dce-5475-454e-d36e-4eebd87c6914",
    "tags": []
   },
   "outputs": [
    {
     "data": {
      "text/plain": [
       "array([[134263,   2080],\n",
       "       [   672,    430]])"
      ]
     },
     "execution_count": 67,
     "metadata": {},
     "output_type": "execute_result"
    }
   ],
   "source": [
    "confusion_matrix(test_labels, y_pred)"
   ]
  },
  {
   "cell_type": "code",
   "execution_count": 68,
   "id": "fa9d3680-4c91-42dc-9318-175d82cfcb2f",
   "metadata": {
    "colab": {
     "base_uri": "https://localhost:8080/"
    },
    "executionInfo": {
     "elapsed": 3,
     "status": "ok",
     "timestamp": 1639087937368,
     "user": {
      "displayName": "Fran Vaquer",
      "photoUrl": "https://lh3.googleusercontent.com/a/default-user=s64",
      "userId": "05040906435658654965"
     },
     "user_tz": -60
    },
    "id": "AXWQsvvodvIG",
    "outputId": "b5574b57-58b5-43ea-ce81-c62b115860d2",
    "tags": []
   },
   "outputs": [
    {
     "name": "stdout",
     "output_type": "stream",
     "text": [
      "                       Predicción No Programa Herencias  \\\n",
      "No Programa Herencias                            134263   \n",
      "Programa Herencias                                  672   \n",
      "\n",
      "                       Predicción Programa Herencias  \n",
      "No Programa Herencias                           2080  \n",
      "Programa Herencias                               430  \n"
     ]
    }
   ],
   "source": [
    "conf=pd.DataFrame(\n",
    "    confusion_matrix(test_labels, y_pred),\n",
    "    columns=['Predicción No Programa Herencias', 'Predicción Programa Herencias'],\n",
    "    index  =['No Programa Herencias', 'Programa Herencias']\n",
    ")\n",
    "print(conf)"
   ]
  },
  {
   "cell_type": "code",
   "execution_count": 69,
   "id": "20f6b6c6-6d68-4dd5-a4eb-9d409c68326f",
   "metadata": {
    "colab": {
     "base_uri": "https://localhost:8080/"
    },
    "executionInfo": {
     "elapsed": 3,
     "status": "ok",
     "timestamp": 1639087938359,
     "user": {
      "displayName": "Fran Vaquer",
      "photoUrl": "https://lh3.googleusercontent.com/a/default-user=s64",
      "userId": "05040906435658654965"
     },
     "user_tz": -60
    },
    "id": "CU28npXveGN0",
    "outputId": "e560df3b-fdd8-4b15-c5c3-c4d722f15237",
    "tags": []
   },
   "outputs": [
    {
     "data": {
      "text/plain": [
       "0.9799774455236641"
      ]
     },
     "execution_count": 69,
     "metadata": {},
     "output_type": "execute_result"
    }
   ],
   "source": [
    "accuracy_score(test_labels, y_pred)"
   ]
  },
  {
   "cell_type": "code",
   "execution_count": 70,
   "id": "adcd8d7c-eb6a-4716-97aa-f63fd32a5fc6",
   "metadata": {
    "colab": {
     "base_uri": "https://localhost:8080/"
    },
    "executionInfo": {
     "elapsed": 2,
     "status": "ok",
     "timestamp": 1639087939362,
     "user": {
      "displayName": "Fran Vaquer",
      "photoUrl": "https://lh3.googleusercontent.com/a/default-user=s64",
      "userId": "05040906435658654965"
     },
     "user_tz": -60
    },
    "id": "_mtNLwPVeiOO",
    "outputId": "062ce7e4-6246-4aab-a087-cc9eebad10e5",
    "scrolled": true,
    "tags": []
   },
   "outputs": [
    {
     "data": {
      "text/plain": [
       "0.6874719975015505"
      ]
     },
     "execution_count": 70,
     "metadata": {},
     "output_type": "execute_result"
    }
   ],
   "source": [
    "roc_auc_score(test_labels, y_pred)"
   ]
  },
  {
   "cell_type": "code",
   "execution_count": 71,
   "id": "9e9dafc6-cd76-4cbb-91db-fd3993dd58da",
   "metadata": {
    "id": "gjmgGG3Kewlx",
    "tags": []
   },
   "outputs": [],
   "source": [
    "fpr, tpr, threshold = roc_curve(test_labels, y_pred)\n",
    "roc_auc = roc_auc_score(test_labels, y_pred)"
   ]
  },
  {
   "cell_type": "code",
   "execution_count": 72,
   "id": "004ec14c-8324-415b-a1f4-0a02cce88b9c",
   "metadata": {
    "colab": {
     "base_uri": "https://localhost:8080/",
     "height": 295
    },
    "executionInfo": {
     "elapsed": 503,
     "status": "ok",
     "timestamp": 1639087942662,
     "user": {
      "displayName": "Fran Vaquer",
      "photoUrl": "https://lh3.googleusercontent.com/a/default-user=s64",
      "userId": "05040906435658654965"
     },
     "user_tz": -60
    },
    "id": "xx7bFQUjez5m",
    "outputId": "ac149dff-5d87-4bf2-a342-2d4b785b157a",
    "tags": []
   },
   "outputs": [
    {
     "data": {
      "image/png": "[encoded data removed]",
      "text/plain": [
       "<Figure size 640x480 with 1 Axes>"
      ]
     },
     "metadata": {},
     "output_type": "display_data"
    }
   ],
   "source": [
    "plt.title('Receiver Operating Characteristic')\n",
    "plt.plot(fpr, tpr, 'b', label = 'AUC = %0.2f' % roc_auc)\n",
    "plt.legend(loc = 'lower right')\n",
    "plt.plot([0, 1], [0, 1],'r--')\n",
    "plt.xlim([0, 1])\n",
    "plt.ylim([0, 1])\n",
    "plt.ylabel('True Positive Rate')\n",
    "plt.xlabel('False Positive Rate')\n",
    "plt.show()"
   ]
  },
  {
   "cell_type": "markdown",
   "id": "cf535f31-1864-4f76-b194-5f81b6e58449",
   "metadata": {
    "id": "HnrAudROBmAI"
   },
   "source": [
    "#### RF Classifier"
   ]
  },
  {
   "cell_type": "markdown",
   "id": "1ed85901-e900-4b0f-ba80-f6ecb780bdcb",
   "metadata": {},
   "source": [
    "##### Entrenamiento"
   ]
  },
  {
   "cell_type": "code",
   "execution_count": 73,
   "id": "83cee203-7a8a-40f2-bd4e-6e98581e7160",
   "metadata": {
    "colab": {
     "base_uri": "https://localhost:8080/"
    },
    "executionInfo": {
     "elapsed": 414,
     "status": "ok",
     "timestamp": 1638957755719,
     "user": {
      "displayName": "Fran Vaquer",
      "photoUrl": "https://lh3.googleusercontent.com/a/default-user=s64",
      "userId": "05040906435658654965"
     },
     "user_tz": -60
    },
    "id": "wmZS0PUtBmAI",
    "outputId": "00dee959-2db3-442b-d0c6-deb77d90d480",
    "tags": []
   },
   "outputs": [],
   "source": [
    "train_pipeline = Pipeline([('scaler', StandardScaler()), ('rf', RandomForestClassifier(max_depth=2, random_state=0))])"
   ]
  },
  {
   "cell_type": "code",
   "execution_count": 74,
   "id": "5c79bb34-10d9-46ca-8871-ab55b810009e",
   "metadata": {
    "tags": []
   },
   "outputs": [
    {
     "data": {
      "text/plain": [
       "Pipeline(steps=[('scaler', StandardScaler()),\n",
       "                ('rf', RandomForestClassifier(max_depth=2, random_state=0))])"
      ]
     },
     "execution_count": 74,
     "metadata": {},
     "output_type": "execute_result"
    }
   ],
   "source": [
    "train_pipeline.fit(balanced_df.drop([\"Target\"], axis=1), balanced_df[\"Target\"])"
   ]
  },
  {
   "cell_type": "markdown",
   "id": "c2948b57-c332-4f15-95e4-91f6762116c2",
   "metadata": {},
   "source": [
    "##### Evaluacion"
   ]
  },
  {
   "cell_type": "code",
   "execution_count": 75,
   "id": "18677984-67fa-4c8e-bd42-d987e37be80e",
   "metadata": {
    "id": "gXsrDSDDMed4",
    "tags": []
   },
   "outputs": [
    {
     "name": "stderr",
     "output_type": "stream",
     "text": [
      "/opt/conda/lib/python3.10/site-packages/sklearn/base.py:445: UserWarning: X does not have valid feature names, but StandardScaler was fitted with feature names\n",
      "  warnings.warn(\n"
     ]
    }
   ],
   "source": [
    "y_pred  = train_pipeline.predict(test_features)"
   ]
  },
  {
   "cell_type": "code",
   "execution_count": 76,
   "id": "601ab371-8e7f-4fef-aa43-1095e9b88a71",
   "metadata": {
    "colab": {
     "base_uri": "https://localhost:8080/"
    },
    "executionInfo": {
     "elapsed": 3,
     "status": "ok",
     "timestamp": 1639087935169,
     "user": {
      "displayName": "Fran Vaquer",
      "photoUrl": "https://lh3.googleusercontent.com/a/default-user=s64",
      "userId": "05040906435658654965"
     },
     "user_tz": -60
    },
    "id": "MHDA7bYMdoCr",
    "outputId": "24815273-14ec-489a-f3ff-401d46ade1c9",
    "tags": []
   },
   "outputs": [
    {
     "name": "stdout",
     "output_type": "stream",
     "text": [
      "              precision    recall  f1-score   support\n",
      "\n",
      "         0.0       1.00      0.95      0.97    136343\n",
      "         1.0       0.11      0.70      0.18      1102\n",
      "\n",
      "    accuracy                           0.95    137445\n",
      "   macro avg       0.55      0.83      0.58    137445\n",
      "weighted avg       0.99      0.95      0.97    137445\n",
      "\n"
     ]
    }
   ],
   "source": [
    "print(classification_report(test_labels, y_pred))"
   ]
  },
  {
   "cell_type": "code",
   "execution_count": 77,
   "id": "09c0f7ce-bc85-417f-bfe9-5c5bff3b2dae",
   "metadata": {
    "colab": {
     "base_uri": "https://localhost:8080/"
    },
    "executionInfo": {
     "elapsed": 1,
     "status": "ok",
     "timestamp": 1639087936213,
     "user": {
      "displayName": "Fran Vaquer",
      "photoUrl": "https://lh3.googleusercontent.com/a/default-user=s64",
      "userId": "05040906435658654965"
     },
     "user_tz": -60
    },
    "id": "jEIYLoXKeQMQ",
    "outputId": "889e4dce-5475-454e-d36e-4eebd87c6914",
    "tags": []
   },
   "outputs": [
    {
     "data": {
      "text/plain": [
       "array([[129761,   6582],\n",
       "       [   326,    776]])"
      ]
     },
     "execution_count": 77,
     "metadata": {},
     "output_type": "execute_result"
    }
   ],
   "source": [
    "confusion_matrix(test_labels, y_pred)"
   ]
  },
  {
   "cell_type": "code",
   "execution_count": 78,
   "id": "ab0dee12-cc5a-4f47-87ac-c903fd475273",
   "metadata": {
    "colab": {
     "base_uri": "https://localhost:8080/"
    },
    "executionInfo": {
     "elapsed": 3,
     "status": "ok",
     "timestamp": 1639087937368,
     "user": {
      "displayName": "Fran Vaquer",
      "photoUrl": "https://lh3.googleusercontent.com/a/default-user=s64",
      "userId": "05040906435658654965"
     },
     "user_tz": -60
    },
    "id": "AXWQsvvodvIG",
    "outputId": "b5574b57-58b5-43ea-ce81-c62b115860d2",
    "tags": []
   },
   "outputs": [
    {
     "name": "stdout",
     "output_type": "stream",
     "text": [
      "                       Predicción No Programa Herencias  \\\n",
      "No Programa Herencias                            129761   \n",
      "Programa Herencias                                  326   \n",
      "\n",
      "                       Predicción Programa Herencias  \n",
      "No Programa Herencias                           6582  \n",
      "Programa Herencias                               776  \n"
     ]
    }
   ],
   "source": [
    "conf=pd.DataFrame(\n",
    "    confusion_matrix(test_labels, y_pred),\n",
    "    columns=['Predicción No Programa Herencias', 'Predicción Programa Herencias'],\n",
    "    index  =['No Programa Herencias', 'Programa Herencias']\n",
    ")\n",
    "print(conf)"
   ]
  },
  {
   "cell_type": "code",
   "execution_count": 79,
   "id": "34e07948-90fd-4c6f-b305-abc4dcb46fa7",
   "metadata": {
    "colab": {
     "base_uri": "https://localhost:8080/"
    },
    "executionInfo": {
     "elapsed": 3,
     "status": "ok",
     "timestamp": 1639087938359,
     "user": {
      "displayName": "Fran Vaquer",
      "photoUrl": "https://lh3.googleusercontent.com/a/default-user=s64",
      "userId": "05040906435658654965"
     },
     "user_tz": -60
    },
    "id": "CU28npXveGN0",
    "outputId": "e560df3b-fdd8-4b15-c5c3-c4d722f15237",
    "tags": []
   },
   "outputs": [
    {
     "data": {
      "text/plain": [
       "0.9497398959583834"
      ]
     },
     "execution_count": 79,
     "metadata": {},
     "output_type": "execute_result"
    }
   ],
   "source": [
    "accuracy_score(test_labels, y_pred)"
   ]
  },
  {
   "cell_type": "code",
   "execution_count": 80,
   "id": "f6e9552b-3570-4929-a025-4284c9c60b51",
   "metadata": {
    "colab": {
     "base_uri": "https://localhost:8080/"
    },
    "executionInfo": {
     "elapsed": 2,
     "status": "ok",
     "timestamp": 1639087939362,
     "user": {
      "displayName": "Fran Vaquer",
      "photoUrl": "https://lh3.googleusercontent.com/a/default-user=s64",
      "userId": "05040906435658654965"
     },
     "user_tz": -60
    },
    "id": "_mtNLwPVeiOO",
    "outputId": "062ce7e4-6246-4aab-a087-cc9eebad10e5",
    "scrolled": true,
    "tags": []
   },
   "outputs": [
    {
     "data": {
      "text/plain": [
       "0.8279494615061063"
      ]
     },
     "execution_count": 80,
     "metadata": {},
     "output_type": "execute_result"
    }
   ],
   "source": [
    "roc_auc_score(test_labels, y_pred)"
   ]
  },
  {
   "cell_type": "code",
   "execution_count": 81,
   "id": "8d6a7797-04dd-4b9c-b136-6aa7481ce002",
   "metadata": {
    "id": "gjmgGG3Kewlx",
    "tags": []
   },
   "outputs": [],
   "source": [
    "fpr, tpr, threshold = roc_curve(test_labels, y_pred)\n",
    "roc_auc = roc_auc_score(test_labels, y_pred)"
   ]
  },
  {
   "cell_type": "code",
   "execution_count": 82,
   "id": "7425c5f0-4054-441a-b0af-22e610dc4b2f",
   "metadata": {
    "colab": {
     "base_uri": "https://localhost:8080/",
     "height": 295
    },
    "executionInfo": {
     "elapsed": 503,
     "status": "ok",
     "timestamp": 1639087942662,
     "user": {
      "displayName": "Fran Vaquer",
      "photoUrl": "https://lh3.googleusercontent.com/a/default-user=s64",
      "userId": "05040906435658654965"
     },
     "user_tz": -60
    },
    "id": "xx7bFQUjez5m",
    "outputId": "ac149dff-5d87-4bf2-a342-2d4b785b157a",
    "tags": []
   },
   "outputs": [
    {
     "data": {
      "image/png": "[encoded data removed]",
      "text/plain": [
       "<Figure size 640x480 with 1 Axes>"
      ]
     },
     "metadata": {},
     "output_type": "display_data"
    }
   ],
   "source": [
    "plt.title('Receiver Operating Characteristic')\n",
    "plt.plot(fpr, tpr, 'b', label = 'AUC = %0.2f' % roc_auc)\n",
    "plt.legend(loc = 'lower right')\n",
    "plt.plot([0, 1], [0, 1],'r--')\n",
    "plt.xlim([0, 1])\n",
    "plt.ylim([0, 1])\n",
    "plt.ylabel('True Positive Rate')\n",
    "plt.xlabel('False Positive Rate')\n",
    "plt.show()"
   ]
  },
  {
   "cell_type": "markdown",
   "id": "bf63db77-bce6-4715-ac26-6cb9ca332424",
   "metadata": {
    "id": "HnrAudROBmAI"
   },
   "source": [
    "#### MLP Classifier"
   ]
  },
  {
   "cell_type": "markdown",
   "id": "cb2e2a22-1824-4164-ae07-f5123eb2c7dd",
   "metadata": {},
   "source": [
    "##### Entrenamiento"
   ]
  },
  {
   "cell_type": "code",
   "execution_count": 83,
   "id": "db93a009-1056-4e7c-bf47-78505a324365",
   "metadata": {
    "colab": {
     "base_uri": "https://localhost:8080/"
    },
    "executionInfo": {
     "elapsed": 414,
     "status": "ok",
     "timestamp": 1638957755719,
     "user": {
      "displayName": "Fran Vaquer",
      "photoUrl": "https://lh3.googleusercontent.com/a/default-user=s64",
      "userId": "05040906435658654965"
     },
     "user_tz": -60
    },
    "id": "wmZS0PUtBmAI",
    "outputId": "00dee959-2db3-442b-d0c6-deb77d90d480",
    "tags": []
   },
   "outputs": [],
   "source": [
    "train_pipeline = Pipeline([('scaler', StandardScaler()), ('mlp', MLPClassifier(random_state=0, max_iter=25))])"
   ]
  },
  {
   "cell_type": "code",
   "execution_count": 84,
   "id": "c5367c41-2a1c-4d92-9691-84e45ecac597",
   "metadata": {
    "tags": []
   },
   "outputs": [
    {
     "name": "stderr",
     "output_type": "stream",
     "text": [
      "/opt/conda/lib/python3.10/site-packages/sklearn/neural_network/_multilayer_perceptron.py:692: ConvergenceWarning: Stochastic Optimizer: Maximum iterations (25) reached and the optimization hasn't converged yet.\n",
      "  warnings.warn(\n"
     ]
    },
    {
     "data": {
      "text/plain": [
       "Pipeline(steps=[('scaler', StandardScaler()),\n",
       "                ('mlp', MLPClassifier(max_iter=25, random_state=0))])"
      ]
     },
     "execution_count": 84,
     "metadata": {},
     "output_type": "execute_result"
    }
   ],
   "source": [
    "train_pipeline.fit(balanced_df.drop([\"Target\"], axis=1), balanced_df[\"Target\"])"
   ]
  },
  {
   "cell_type": "markdown",
   "id": "5fbe6c08-a757-42a9-a9fd-a573d0f2f159",
   "metadata": {},
   "source": [
    "##### Evaluacion"
   ]
  },
  {
   "cell_type": "code",
   "execution_count": 85,
   "id": "0eed7868-2b05-40d8-9a09-ff7f29a3ac0d",
   "metadata": {
    "id": "gXsrDSDDMed4",
    "tags": []
   },
   "outputs": [
    {
     "name": "stderr",
     "output_type": "stream",
     "text": [
      "/opt/conda/lib/python3.10/site-packages/sklearn/base.py:445: UserWarning: X does not have valid feature names, but StandardScaler was fitted with feature names\n",
      "  warnings.warn(\n"
     ]
    }
   ],
   "source": [
    "y_pred  = train_pipeline.predict(test_features)"
   ]
  },
  {
   "cell_type": "code",
   "execution_count": 86,
   "id": "0e2eec1c-3ed9-4408-baf6-6f697be43b58",
   "metadata": {
    "colab": {
     "base_uri": "https://localhost:8080/"
    },
    "executionInfo": {
     "elapsed": 3,
     "status": "ok",
     "timestamp": 1639087935169,
     "user": {
      "displayName": "Fran Vaquer",
      "photoUrl": "https://lh3.googleusercontent.com/a/default-user=s64",
      "userId": "05040906435658654965"
     },
     "user_tz": -60
    },
    "id": "MHDA7bYMdoCr",
    "outputId": "24815273-14ec-489a-f3ff-401d46ade1c9",
    "tags": []
   },
   "outputs": [
    {
     "name": "stdout",
     "output_type": "stream",
     "text": [
      "              precision    recall  f1-score   support\n",
      "\n",
      "         0.0       1.00      0.93      0.96    136343\n",
      "         1.0       0.08      0.83      0.15      1102\n",
      "\n",
      "    accuracy                           0.92    137445\n",
      "   macro avg       0.54      0.88      0.56    137445\n",
      "weighted avg       0.99      0.92      0.95    137445\n",
      "\n"
     ]
    }
   ],
   "source": [
    "print(classification_report(test_labels, y_pred))"
   ]
  },
  {
   "cell_type": "code",
   "execution_count": 87,
   "id": "46a0cdab-0b41-4a85-b145-47875dce7df3",
   "metadata": {
    "colab": {
     "base_uri": "https://localhost:8080/"
    },
    "executionInfo": {
     "elapsed": 1,
     "status": "ok",
     "timestamp": 1639087936213,
     "user": {
      "displayName": "Fran Vaquer",
      "photoUrl": "https://lh3.googleusercontent.com/a/default-user=s64",
      "userId": "05040906435658654965"
     },
     "user_tz": -60
    },
    "id": "jEIYLoXKeQMQ",
    "outputId": "889e4dce-5475-454e-d36e-4eebd87c6914",
    "tags": []
   },
   "outputs": [
    {
     "data": {
      "text/plain": [
       "array([[126152,  10191],\n",
       "       [   186,    916]])"
      ]
     },
     "execution_count": 87,
     "metadata": {},
     "output_type": "execute_result"
    }
   ],
   "source": [
    "confusion_matrix(test_labels, y_pred)"
   ]
  },
  {
   "cell_type": "code",
   "execution_count": 88,
   "id": "70e9e187-da43-4357-a02a-e4f8a11a0bf3",
   "metadata": {
    "colab": {
     "base_uri": "https://localhost:8080/"
    },
    "executionInfo": {
     "elapsed": 3,
     "status": "ok",
     "timestamp": 1639087937368,
     "user": {
      "displayName": "Fran Vaquer",
      "photoUrl": "https://lh3.googleusercontent.com/a/default-user=s64",
      "userId": "05040906435658654965"
     },
     "user_tz": -60
    },
    "id": "AXWQsvvodvIG",
    "outputId": "b5574b57-58b5-43ea-ce81-c62b115860d2",
    "tags": []
   },
   "outputs": [
    {
     "name": "stdout",
     "output_type": "stream",
     "text": [
      "                       Predicción No Programa Herencias  \\\n",
      "No Programa Herencias                            126152   \n",
      "Programa Herencias                                  186   \n",
      "\n",
      "                       Predicción Programa Herencias  \n",
      "No Programa Herencias                          10191  \n",
      "Programa Herencias                               916  \n"
     ]
    }
   ],
   "source": [
    "conf=pd.DataFrame(\n",
    "    confusion_matrix(test_labels, y_pred),\n",
    "    columns=['Predicción No Programa Herencias', 'Predicción Programa Herencias'],\n",
    "    index  =['No Programa Herencias', 'Programa Herencias']\n",
    ")\n",
    "print(conf)"
   ]
  },
  {
   "cell_type": "code",
   "execution_count": 89,
   "id": "273d369f-0686-4b85-a1ec-b333329711c9",
   "metadata": {
    "colab": {
     "base_uri": "https://localhost:8080/"
    },
    "executionInfo": {
     "elapsed": 3,
     "status": "ok",
     "timestamp": 1639087938359,
     "user": {
      "displayName": "Fran Vaquer",
      "photoUrl": "https://lh3.googleusercontent.com/a/default-user=s64",
      "userId": "05040906435658654965"
     },
     "user_tz": -60
    },
    "id": "CU28npXveGN0",
    "outputId": "e560df3b-fdd8-4b15-c5c3-c4d722f15237",
    "tags": []
   },
   "outputs": [
    {
     "data": {
      "text/plain": [
       "0.924500709374659"
      ]
     },
     "execution_count": 89,
     "metadata": {},
     "output_type": "execute_result"
    }
   ],
   "source": [
    "accuracy_score(test_labels, y_pred)"
   ]
  },
  {
   "cell_type": "code",
   "execution_count": 90,
   "id": "7e02a532-36c5-46ed-87eb-861a745147de",
   "metadata": {
    "colab": {
     "base_uri": "https://localhost:8080/"
    },
    "executionInfo": {
     "elapsed": 2,
     "status": "ok",
     "timestamp": 1639087939362,
     "user": {
      "displayName": "Fran Vaquer",
      "photoUrl": "https://lh3.googleusercontent.com/a/default-user=s64",
      "userId": "05040906435658654965"
     },
     "user_tz": -60
    },
    "id": "_mtNLwPVeiOO",
    "outputId": "062ce7e4-6246-4aab-a087-cc9eebad10e5",
    "scrolled": true,
    "tags": []
   },
   "outputs": [
    {
     "data": {
      "text/plain": [
       "0.878235329752377"
      ]
     },
     "execution_count": 90,
     "metadata": {},
     "output_type": "execute_result"
    }
   ],
   "source": [
    "roc_auc_score(test_labels, y_pred)"
   ]
  },
  {
   "cell_type": "code",
   "execution_count": 91,
   "id": "543062ba-ae88-4a3d-b7ec-fa392456af9f",
   "metadata": {
    "id": "gjmgGG3Kewlx",
    "tags": []
   },
   "outputs": [],
   "source": [
    "fpr, tpr, threshold = roc_curve(test_labels, y_pred)\n",
    "roc_auc = roc_auc_score(test_labels, y_pred)"
   ]
  },
  {
   "cell_type": "code",
   "execution_count": 92,
   "id": "1b5555cd-1ab9-43ac-adf7-b3bbc5580210",
   "metadata": {
    "colab": {
     "base_uri": "https://localhost:8080/",
     "height": 295
    },
    "executionInfo": {
     "elapsed": 503,
     "status": "ok",
     "timestamp": 1639087942662,
     "user": {
      "displayName": "Fran Vaquer",
      "photoUrl": "https://lh3.googleusercontent.com/a/default-user=s64",
      "userId": "05040906435658654965"
     },
     "user_tz": -60
    },
    "id": "xx7bFQUjez5m",
    "outputId": "ac149dff-5d87-4bf2-a342-2d4b785b157a",
    "tags": []
   },
   "outputs": [
    {
     "data": {
      "image/png": "[encoded data removed]",
      "text/plain": [
       "<Figure size 640x480 with 1 Axes>"
      ]
     },
     "metadata": {},
     "output_type": "display_data"
    }
   ],
   "source": [
    "plt.title('Receiver Operating Characteristic')\n",
    "plt.plot(fpr, tpr, 'b', label = 'AUC = %0.2f' % roc_auc)\n",
    "plt.legend(loc = 'lower right')\n",
    "plt.plot([0, 1], [0, 1],'r--')\n",
    "plt.xlim([0, 1])\n",
    "plt.ylim([0, 1])\n",
    "plt.ylabel('True Positive Rate')\n",
    "plt.xlabel('False Positive Rate')\n",
    "plt.show()"
   ]
  },
  {
   "cell_type": "markdown",
   "id": "24664253-8556-4546-8da4-9339e771ae42",
   "metadata": {
    "tags": []
   },
   "source": [
    "#### Conclusiones \n",
    "- Balanceando eliminando registros de la clase mayoritaria, sirve para aumentar el recall de si tiene programa herencias. Es decir en nuestro caso, detectamos mejor los que tienen herencias y añadimos muchisimos socios potenciales a nuestro modelo.\n",
    "- Con este enfoque ya funciona mejor los clasificadores Random Forest y MLP Classifier ya que pueden evaluar de una manera más precisa cada socio"
   ]
  },
  {
   "cell_type": "markdown",
   "id": "b7e89ed6-b323-42c1-8257-34dc8c4f56e8",
   "metadata": {
    "tags": []
   },
   "source": [
    "### Añadir registros clase minoritaria SMOTE"
   ]
  },
  {
   "cell_type": "markdown",
   "id": "47a4f4db-4939-42bf-94d8-8e69d3c98d5e",
   "metadata": {
    "tags": []
   },
   "source": [
    "#### Generamos dataset"
   ]
  },
  {
   "cell_type": "code",
   "execution_count": 93,
   "id": "45ee4039-8a7a-4898-b150-4b22855d1b17",
   "metadata": {
    "tags": []
   },
   "outputs": [],
   "source": [
    "def create_training_sets_SMOTE(data, list_columns):\n",
    "    \"\"\"\n",
    "    Convert data frame to train, validation and test\n",
    "    params:\n",
    "        data: The dataframe with the dataset to be split\n",
    "    Returns:\n",
    "        train_features: Training feature dataset\n",
    "        test_features: Test feature dataset \n",
    "        train_labels: Labels for the training dataset\n",
    "        test_labels: Labels for the test dataset\n",
    "        val_features: Validation feature dataset\n",
    "        val_labels: Labels for the validation dataset\n",
    "    \"\"\"\n",
    "    # Extract the target variable from the dataframe and convert the type to float32\n",
    "    ys = np.array(data[\"cnt_programaherencias\"]).astype(\"float32\")\n",
    "    \n",
    "    # Drop all the unwanted columns including the target column\n",
    "    # drop_list = [\"cnt_id\"]\n",
    "    \n",
    "    # Drop the columns from the drop_list and convert the data into a NumPy array of type float32\n",
    "    xs = np.array(data[list_columns]).astype(\"float32\")\n",
    "    \n",
    "    np.random.seed(0)\n",
    "    \n",
    "    # Escalar las variables\n",
    "    scaler = StandardScaler()\n",
    "    xs_std = scaler.fit_transform(xs)\n",
    "    \n",
    "    sm = SMOTE(random_state=35)\n",
    "    X_res, y_res = sm.fit_resample(xs_std, ys)\n",
    "    \n",
    "    print(X_res.shape)\n",
    "    print(y_res.shape)\n",
    "    \n",
    "    smote_df = pd.DataFrame(X_res, columns = list_columns) \n",
    "    smote_df['Target'] = y_res\n",
    "    \n",
    "    # # Use the sklearn function train_test_split to split the dataset in the ratio train 80% and test 20%\n",
    "    # train_features, test_features, \\\n",
    "    # train_labels, test_labels = train_test_split(X_res, y_res, test_size=0.2, stratify=y_res)\n",
    "    \n",
    "    \n",
    "    return smote_df"
   ]
  },
  {
   "cell_type": "code",
   "execution_count": 94,
   "id": "77e65b08-7b02-407f-bc6c-f077e8ea6afb",
   "metadata": {
    "tags": []
   },
   "outputs": [
    {
     "name": "stdout",
     "output_type": "stream",
     "text": [
      "(1363428, 95)\n",
      "(1363428,)\n",
      "SMOTE class split\n",
      "[681714 681714]\n",
      "0.5\n"
     ]
    }
   ],
   "source": [
    "smote_df = create_training_sets_SMOTE(df_preprocessed, variables_salida_bal) \n",
    "print('SMOTE class split')\n",
    "smote_hist = np.histogram(smote_df[\"Target\"].values, bins=2)[0]\n",
    "print(smote_hist)\n",
    "print(smote_hist[1]*1. / (smote_hist[0] + smote_hist[1]))"
   ]
  },
  {
   "cell_type": "markdown",
   "id": "f64a9dfb-caff-493b-95f9-e51552d09597",
   "metadata": {
    "id": "Zkn73Mg4e8zd"
   },
   "source": [
    "#### REGRESIÓN LOGÍSTICA"
   ]
  },
  {
   "cell_type": "markdown",
   "id": "401f0ae4-ee2e-4e8d-9e57-dd608afb3d05",
   "metadata": {},
   "source": [
    "##### Entrenamiento"
   ]
  },
  {
   "cell_type": "code",
   "execution_count": 95,
   "id": "88e5ddcf-72a3-4bec-934a-a6389540a72f",
   "metadata": {
    "tags": []
   },
   "outputs": [],
   "source": [
    "train_pipeline = Pipeline([('scaler', StandardScaler()), ('lf', LogisticRegression(random_state = 0))])"
   ]
  },
  {
   "cell_type": "code",
   "execution_count": 96,
   "id": "2f489bca-10e9-4810-8d78-a5947245f59a",
   "metadata": {
    "tags": []
   },
   "outputs": [
    {
     "name": "stderr",
     "output_type": "stream",
     "text": [
      "/opt/conda/lib/python3.10/site-packages/sklearn/linear_model/_logistic.py:814: ConvergenceWarning: lbfgs failed to converge (status=1):\n",
      "STOP: TOTAL NO. of ITERATIONS REACHED LIMIT.\n",
      "\n",
      "Increase the number of iterations (max_iter) or scale the data as shown in:\n",
      "    https://scikit-learn.org/stable/modules/preprocessing.html\n",
      "Please also refer to the documentation for alternative solver options:\n",
      "    https://scikit-learn.org/stable/modules/linear_model.html#logistic-regression\n",
      "  n_iter_i = _check_optimize_result(\n"
     ]
    },
    {
     "data": {
      "text/plain": [
       "Pipeline(steps=[('scaler', StandardScaler()),\n",
       "                ('lf', LogisticRegression(random_state=0))])"
      ]
     },
     "execution_count": 96,
     "metadata": {},
     "output_type": "execute_result"
    }
   ],
   "source": [
    "train_pipeline.fit(smote_df.drop([\"Target\"], axis=1), smote_df[\"Target\"])"
   ]
  },
  {
   "cell_type": "markdown",
   "id": "cccaca30-3986-4ffe-95ba-9c3a0abf3eb7",
   "metadata": {},
   "source": [
    "##### Evaluacion"
   ]
  },
  {
   "cell_type": "code",
   "execution_count": 97,
   "id": "22e0198f-07db-4fcd-9b3c-a23633064f0a",
   "metadata": {
    "id": "gXsrDSDDMed4",
    "tags": []
   },
   "outputs": [
    {
     "name": "stderr",
     "output_type": "stream",
     "text": [
      "/opt/conda/lib/python3.10/site-packages/sklearn/base.py:445: UserWarning: X does not have valid feature names, but StandardScaler was fitted with feature names\n",
      "  warnings.warn(\n"
     ]
    }
   ],
   "source": [
    "y_pred  = train_pipeline.predict(test_features)"
   ]
  },
  {
   "cell_type": "code",
   "execution_count": 98,
   "id": "7ceb3ca8-75e9-4686-95c1-2604ad79e16a",
   "metadata": {
    "colab": {
     "base_uri": "https://localhost:8080/"
    },
    "executionInfo": {
     "elapsed": 3,
     "status": "ok",
     "timestamp": 1639087935169,
     "user": {
      "displayName": "Fran Vaquer",
      "photoUrl": "https://lh3.googleusercontent.com/a/default-user=s64",
      "userId": "05040906435658654965"
     },
     "user_tz": -60
    },
    "id": "MHDA7bYMdoCr",
    "outputId": "24815273-14ec-489a-f3ff-401d46ade1c9",
    "tags": []
   },
   "outputs": [
    {
     "name": "stdout",
     "output_type": "stream",
     "text": [
      "              precision    recall  f1-score   support\n",
      "\n",
      "         0.0       0.99      0.99      0.99    136343\n",
      "         1.0       0.22      0.29      0.25      1102\n",
      "\n",
      "    accuracy                           0.99    137445\n",
      "   macro avg       0.61      0.64      0.62    137445\n",
      "weighted avg       0.99      0.99      0.99    137445\n",
      "\n"
     ]
    }
   ],
   "source": [
    "print(classification_report(test_labels, y_pred))"
   ]
  },
  {
   "cell_type": "code",
   "execution_count": 99,
   "id": "842e2dbc-d743-4775-80cd-d1b01c8a505b",
   "metadata": {
    "colab": {
     "base_uri": "https://localhost:8080/"
    },
    "executionInfo": {
     "elapsed": 1,
     "status": "ok",
     "timestamp": 1639087936213,
     "user": {
      "displayName": "Fran Vaquer",
      "photoUrl": "https://lh3.googleusercontent.com/a/default-user=s64",
      "userId": "05040906435658654965"
     },
     "user_tz": -60
    },
    "id": "jEIYLoXKeQMQ",
    "outputId": "889e4dce-5475-454e-d36e-4eebd87c6914",
    "tags": []
   },
   "outputs": [
    {
     "data": {
      "text/plain": [
       "array([[135231,   1112],\n",
       "       [   786,    316]])"
      ]
     },
     "execution_count": 99,
     "metadata": {},
     "output_type": "execute_result"
    }
   ],
   "source": [
    "confusion_matrix(test_labels, y_pred)"
   ]
  },
  {
   "cell_type": "code",
   "execution_count": 100,
   "id": "31a77fd9-2bde-4ee7-ba38-fd1331f0efe1",
   "metadata": {
    "colab": {
     "base_uri": "https://localhost:8080/"
    },
    "executionInfo": {
     "elapsed": 3,
     "status": "ok",
     "timestamp": 1639087937368,
     "user": {
      "displayName": "Fran Vaquer",
      "photoUrl": "https://lh3.googleusercontent.com/a/default-user=s64",
      "userId": "05040906435658654965"
     },
     "user_tz": -60
    },
    "id": "AXWQsvvodvIG",
    "outputId": "b5574b57-58b5-43ea-ce81-c62b115860d2",
    "tags": []
   },
   "outputs": [
    {
     "name": "stdout",
     "output_type": "stream",
     "text": [
      "                       Predicción No Programa Herencias  \\\n",
      "No Programa Herencias                            135231   \n",
      "Programa Herencias                                  786   \n",
      "\n",
      "                       Predicción Programa Herencias  \n",
      "No Programa Herencias                           1112  \n",
      "Programa Herencias                               316  \n"
     ]
    }
   ],
   "source": [
    "conf=pd.DataFrame(\n",
    "    confusion_matrix(test_labels, y_pred),\n",
    "    columns=['Predicción No Programa Herencias', 'Predicción Programa Herencias'],\n",
    "    index  =['No Programa Herencias', 'Programa Herencias']\n",
    ")\n",
    "print(conf)"
   ]
  },
  {
   "cell_type": "code",
   "execution_count": 101,
   "id": "ac6504a8-f237-4e91-b25c-03d36975cb99",
   "metadata": {
    "colab": {
     "base_uri": "https://localhost:8080/"
    },
    "executionInfo": {
     "elapsed": 3,
     "status": "ok",
     "timestamp": 1639087938359,
     "user": {
      "displayName": "Fran Vaquer",
      "photoUrl": "https://lh3.googleusercontent.com/a/default-user=s64",
      "userId": "05040906435658654965"
     },
     "user_tz": -60
    },
    "id": "CU28npXveGN0",
    "outputId": "e560df3b-fdd8-4b15-c5c3-c4d722f15237",
    "tags": []
   },
   "outputs": [
    {
     "data": {
      "text/plain": [
       "0.9861908399723526"
      ]
     },
     "execution_count": 101,
     "metadata": {},
     "output_type": "execute_result"
    }
   ],
   "source": [
    "accuracy_score(test_labels, y_pred)"
   ]
  },
  {
   "cell_type": "code",
   "execution_count": 102,
   "id": "ef217772-18ed-40fb-8c62-84dcc706f689",
   "metadata": {
    "colab": {
     "base_uri": "https://localhost:8080/"
    },
    "executionInfo": {
     "elapsed": 2,
     "status": "ok",
     "timestamp": 1639087939362,
     "user": {
      "displayName": "Fran Vaquer",
      "photoUrl": "https://lh3.googleusercontent.com/a/default-user=s64",
      "userId": "05040906435658654965"
     },
     "user_tz": -60
    },
    "id": "_mtNLwPVeiOO",
    "outputId": "062ce7e4-6246-4aab-a087-cc9eebad10e5",
    "scrolled": true,
    "tags": []
   },
   "outputs": [
    {
     "data": {
      "text/plain": [
       "0.6392977301175922"
      ]
     },
     "execution_count": 102,
     "metadata": {},
     "output_type": "execute_result"
    }
   ],
   "source": [
    "roc_auc_score(test_labels, y_pred)"
   ]
  },
  {
   "cell_type": "code",
   "execution_count": 103,
   "id": "950670dd-616a-48ef-94fa-b54c6b6a5a0e",
   "metadata": {
    "id": "gjmgGG3Kewlx",
    "tags": []
   },
   "outputs": [],
   "source": [
    "fpr, tpr, threshold = roc_curve(test_labels, y_pred)\n",
    "roc_auc = roc_auc_score(test_labels, y_pred)"
   ]
  },
  {
   "cell_type": "code",
   "execution_count": 104,
   "id": "fe7ec5fb-4b60-4941-8b9d-064339bac356",
   "metadata": {
    "colab": {
     "base_uri": "https://localhost:8080/",
     "height": 295
    },
    "executionInfo": {
     "elapsed": 503,
     "status": "ok",
     "timestamp": 1639087942662,
     "user": {
      "displayName": "Fran Vaquer",
      "photoUrl": "https://lh3.googleusercontent.com/a/default-user=s64",
      "userId": "05040906435658654965"
     },
     "user_tz": -60
    },
    "id": "xx7bFQUjez5m",
    "outputId": "ac149dff-5d87-4bf2-a342-2d4b785b157a",
    "tags": []
   },
   "outputs": [
    {
     "data": {
      "image/png": "[encoded data removed]",
      "text/plain": [
       "<Figure size 640x480 with 1 Axes>"
      ]
     },
     "metadata": {},
     "output_type": "display_data"
    }
   ],
   "source": [
    "plt.title('Receiver Operating Characteristic')\n",
    "plt.plot(fpr, tpr, 'b', label = 'AUC = %0.2f' % roc_auc)\n",
    "plt.legend(loc = 'lower right')\n",
    "plt.plot([0, 1], [0, 1],'r--')\n",
    "plt.xlim([0, 1])\n",
    "plt.ylim([0, 1])\n",
    "plt.ylabel('True Positive Rate')\n",
    "plt.xlabel('False Positive Rate')\n",
    "plt.show()"
   ]
  },
  {
   "cell_type": "markdown",
   "id": "d1cf8d6f-fe59-42b7-9aa5-06aa0f111a2d",
   "metadata": {
    "id": "HnrAudROBmAI"
   },
   "source": [
    "#### NB"
   ]
  },
  {
   "cell_type": "markdown",
   "id": "29d72b04-054b-4c7e-9bc9-4564b25cdfa0",
   "metadata": {},
   "source": [
    "##### Entrenamiento"
   ]
  },
  {
   "cell_type": "code",
   "execution_count": 105,
   "id": "04343e8e-8277-47fe-b6c2-86c81066a3b7",
   "metadata": {
    "colab": {
     "base_uri": "https://localhost:8080/"
    },
    "executionInfo": {
     "elapsed": 414,
     "status": "ok",
     "timestamp": 1638957755719,
     "user": {
      "displayName": "Fran Vaquer",
      "photoUrl": "https://lh3.googleusercontent.com/a/default-user=s64",
      "userId": "05040906435658654965"
     },
     "user_tz": -60
    },
    "id": "wmZS0PUtBmAI",
    "outputId": "00dee959-2db3-442b-d0c6-deb77d90d480",
    "tags": []
   },
   "outputs": [],
   "source": [
    "train_pipeline = Pipeline([('scaler', StandardScaler()), ('gb', GaussianNB())])"
   ]
  },
  {
   "cell_type": "code",
   "execution_count": 106,
   "id": "bce0f50a-f75b-441f-aaf2-130ad9d4b649",
   "metadata": {
    "tags": []
   },
   "outputs": [
    {
     "data": {
      "text/plain": [
       "Pipeline(steps=[('scaler', StandardScaler()), ('gb', GaussianNB())])"
      ]
     },
     "execution_count": 106,
     "metadata": {},
     "output_type": "execute_result"
    }
   ],
   "source": [
    "train_pipeline.fit(smote_df.drop([\"Target\"], axis=1), smote_df[\"Target\"])"
   ]
  },
  {
   "cell_type": "markdown",
   "id": "e383913f-b4dc-4ca5-b1a9-1bfdb30e8952",
   "metadata": {},
   "source": [
    "##### Evaluacion"
   ]
  },
  {
   "cell_type": "code",
   "execution_count": 107,
   "id": "a4f5595b-9d1c-4668-86db-0a823f964e32",
   "metadata": {
    "id": "gXsrDSDDMed4",
    "tags": []
   },
   "outputs": [
    {
     "name": "stderr",
     "output_type": "stream",
     "text": [
      "/opt/conda/lib/python3.10/site-packages/sklearn/base.py:445: UserWarning: X does not have valid feature names, but StandardScaler was fitted with feature names\n",
      "  warnings.warn(\n"
     ]
    }
   ],
   "source": [
    "y_pred  = train_pipeline.predict(test_features)"
   ]
  },
  {
   "cell_type": "code",
   "execution_count": 108,
   "id": "d24ca930-af04-4062-bab3-bdef2f43be4c",
   "metadata": {
    "colab": {
     "base_uri": "https://localhost:8080/"
    },
    "executionInfo": {
     "elapsed": 3,
     "status": "ok",
     "timestamp": 1639087935169,
     "user": {
      "displayName": "Fran Vaquer",
      "photoUrl": "https://lh3.googleusercontent.com/a/default-user=s64",
      "userId": "05040906435658654965"
     },
     "user_tz": -60
    },
    "id": "MHDA7bYMdoCr",
    "outputId": "24815273-14ec-489a-f3ff-401d46ade1c9",
    "tags": []
   },
   "outputs": [
    {
     "name": "stdout",
     "output_type": "stream",
     "text": [
      "              precision    recall  f1-score   support\n",
      "\n",
      "         0.0       0.99      1.00      1.00    136343\n",
      "         1.0       0.00      0.00      0.00      1102\n",
      "\n",
      "    accuracy                           0.99    137445\n",
      "   macro avg       0.50      0.50      0.50    137445\n",
      "weighted avg       0.98      0.99      0.99    137445\n",
      "\n"
     ]
    },
    {
     "name": "stderr",
     "output_type": "stream",
     "text": [
      "/opt/conda/lib/python3.10/site-packages/sklearn/metrics/_classification.py:1308: UndefinedMetricWarning: Precision and F-score are ill-defined and being set to 0.0 in labels with no predicted samples. Use `zero_division` parameter to control this behavior.\n",
      "  _warn_prf(average, modifier, msg_start, len(result))\n",
      "/opt/conda/lib/python3.10/site-packages/sklearn/metrics/_classification.py:1308: UndefinedMetricWarning: Precision and F-score are ill-defined and being set to 0.0 in labels with no predicted samples. Use `zero_division` parameter to control this behavior.\n",
      "  _warn_prf(average, modifier, msg_start, len(result))\n",
      "/opt/conda/lib/python3.10/site-packages/sklearn/metrics/_classification.py:1308: UndefinedMetricWarning: Precision and F-score are ill-defined and being set to 0.0 in labels with no predicted samples. Use `zero_division` parameter to control this behavior.\n",
      "  _warn_prf(average, modifier, msg_start, len(result))\n"
     ]
    }
   ],
   "source": [
    "print(classification_report(test_labels, y_pred))"
   ]
  },
  {
   "cell_type": "code",
   "execution_count": 109,
   "id": "22014bc2-2299-4efe-b21b-903a424bf67e",
   "metadata": {
    "colab": {
     "base_uri": "https://localhost:8080/"
    },
    "executionInfo": {
     "elapsed": 1,
     "status": "ok",
     "timestamp": 1639087936213,
     "user": {
      "displayName": "Fran Vaquer",
      "photoUrl": "https://lh3.googleusercontent.com/a/default-user=s64",
      "userId": "05040906435658654965"
     },
     "user_tz": -60
    },
    "id": "jEIYLoXKeQMQ",
    "outputId": "889e4dce-5475-454e-d36e-4eebd87c6914",
    "tags": []
   },
   "outputs": [
    {
     "data": {
      "text/plain": [
       "array([[136343,      0],\n",
       "       [  1102,      0]])"
      ]
     },
     "execution_count": 109,
     "metadata": {},
     "output_type": "execute_result"
    }
   ],
   "source": [
    "confusion_matrix(test_labels, y_pred)"
   ]
  },
  {
   "cell_type": "code",
   "execution_count": 110,
   "id": "569b1dfa-8187-4660-ad31-6e94af667dc4",
   "metadata": {
    "colab": {
     "base_uri": "https://localhost:8080/"
    },
    "executionInfo": {
     "elapsed": 3,
     "status": "ok",
     "timestamp": 1639087937368,
     "user": {
      "displayName": "Fran Vaquer",
      "photoUrl": "https://lh3.googleusercontent.com/a/default-user=s64",
      "userId": "05040906435658654965"
     },
     "user_tz": -60
    },
    "id": "AXWQsvvodvIG",
    "outputId": "b5574b57-58b5-43ea-ce81-c62b115860d2",
    "tags": []
   },
   "outputs": [
    {
     "name": "stdout",
     "output_type": "stream",
     "text": [
      "                       Predicción No Programa Herencias  \\\n",
      "No Programa Herencias                            136343   \n",
      "Programa Herencias                                 1102   \n",
      "\n",
      "                       Predicción Programa Herencias  \n",
      "No Programa Herencias                              0  \n",
      "Programa Herencias                                 0  \n"
     ]
    }
   ],
   "source": [
    "conf=pd.DataFrame(\n",
    "    confusion_matrix(test_labels, y_pred),\n",
    "    columns=['Predicción No Programa Herencias', 'Predicción Programa Herencias'],\n",
    "    index  =['No Programa Herencias', 'Programa Herencias']\n",
    ")\n",
    "print(conf)"
   ]
  },
  {
   "cell_type": "code",
   "execution_count": 111,
   "id": "0e7a0fa3-23a5-41e5-afe8-8c1a972562a2",
   "metadata": {
    "colab": {
     "base_uri": "https://localhost:8080/"
    },
    "executionInfo": {
     "elapsed": 3,
     "status": "ok",
     "timestamp": 1639087938359,
     "user": {
      "displayName": "Fran Vaquer",
      "photoUrl": "https://lh3.googleusercontent.com/a/default-user=s64",
      "userId": "05040906435658654965"
     },
     "user_tz": -60
    },
    "id": "CU28npXveGN0",
    "outputId": "e560df3b-fdd8-4b15-c5c3-c4d722f15237",
    "tags": []
   },
   "outputs": [
    {
     "data": {
      "text/plain": [
       "0.9919822474444323"
      ]
     },
     "execution_count": 111,
     "metadata": {},
     "output_type": "execute_result"
    }
   ],
   "source": [
    "accuracy_score(test_labels, y_pred)"
   ]
  },
  {
   "cell_type": "code",
   "execution_count": 112,
   "id": "ae47981d-63c8-421c-b17b-fd2749195008",
   "metadata": {
    "colab": {
     "base_uri": "https://localhost:8080/"
    },
    "executionInfo": {
     "elapsed": 2,
     "status": "ok",
     "timestamp": 1639087939362,
     "user": {
      "displayName": "Fran Vaquer",
      "photoUrl": "https://lh3.googleusercontent.com/a/default-user=s64",
      "userId": "05040906435658654965"
     },
     "user_tz": -60
    },
    "id": "_mtNLwPVeiOO",
    "outputId": "062ce7e4-6246-4aab-a087-cc9eebad10e5",
    "scrolled": true,
    "tags": []
   },
   "outputs": [
    {
     "data": {
      "text/plain": [
       "0.5"
      ]
     },
     "execution_count": 112,
     "metadata": {},
     "output_type": "execute_result"
    }
   ],
   "source": [
    "roc_auc_score(test_labels, y_pred)"
   ]
  },
  {
   "cell_type": "code",
   "execution_count": 113,
   "id": "38dc773d-c9c6-43b4-968a-2ea443a202af",
   "metadata": {
    "id": "gjmgGG3Kewlx",
    "tags": []
   },
   "outputs": [],
   "source": [
    "fpr, tpr, threshold = roc_curve(test_labels, y_pred)\n",
    "roc_auc = roc_auc_score(test_labels, y_pred)"
   ]
  },
  {
   "cell_type": "code",
   "execution_count": 114,
   "id": "874b6f65-74cc-4caa-8a9c-8f7525c782a9",
   "metadata": {
    "colab": {
     "base_uri": "https://localhost:8080/",
     "height": 295
    },
    "executionInfo": {
     "elapsed": 503,
     "status": "ok",
     "timestamp": 1639087942662,
     "user": {
      "displayName": "Fran Vaquer",
      "photoUrl": "https://lh3.googleusercontent.com/a/default-user=s64",
      "userId": "05040906435658654965"
     },
     "user_tz": -60
    },
    "id": "xx7bFQUjez5m",
    "outputId": "ac149dff-5d87-4bf2-a342-2d4b785b157a",
    "tags": []
   },
   "outputs": [
    {
     "data": {
      "image/png": "[encoded data removed]",
      "text/plain": [
       "<Figure size 640x480 with 1 Axes>"
      ]
     },
     "metadata": {},
     "output_type": "display_data"
    }
   ],
   "source": [
    "plt.title('Receiver Operating Characteristic')\n",
    "plt.plot(fpr, tpr, 'b', label = 'AUC = %0.2f' % roc_auc)\n",
    "plt.legend(loc = 'lower right')\n",
    "plt.plot([0, 1], [0, 1],'r--')\n",
    "plt.xlim([0, 1])\n",
    "plt.ylim([0, 1])\n",
    "plt.ylabel('True Positive Rate')\n",
    "plt.xlabel('False Positive Rate')\n",
    "plt.show()"
   ]
  },
  {
   "cell_type": "markdown",
   "id": "b6a714bf-3734-4abc-9810-70543bbc7848",
   "metadata": {
    "id": "HnrAudROBmAI"
   },
   "source": [
    "#### RF Classifier"
   ]
  },
  {
   "cell_type": "markdown",
   "id": "4be66851-cad6-423e-81d6-c1bc51c5d825",
   "metadata": {},
   "source": [
    "##### Entrenamiento"
   ]
  },
  {
   "cell_type": "code",
   "execution_count": 115,
   "id": "b15030a9-edb5-4b7b-8528-0fdb360f35ae",
   "metadata": {
    "colab": {
     "base_uri": "https://localhost:8080/"
    },
    "executionInfo": {
     "elapsed": 414,
     "status": "ok",
     "timestamp": 1638957755719,
     "user": {
      "displayName": "Fran Vaquer",
      "photoUrl": "https://lh3.googleusercontent.com/a/default-user=s64",
      "userId": "05040906435658654965"
     },
     "user_tz": -60
    },
    "id": "wmZS0PUtBmAI",
    "outputId": "00dee959-2db3-442b-d0c6-deb77d90d480",
    "tags": []
   },
   "outputs": [],
   "source": [
    "train_pipeline = Pipeline([('scaler', StandardScaler()), ('rf', RandomForestClassifier(max_depth=2, random_state=0))])"
   ]
  },
  {
   "cell_type": "code",
   "execution_count": 116,
   "id": "171df388-2098-44fb-822a-3144760c6cff",
   "metadata": {
    "tags": []
   },
   "outputs": [
    {
     "data": {
      "text/plain": [
       "Pipeline(steps=[('scaler', StandardScaler()),\n",
       "                ('rf', RandomForestClassifier(max_depth=2, random_state=0))])"
      ]
     },
     "execution_count": 116,
     "metadata": {},
     "output_type": "execute_result"
    }
   ],
   "source": [
    "train_pipeline.fit(smote_df.drop([\"Target\"], axis=1), smote_df[\"Target\"])"
   ]
  },
  {
   "cell_type": "markdown",
   "id": "86b5bbcd-2f30-4b87-b025-dd334518262c",
   "metadata": {},
   "source": [
    "##### Evaluacion"
   ]
  },
  {
   "cell_type": "code",
   "execution_count": 117,
   "id": "f983243b-2eb7-47bd-9be3-ebc022efe8ff",
   "metadata": {
    "id": "gXsrDSDDMed4",
    "tags": []
   },
   "outputs": [
    {
     "name": "stderr",
     "output_type": "stream",
     "text": [
      "/opt/conda/lib/python3.10/site-packages/sklearn/base.py:445: UserWarning: X does not have valid feature names, but StandardScaler was fitted with feature names\n",
      "  warnings.warn(\n"
     ]
    }
   ],
   "source": [
    "y_pred  = train_pipeline.predict(test_features)"
   ]
  },
  {
   "cell_type": "code",
   "execution_count": 118,
   "id": "d3f9456f-e320-4aa5-a04a-b14b16c7fb88",
   "metadata": {
    "colab": {
     "base_uri": "https://localhost:8080/"
    },
    "executionInfo": {
     "elapsed": 3,
     "status": "ok",
     "timestamp": 1639087935169,
     "user": {
      "displayName": "Fran Vaquer",
      "photoUrl": "https://lh3.googleusercontent.com/a/default-user=s64",
      "userId": "05040906435658654965"
     },
     "user_tz": -60
    },
    "id": "MHDA7bYMdoCr",
    "outputId": "24815273-14ec-489a-f3ff-401d46ade1c9",
    "tags": []
   },
   "outputs": [
    {
     "name": "stdout",
     "output_type": "stream",
     "text": [
      "              precision    recall  f1-score   support\n",
      "\n",
      "         0.0       0.00      0.00      0.00    136343\n",
      "         1.0       0.01      1.00      0.02      1102\n",
      "\n",
      "    accuracy                           0.01    137445\n",
      "   macro avg       0.00      0.50      0.01    137445\n",
      "weighted avg       0.00      0.01      0.00    137445\n",
      "\n"
     ]
    },
    {
     "name": "stderr",
     "output_type": "stream",
     "text": [
      "/opt/conda/lib/python3.10/site-packages/sklearn/metrics/_classification.py:1308: UndefinedMetricWarning: Precision and F-score are ill-defined and being set to 0.0 in labels with no predicted samples. Use `zero_division` parameter to control this behavior.\n",
      "  _warn_prf(average, modifier, msg_start, len(result))\n",
      "/opt/conda/lib/python3.10/site-packages/sklearn/metrics/_classification.py:1308: UndefinedMetricWarning: Precision and F-score are ill-defined and being set to 0.0 in labels with no predicted samples. Use `zero_division` parameter to control this behavior.\n",
      "  _warn_prf(average, modifier, msg_start, len(result))\n",
      "/opt/conda/lib/python3.10/site-packages/sklearn/metrics/_classification.py:1308: UndefinedMetricWarning: Precision and F-score are ill-defined and being set to 0.0 in labels with no predicted samples. Use `zero_division` parameter to control this behavior.\n",
      "  _warn_prf(average, modifier, msg_start, len(result))\n"
     ]
    }
   ],
   "source": [
    "print(classification_report(test_labels, y_pred))"
   ]
  },
  {
   "cell_type": "code",
   "execution_count": 119,
   "id": "3bbff732-fd56-44d9-a8fc-efb86436ac68",
   "metadata": {
    "colab": {
     "base_uri": "https://localhost:8080/"
    },
    "executionInfo": {
     "elapsed": 1,
     "status": "ok",
     "timestamp": 1639087936213,
     "user": {
      "displayName": "Fran Vaquer",
      "photoUrl": "https://lh3.googleusercontent.com/a/default-user=s64",
      "userId": "05040906435658654965"
     },
     "user_tz": -60
    },
    "id": "jEIYLoXKeQMQ",
    "outputId": "889e4dce-5475-454e-d36e-4eebd87c6914",
    "tags": []
   },
   "outputs": [
    {
     "data": {
      "text/plain": [
       "array([[     0, 136343],\n",
       "       [     0,   1102]])"
      ]
     },
     "execution_count": 119,
     "metadata": {},
     "output_type": "execute_result"
    }
   ],
   "source": [
    "confusion_matrix(test_labels, y_pred)"
   ]
  },
  {
   "cell_type": "code",
   "execution_count": 120,
   "id": "69d7c052-930f-4f56-8cda-fd761cd611b1",
   "metadata": {
    "colab": {
     "base_uri": "https://localhost:8080/"
    },
    "executionInfo": {
     "elapsed": 3,
     "status": "ok",
     "timestamp": 1639087937368,
     "user": {
      "displayName": "Fran Vaquer",
      "photoUrl": "https://lh3.googleusercontent.com/a/default-user=s64",
      "userId": "05040906435658654965"
     },
     "user_tz": -60
    },
    "id": "AXWQsvvodvIG",
    "outputId": "b5574b57-58b5-43ea-ce81-c62b115860d2",
    "tags": []
   },
   "outputs": [
    {
     "name": "stdout",
     "output_type": "stream",
     "text": [
      "                       Predicción No Programa Herencias  \\\n",
      "No Programa Herencias                                 0   \n",
      "Programa Herencias                                    0   \n",
      "\n",
      "                       Predicción Programa Herencias  \n",
      "No Programa Herencias                         136343  \n",
      "Programa Herencias                              1102  \n"
     ]
    }
   ],
   "source": [
    "conf=pd.DataFrame(\n",
    "    confusion_matrix(test_labels, y_pred),\n",
    "    columns=['Predicción No Programa Herencias', 'Predicción Programa Herencias'],\n",
    "    index  =['No Programa Herencias', 'Programa Herencias']\n",
    ")\n",
    "print(conf)"
   ]
  },
  {
   "cell_type": "code",
   "execution_count": 121,
   "id": "4d9aff7a-0f46-481c-9175-8d8df6e74f20",
   "metadata": {
    "colab": {
     "base_uri": "https://localhost:8080/"
    },
    "executionInfo": {
     "elapsed": 3,
     "status": "ok",
     "timestamp": 1639087938359,
     "user": {
      "displayName": "Fran Vaquer",
      "photoUrl": "https://lh3.googleusercontent.com/a/default-user=s64",
      "userId": "05040906435658654965"
     },
     "user_tz": -60
    },
    "id": "CU28npXveGN0",
    "outputId": "e560df3b-fdd8-4b15-c5c3-c4d722f15237",
    "tags": []
   },
   "outputs": [
    {
     "data": {
      "text/plain": [
       "0.008017752555567682"
      ]
     },
     "execution_count": 121,
     "metadata": {},
     "output_type": "execute_result"
    }
   ],
   "source": [
    "accuracy_score(test_labels, y_pred)"
   ]
  },
  {
   "cell_type": "code",
   "execution_count": 122,
   "id": "6ca32871-a295-49ae-a8b9-cd6c5aa85dff",
   "metadata": {
    "colab": {
     "base_uri": "https://localhost:8080/"
    },
    "executionInfo": {
     "elapsed": 2,
     "status": "ok",
     "timestamp": 1639087939362,
     "user": {
      "displayName": "Fran Vaquer",
      "photoUrl": "https://lh3.googleusercontent.com/a/default-user=s64",
      "userId": "05040906435658654965"
     },
     "user_tz": -60
    },
    "id": "_mtNLwPVeiOO",
    "outputId": "062ce7e4-6246-4aab-a087-cc9eebad10e5",
    "scrolled": true,
    "tags": []
   },
   "outputs": [
    {
     "data": {
      "text/plain": [
       "0.5"
      ]
     },
     "execution_count": 122,
     "metadata": {},
     "output_type": "execute_result"
    }
   ],
   "source": [
    "roc_auc_score(test_labels, y_pred)"
   ]
  },
  {
   "cell_type": "code",
   "execution_count": 123,
   "id": "1a0b40c0-7387-458d-bad5-7c5aef61f68e",
   "metadata": {
    "id": "gjmgGG3Kewlx",
    "tags": []
   },
   "outputs": [],
   "source": [
    "fpr, tpr, threshold = roc_curve(test_labels, y_pred)\n",
    "roc_auc = roc_auc_score(test_labels, y_pred)"
   ]
  },
  {
   "cell_type": "code",
   "execution_count": 124,
   "id": "eef58c39-59b3-4712-b74e-01dec47008f7",
   "metadata": {
    "colab": {
     "base_uri": "https://localhost:8080/",
     "height": 295
    },
    "executionInfo": {
     "elapsed": 503,
     "status": "ok",
     "timestamp": 1639087942662,
     "user": {
      "displayName": "Fran Vaquer",
      "photoUrl": "https://lh3.googleusercontent.com/a/default-user=s64",
      "userId": "05040906435658654965"
     },
     "user_tz": -60
    },
    "id": "xx7bFQUjez5m",
    "outputId": "ac149dff-5d87-4bf2-a342-2d4b785b157a",
    "tags": []
   },
   "outputs": [
    {
     "data": {
      "image/png": "[encoded data removed]",
      "text/plain": [
       "<Figure size 640x480 with 1 Axes>"
      ]
     },
     "metadata": {},
     "output_type": "display_data"
    }
   ],
   "source": [
    "plt.title('Receiver Operating Characteristic')\n",
    "plt.plot(fpr, tpr, 'b', label = 'AUC = %0.2f' % roc_auc)\n",
    "plt.legend(loc = 'lower right')\n",
    "plt.plot([0, 1], [0, 1],'r--')\n",
    "plt.xlim([0, 1])\n",
    "plt.ylim([0, 1])\n",
    "plt.ylabel('True Positive Rate')\n",
    "plt.xlabel('False Positive Rate')\n",
    "plt.show()"
   ]
  },
  {
   "cell_type": "markdown",
   "id": "6ce292e4-cd05-4fe2-9ea1-51e17522b727",
   "metadata": {
    "id": "HnrAudROBmAI"
   },
   "source": [
    "#### MLP Classifier"
   ]
  },
  {
   "cell_type": "markdown",
   "id": "3ef6f96e-30bb-4734-a629-1809d480a095",
   "metadata": {},
   "source": [
    "##### Entrenamiento"
   ]
  },
  {
   "cell_type": "code",
   "execution_count": 125,
   "id": "f396dcb0-a84d-4f21-9b77-6b427781cdc1",
   "metadata": {
    "colab": {
     "base_uri": "https://localhost:8080/"
    },
    "executionInfo": {
     "elapsed": 414,
     "status": "ok",
     "timestamp": 1638957755719,
     "user": {
      "displayName": "Fran Vaquer",
      "photoUrl": "https://lh3.googleusercontent.com/a/default-user=s64",
      "userId": "05040906435658654965"
     },
     "user_tz": -60
    },
    "id": "wmZS0PUtBmAI",
    "outputId": "00dee959-2db3-442b-d0c6-deb77d90d480",
    "tags": []
   },
   "outputs": [],
   "source": [
    "train_pipeline = Pipeline([('scaler', StandardScaler()), ('mlp', MLPClassifier(random_state=0, max_iter=25))])"
   ]
  },
  {
   "cell_type": "code",
   "execution_count": 126,
   "id": "b34996db-2769-48a2-a588-4adc1f5b9326",
   "metadata": {
    "tags": []
   },
   "outputs": [
    {
     "name": "stderr",
     "output_type": "stream",
     "text": [
      "/opt/conda/lib/python3.10/site-packages/sklearn/neural_network/_multilayer_perceptron.py:692: ConvergenceWarning: Stochastic Optimizer: Maximum iterations (25) reached and the optimization hasn't converged yet.\n",
      "  warnings.warn(\n"
     ]
    },
    {
     "data": {
      "text/plain": [
       "Pipeline(steps=[('scaler', StandardScaler()),\n",
       "                ('mlp', MLPClassifier(max_iter=25, random_state=0))])"
      ]
     },
     "execution_count": 126,
     "metadata": {},
     "output_type": "execute_result"
    }
   ],
   "source": [
    "train_pipeline.fit(smote_df.drop([\"Target\"], axis=1), smote_df[\"Target\"])"
   ]
  },
  {
   "cell_type": "markdown",
   "id": "17d39b4b-8410-4d6d-bc87-270271ed6877",
   "metadata": {},
   "source": [
    "##### Evaluacion"
   ]
  },
  {
   "cell_type": "code",
   "execution_count": 127,
   "id": "9a0c5cc4-8aca-47ca-99af-bcb440d34ddc",
   "metadata": {
    "id": "gXsrDSDDMed4",
    "tags": []
   },
   "outputs": [
    {
     "name": "stderr",
     "output_type": "stream",
     "text": [
      "/opt/conda/lib/python3.10/site-packages/sklearn/base.py:445: UserWarning: X does not have valid feature names, but StandardScaler was fitted with feature names\n",
      "  warnings.warn(\n"
     ]
    }
   ],
   "source": [
    "y_pred  = train_pipeline.predict(test_features)"
   ]
  },
  {
   "cell_type": "code",
   "execution_count": 128,
   "id": "9f672e55-82c0-4965-8004-e6f75f09cf9b",
   "metadata": {
    "colab": {
     "base_uri": "https://localhost:8080/"
    },
    "executionInfo": {
     "elapsed": 3,
     "status": "ok",
     "timestamp": 1639087935169,
     "user": {
      "displayName": "Fran Vaquer",
      "photoUrl": "https://lh3.googleusercontent.com/a/default-user=s64",
      "userId": "05040906435658654965"
     },
     "user_tz": -60
    },
    "id": "MHDA7bYMdoCr",
    "outputId": "24815273-14ec-489a-f3ff-401d46ade1c9",
    "tags": []
   },
   "outputs": [
    {
     "name": "stdout",
     "output_type": "stream",
     "text": [
      "              precision    recall  f1-score   support\n",
      "\n",
      "         0.0       1.00      0.19      0.31    136343\n",
      "         1.0       0.01      0.96      0.02      1102\n",
      "\n",
      "    accuracy                           0.19    137445\n",
      "   macro avg       0.50      0.57      0.17    137445\n",
      "weighted avg       0.99      0.19      0.31    137445\n",
      "\n"
     ]
    }
   ],
   "source": [
    "print(classification_report(test_labels, y_pred))"
   ]
  },
  {
   "cell_type": "code",
   "execution_count": 129,
   "id": "fe455afe-7a28-4fd7-aaab-f841e087d6a5",
   "metadata": {
    "colab": {
     "base_uri": "https://localhost:8080/"
    },
    "executionInfo": {
     "elapsed": 1,
     "status": "ok",
     "timestamp": 1639087936213,
     "user": {
      "displayName": "Fran Vaquer",
      "photoUrl": "https://lh3.googleusercontent.com/a/default-user=s64",
      "userId": "05040906435658654965"
     },
     "user_tz": -60
    },
    "id": "jEIYLoXKeQMQ",
    "outputId": "889e4dce-5475-454e-d36e-4eebd87c6914",
    "tags": []
   },
   "outputs": [
    {
     "data": {
      "text/plain": [
       "array([[ 25226, 111117],\n",
       "       [    48,   1054]])"
      ]
     },
     "execution_count": 129,
     "metadata": {},
     "output_type": "execute_result"
    }
   ],
   "source": [
    "confusion_matrix(test_labels, y_pred)"
   ]
  },
  {
   "cell_type": "code",
   "execution_count": 130,
   "id": "4d2c8484-bc7e-46d0-9169-0fdfed6bed00",
   "metadata": {
    "colab": {
     "base_uri": "https://localhost:8080/"
    },
    "executionInfo": {
     "elapsed": 3,
     "status": "ok",
     "timestamp": 1639087937368,
     "user": {
      "displayName": "Fran Vaquer",
      "photoUrl": "https://lh3.googleusercontent.com/a/default-user=s64",
      "userId": "05040906435658654965"
     },
     "user_tz": -60
    },
    "id": "AXWQsvvodvIG",
    "outputId": "b5574b57-58b5-43ea-ce81-c62b115860d2",
    "tags": []
   },
   "outputs": [
    {
     "name": "stdout",
     "output_type": "stream",
     "text": [
      "                       Predicción No Programa Herencias  \\\n",
      "No Programa Herencias                             25226   \n",
      "Programa Herencias                                   48   \n",
      "\n",
      "                       Predicción Programa Herencias  \n",
      "No Programa Herencias                         111117  \n",
      "Programa Herencias                              1054  \n"
     ]
    }
   ],
   "source": [
    "conf=pd.DataFrame(\n",
    "    confusion_matrix(test_labels, y_pred),\n",
    "    columns=['Predicción No Programa Herencias', 'Predicción Programa Herencias'],\n",
    "    index  =['No Programa Herencias', 'Programa Herencias']\n",
    ")\n",
    "print(conf)"
   ]
  },
  {
   "cell_type": "code",
   "execution_count": 131,
   "id": "bd31d485-daa2-4d85-a938-db0ca3e8defc",
   "metadata": {
    "colab": {
     "base_uri": "https://localhost:8080/"
    },
    "executionInfo": {
     "elapsed": 3,
     "status": "ok",
     "timestamp": 1639087938359,
     "user": {
      "displayName": "Fran Vaquer",
      "photoUrl": "https://lh3.googleusercontent.com/a/default-user=s64",
      "userId": "05040906435658654965"
     },
     "user_tz": -60
    },
    "id": "CU28npXveGN0",
    "outputId": "e560df3b-fdd8-4b15-c5c3-c4d722f15237",
    "tags": []
   },
   "outputs": [
    {
     "data": {
      "text/plain": [
       "0.19120375422896432"
      ]
     },
     "execution_count": 131,
     "metadata": {},
     "output_type": "execute_result"
    }
   ],
   "source": [
    "accuracy_score(test_labels, y_pred)"
   ]
  },
  {
   "cell_type": "code",
   "execution_count": 132,
   "id": "256fbce1-5bf6-42f8-af41-9b03a66c3df3",
   "metadata": {
    "colab": {
     "base_uri": "https://localhost:8080/"
    },
    "executionInfo": {
     "elapsed": 2,
     "status": "ok",
     "timestamp": 1639087939362,
     "user": {
      "displayName": "Fran Vaquer",
      "photoUrl": "https://lh3.googleusercontent.com/a/default-user=s64",
      "userId": "05040906435658654965"
     },
     "user_tz": -60
    },
    "id": "_mtNLwPVeiOO",
    "outputId": "062ce7e4-6246-4aab-a087-cc9eebad10e5",
    "scrolled": true,
    "tags": []
   },
   "outputs": [
    {
     "data": {
      "text/plain": [
       "0.5707307486870581"
      ]
     },
     "execution_count": 132,
     "metadata": {},
     "output_type": "execute_result"
    }
   ],
   "source": [
    "roc_auc_score(test_labels, y_pred)"
   ]
  },
  {
   "cell_type": "code",
   "execution_count": 133,
   "id": "c9eab231-6dd6-4145-9342-56fde459cf98",
   "metadata": {
    "id": "gjmgGG3Kewlx",
    "tags": []
   },
   "outputs": [],
   "source": [
    "fpr, tpr, threshold = roc_curve(test_labels, y_pred)\n",
    "roc_auc = roc_auc_score(test_labels, y_pred)"
   ]
  },
  {
   "cell_type": "code",
   "execution_count": 134,
   "id": "d22a60e9-dbd3-4b11-b107-904b3d2d249d",
   "metadata": {
    "colab": {
     "base_uri": "https://localhost:8080/",
     "height": 295
    },
    "executionInfo": {
     "elapsed": 503,
     "status": "ok",
     "timestamp": 1639087942662,
     "user": {
      "displayName": "Fran Vaquer",
      "photoUrl": "https://lh3.googleusercontent.com/a/default-user=s64",
      "userId": "05040906435658654965"
     },
     "user_tz": -60
    },
    "id": "xx7bFQUjez5m",
    "outputId": "ac149dff-5d87-4bf2-a342-2d4b785b157a",
    "tags": []
   },
   "outputs": [
    {
     "data": {
      "image/png": "[encoded data removed]",
      "text/plain": [
       "<Figure size 640x480 with 1 Axes>"
      ]
     },
     "metadata": {},
     "output_type": "display_data"
    }
   ],
   "source": [
    "plt.title('Receiver Operating Characteristic')\n",
    "plt.plot(fpr, tpr, 'b', label = 'AUC = %0.2f' % roc_auc)\n",
    "plt.legend(loc = 'lower right')\n",
    "plt.plot([0, 1], [0, 1],'r--')\n",
    "plt.xlim([0, 1])\n",
    "plt.ylim([0, 1])\n",
    "plt.ylabel('True Positive Rate')\n",
    "plt.xlabel('False Positive Rate')\n",
    "plt.show()"
   ]
  },
  {
   "cell_type": "markdown",
   "id": "f7a18108-d159-471b-ab50-3a36b721e24e",
   "metadata": {
    "tags": []
   },
   "source": [
    "#### Conclusiones \n",
    "- Balanceando añadiendo registros de la clase minoritaria, en nuestro caso ha empeorado el modelo, ya que ha hecho que siempre diga que tiene programa herencias\n",
    "- Esto es debido a que el dato es menos rico, y para los clasificadores es más sencillo decir que no lo tiene.\n",
    "- Este enfoque no sirve para mejorar nuestro modelo"
   ]
  },
  {
   "cell_type": "markdown",
   "id": "81f5cf48-3b2c-4ec8-bbf0-92610cfd040e",
   "metadata": {},
   "source": [
    "### Hiperparametros modelo balanceado\n",
    "- La búsqueda del modelo más óptimo consiste en ir probando combinaciones de parámetros, buscando la más óptima para nuestro caso de uso\n",
    "- Generamos una serie de parámetros\n",
    "- Evaluamos los 4 clasificadores anteriormente comentados"
   ]
  },
  {
   "cell_type": "markdown",
   "id": "2e092a07-2e65-4b40-99a7-ce5695bf31b8",
   "metadata": {
    "id": "Zkn73Mg4e8zd"
   },
   "source": [
    "#### REGRESIÓN LOGÍSTICA"
   ]
  },
  {
   "cell_type": "markdown",
   "id": "989fc433-1168-4383-93c3-35b2061e393f",
   "metadata": {},
   "source": [
    "##### Asignación hiperparámetros"
   ]
  },
  {
   "cell_type": "code",
   "execution_count": 135,
   "id": "1c6c213e-857c-4c4f-a40a-7438c08ad759",
   "metadata": {
    "tags": []
   },
   "outputs": [],
   "source": [
    "hyp_pipe = Pipeline(steps=[('std_slc', StandardScaler()),\n",
    "                           ('pca', decomposition.PCA()),\n",
    "                           ('logistic_Reg', LogisticRegression())])"
   ]
  },
  {
   "cell_type": "code",
   "execution_count": 136,
   "id": "1b92221f-81dc-46bb-9019-740b67623848",
   "metadata": {
    "tags": []
   },
   "outputs": [],
   "source": [
    "aux_n_cmp = int(round(balanced_df.drop([\"Target\"], axis=1).shape[1]/4,0))\n",
    "n_components = [aux_n_cmp,balanced_df.drop([\"Target\"], axis=1).shape[1]]\n",
    "C = np.logspace(-4, 4, 5)\n",
    "penalty = ['l2']\n",
    "solver = ['lbfgs', 'sag']\n",
    "parameters = dict(pca__n_components=n_components,\n",
    "                      logistic_Reg__C=C,\n",
    "                      logistic_Reg__penalty=penalty,\n",
    "                  logistic_Reg__solver=solver)"
   ]
  },
  {
   "cell_type": "markdown",
   "id": "7bffc9c6-368a-4e0c-b7a6-19b9586e2f39",
   "metadata": {},
   "source": [
    "##### Búsqueda de mejor modelo"
   ]
  },
  {
   "cell_type": "code",
   "execution_count": 137,
   "id": "ed3b3f86-099f-4f69-aee8-67d75cc52f31",
   "metadata": {
    "tags": []
   },
   "outputs": [
    {
     "data": {
      "text/plain": [
       "GridSearchCV(estimator=Pipeline(steps=[('std_slc', StandardScaler()),\n",
       "                                       ('pca', PCA()),\n",
       "                                       ('logistic_Reg', LogisticRegression())]),\n",
       "             param_grid={'logistic_Reg__C': array([1.e-04, 1.e-02, 1.e+00, 1.e+02, 1.e+04]),\n",
       "                         'logistic_Reg__penalty': ['l2'],\n",
       "                         'logistic_Reg__solver': ['lbfgs', 'sag'],\n",
       "                         'pca__n_components': [24, 95]})"
      ]
     },
     "execution_count": 137,
     "metadata": {},
     "output_type": "execute_result"
    }
   ],
   "source": [
    "%%capture --no-display\n",
    "clf_GS = GridSearchCV(hyp_pipe, parameters)\n",
    "clf_GS.fit(balanced_df.drop([\"Target\"], axis=1), balanced_df[\"Target\"])"
   ]
  },
  {
   "cell_type": "code",
   "execution_count": 138,
   "id": "a64f1bfb-ec26-4134-815c-e8c16d0037b0",
   "metadata": {
    "tags": []
   },
   "outputs": [
    {
     "name": "stdout",
     "output_type": "stream",
     "text": [
      "Best Penalty: l2\n",
      "Best C: 100.0\n",
      "Best Number Of Components: 95\n",
      "Best Solver: lbfgs\n",
      "\n",
      "LogisticRegression(C=100.0)\n"
     ]
    }
   ],
   "source": [
    "print('Best Penalty:', clf_GS.best_estimator_.get_params()['logistic_Reg__penalty'])\n",
    "print('Best C:', clf_GS.best_estimator_.get_params()['logistic_Reg__C'])\n",
    "print('Best Number Of Components:', clf_GS.best_estimator_.get_params()['pca__n_components'])\n",
    "print('Best Solver:', clf_GS.best_estimator_.get_params()['logistic_Reg__solver'])\n",
    "print(); print(clf_GS.best_estimator_.get_params()['logistic_Reg'])"
   ]
  },
  {
   "cell_type": "markdown",
   "id": "36267532-eb46-4d61-a0f6-a8b96ca05dba",
   "metadata": {},
   "source": [
    "##### Evaluacion"
   ]
  },
  {
   "cell_type": "code",
   "execution_count": 139,
   "id": "60e28cb8-6362-45cc-b08c-fa843395a378",
   "metadata": {
    "id": "gXsrDSDDMed4",
    "tags": []
   },
   "outputs": [
    {
     "name": "stderr",
     "output_type": "stream",
     "text": [
      "/opt/conda/lib/python3.10/site-packages/sklearn/base.py:445: UserWarning: X does not have valid feature names, but StandardScaler was fitted with feature names\n",
      "  warnings.warn(\n"
     ]
    }
   ],
   "source": [
    "y_pred  = clf_GS.best_estimator_.predict(test_features)"
   ]
  },
  {
   "cell_type": "code",
   "execution_count": 140,
   "id": "235ae151-4a17-4677-b9af-051b0b830a18",
   "metadata": {
    "colab": {
     "base_uri": "https://localhost:8080/"
    },
    "executionInfo": {
     "elapsed": 3,
     "status": "ok",
     "timestamp": 1639087935169,
     "user": {
      "displayName": "Fran Vaquer",
      "photoUrl": "https://lh3.googleusercontent.com/a/default-user=s64",
      "userId": "05040906435658654965"
     },
     "user_tz": -60
    },
    "id": "MHDA7bYMdoCr",
    "outputId": "24815273-14ec-489a-f3ff-401d46ade1c9",
    "tags": []
   },
   "outputs": [
    {
     "name": "stdout",
     "output_type": "stream",
     "text": [
      "              precision    recall  f1-score   support\n",
      "\n",
      "         0.0       1.00      0.90      0.95    136343\n",
      "         1.0       0.06      0.85      0.12      1102\n",
      "\n",
      "    accuracy                           0.90    137445\n",
      "   macro avg       0.53      0.87      0.53    137445\n",
      "weighted avg       0.99      0.90      0.94    137445\n",
      "\n"
     ]
    }
   ],
   "source": [
    "print(classification_report(test_labels, y_pred))"
   ]
  },
  {
   "cell_type": "code",
   "execution_count": 141,
   "id": "f458177c-2675-4572-8722-2811164e73c5",
   "metadata": {
    "colab": {
     "base_uri": "https://localhost:8080/"
    },
    "executionInfo": {
     "elapsed": 1,
     "status": "ok",
     "timestamp": 1639087936213,
     "user": {
      "displayName": "Fran Vaquer",
      "photoUrl": "https://lh3.googleusercontent.com/a/default-user=s64",
      "userId": "05040906435658654965"
     },
     "user_tz": -60
    },
    "id": "jEIYLoXKeQMQ",
    "outputId": "889e4dce-5475-454e-d36e-4eebd87c6914",
    "tags": []
   },
   "outputs": [
    {
     "data": {
      "text/plain": [
       "array([[122618,  13725],\n",
       "       [   168,    934]])"
      ]
     },
     "execution_count": 141,
     "metadata": {},
     "output_type": "execute_result"
    }
   ],
   "source": [
    "confusion_matrix(test_labels, y_pred)"
   ]
  },
  {
   "cell_type": "markdown",
   "id": "51f8f05b-624a-4ab7-a08f-31b4b32434a2",
   "metadata": {
    "id": "Zkn73Mg4e8zd"
   },
   "source": [
    "#### NB"
   ]
  },
  {
   "cell_type": "markdown",
   "id": "28629b9e-a7e5-4639-a764-6a871c27e656",
   "metadata": {},
   "source": [
    "##### Asignación hiperparámetros"
   ]
  },
  {
   "cell_type": "code",
   "execution_count": 142,
   "id": "a3cb676c-afcd-4255-93f7-8f2b5f6401ab",
   "metadata": {
    "tags": []
   },
   "outputs": [],
   "source": [
    "hyp_pipe = Pipeline(steps=[('std_slc', StandardScaler()),\n",
    "                           ('pca', decomposition.PCA()),\n",
    "                           ('nb', GaussianNB())])"
   ]
  },
  {
   "cell_type": "code",
   "execution_count": 143,
   "id": "db0809c5-3f25-4d90-89b3-ba334343ef11",
   "metadata": {
    "tags": []
   },
   "outputs": [],
   "source": [
    "aux_n_cmp = int(round(balanced_df.drop([\"Target\"], axis=1).shape[1]/4,0))\n",
    "n_components = [aux_n_cmp,balanced_df.drop([\"Target\"], axis=1).shape[1]]\n",
    "var_smoothing= [1e-11, 1e-10, 1e-9]\n",
    "parameters = dict(pca__n_components=n_components,\n",
    "                      nb__var_smoothing=var_smoothing)"
   ]
  },
  {
   "cell_type": "code",
   "execution_count": 144,
   "id": "16fb7200-8187-43fc-8593-a470854a9372",
   "metadata": {
    "tags": []
   },
   "outputs": [
    {
     "data": {
      "text/plain": [
       "GridSearchCV(estimator=Pipeline(steps=[('std_slc', StandardScaler()),\n",
       "                                       ('pca', PCA()), ('nb', GaussianNB())]),\n",
       "             param_grid={'nb__var_smoothing': [1e-11, 1e-10, 1e-09],\n",
       "                         'pca__n_components': [24, 95]})"
      ]
     },
     "execution_count": 144,
     "metadata": {},
     "output_type": "execute_result"
    }
   ],
   "source": [
    "%%capture --no-display\n",
    "nb_GS = GridSearchCV(hyp_pipe, parameters)\n",
    "nb_GS.fit(balanced_df.drop([\"Target\"], axis=1), balanced_df[\"Target\"])"
   ]
  },
  {
   "cell_type": "markdown",
   "id": "419d084b-3a80-4a6b-987d-fbda50e217e8",
   "metadata": {},
   "source": [
    "##### Búsqueda de mejor modelo"
   ]
  },
  {
   "cell_type": "code",
   "execution_count": 145,
   "id": "a6448625-2de5-4a7c-801c-4c4c5274e8e4",
   "metadata": {
    "tags": []
   },
   "outputs": [
    {
     "name": "stdout",
     "output_type": "stream",
     "text": [
      "Best Number Of Components: 24\n",
      "Best var_smoothing: 1e-09\n",
      "\n",
      "GaussianNB()\n"
     ]
    }
   ],
   "source": [
    "print('Best Number Of Components:', nb_GS.best_estimator_.get_params()['pca__n_components'])\n",
    "print('Best var_smoothing:', nb_GS.best_estimator_.get_params()['nb__var_smoothing'])\n",
    "print(); print(nb_GS.best_estimator_.get_params()['nb'])"
   ]
  },
  {
   "cell_type": "markdown",
   "id": "20e5024e-8bfb-43dc-9b83-263a0e43c70c",
   "metadata": {},
   "source": [
    "##### Evaluacion"
   ]
  },
  {
   "cell_type": "code",
   "execution_count": 146,
   "id": "de783d63-65f5-4190-b161-45fa0650a7bd",
   "metadata": {
    "id": "gXsrDSDDMed4",
    "tags": []
   },
   "outputs": [
    {
     "name": "stderr",
     "output_type": "stream",
     "text": [
      "/opt/conda/lib/python3.10/site-packages/sklearn/base.py:445: UserWarning: X does not have valid feature names, but StandardScaler was fitted with feature names\n",
      "  warnings.warn(\n"
     ]
    }
   ],
   "source": [
    "y_pred  = nb_GS.best_estimator_.predict(test_features)"
   ]
  },
  {
   "cell_type": "code",
   "execution_count": 147,
   "id": "5b247be1-1029-47c6-9848-d0ea00207658",
   "metadata": {
    "colab": {
     "base_uri": "https://localhost:8080/"
    },
    "executionInfo": {
     "elapsed": 3,
     "status": "ok",
     "timestamp": 1639087935169,
     "user": {
      "displayName": "Fran Vaquer",
      "photoUrl": "https://lh3.googleusercontent.com/a/default-user=s64",
      "userId": "05040906435658654965"
     },
     "user_tz": -60
    },
    "id": "MHDA7bYMdoCr",
    "outputId": "24815273-14ec-489a-f3ff-401d46ade1c9",
    "tags": []
   },
   "outputs": [
    {
     "name": "stdout",
     "output_type": "stream",
     "text": [
      "              precision    recall  f1-score   support\n",
      "\n",
      "         0.0       1.00      0.92      0.96    136343\n",
      "         1.0       0.06      0.60      0.10      1102\n",
      "\n",
      "    accuracy                           0.91    137445\n",
      "   macro avg       0.53      0.76      0.53    137445\n",
      "weighted avg       0.99      0.91      0.95    137445\n",
      "\n"
     ]
    }
   ],
   "source": [
    "print(classification_report(test_labels, y_pred))"
   ]
  },
  {
   "cell_type": "code",
   "execution_count": 148,
   "id": "b5c01bc7-2f6c-438f-ae59-a2f8d7e5d6df",
   "metadata": {
    "colab": {
     "base_uri": "https://localhost:8080/"
    },
    "executionInfo": {
     "elapsed": 1,
     "status": "ok",
     "timestamp": 1639087936213,
     "user": {
      "displayName": "Fran Vaquer",
      "photoUrl": "https://lh3.googleusercontent.com/a/default-user=s64",
      "userId": "05040906435658654965"
     },
     "user_tz": -60
    },
    "id": "jEIYLoXKeQMQ",
    "outputId": "889e4dce-5475-454e-d36e-4eebd87c6914",
    "tags": []
   },
   "outputs": [
    {
     "data": {
      "text/plain": [
       "array([[125052,  11291],\n",
       "       [   437,    665]])"
      ]
     },
     "execution_count": 148,
     "metadata": {},
     "output_type": "execute_result"
    }
   ],
   "source": [
    "confusion_matrix(test_labels, y_pred)"
   ]
  },
  {
   "cell_type": "markdown",
   "id": "3e64793c-9ecf-4afb-8ab7-a62ad9dc2cbe",
   "metadata": {
    "tags": []
   },
   "source": [
    "Balanceando añadiendo registros de la clase mayoritaria, sirve para aumentar el recall de si tiene programa herencias. Es decir en nuestro caso, detectamos mejor los que tienen herencias\n",
    "y añadimos menos socios potenciales a nuestro modelo"
   ]
  },
  {
   "cell_type": "markdown",
   "id": "8ca5ad06-4e45-4ee3-8d95-070bd14ebb7b",
   "metadata": {
    "id": "Zkn73Mg4e8zd"
   },
   "source": [
    "#### RF Classifier"
   ]
  },
  {
   "cell_type": "markdown",
   "id": "0a02d63e-b77f-4d1a-9eea-b7e464cc4eae",
   "metadata": {},
   "source": [
    "##### Asignación hiperparámetros"
   ]
  },
  {
   "cell_type": "code",
   "execution_count": 149,
   "id": "ccb6bbab-f6c9-4144-a43e-0372467d418e",
   "metadata": {
    "tags": []
   },
   "outputs": [],
   "source": [
    "hyp_pipe = Pipeline(steps=[('std_slc', StandardScaler()),\n",
    "                           ('pca', decomposition.PCA()),\n",
    "                           ('rf', RandomForestClassifier(random_state=0))])"
   ]
  },
  {
   "cell_type": "code",
   "execution_count": 150,
   "id": "1bb1168d-520e-4a7f-8b5e-c615e06b7803",
   "metadata": {
    "tags": []
   },
   "outputs": [],
   "source": [
    "aux_n_cmp = int(round(balanced_df.drop([\"Target\"], axis=1).shape[1]/4,0))\n",
    "n_components = [aux_n_cmp,balanced_df.drop([\"Target\"], axis=1).shape[1]]\n",
    "# Number of trees in random forest\n",
    "n_estimators = [int(x) for x in np.linspace(start = 100, stop = 2000, num = 5)]\n",
    "# Number of features to consider at every split\n",
    "max_features = ['auto', 'sqrt']\n",
    "# Maximum number of levels in tree\n",
    "max_depth = [int(x) for x in np.linspace(2, 100, num = 5)]\n",
    "max_depth.append(None)\n",
    "# Minimum number of samples required to split a node\n",
    "min_samples_split = [2, 5, 10]\n",
    "# Minimum number of samples required at each leaf node\n",
    "min_samples_leaf = [1, 2, 4]\n",
    "# Method of selecting samples for training each tree\n",
    "bootstrap = [True, False]\n",
    "parameters = dict(pca__n_components=n_components,\n",
    "                      rf__max_features=max_features,\n",
    "                      rf__max_depth=max_depth,\n",
    "                  rf__min_samples_split=min_samples_split,\n",
    "                 rf__min_samples_leaf=min_samples_leaf,\n",
    "                 rf__bootstrap=bootstrap)"
   ]
  },
  {
   "cell_type": "markdown",
   "id": "c8f5f9cc-19fb-49cf-b637-0cb26e270a5c",
   "metadata": {},
   "source": [
    "##### Búsqueda de mejor modelo"
   ]
  },
  {
   "cell_type": "code",
   "execution_count": null,
   "id": "4025811e-6ec6-48d2-b026-19e8f57f631a",
   "metadata": {
    "tags": []
   },
   "outputs": [],
   "source": [
    "%%capture --no-display\n",
    "rf_GS = RandomizedSearchCV(estimator=hyp_pipe, param_distributions = parameters, n_iter = 100, cv = 3, verbose=2, random_state=42, n_jobs = -1)\n",
    "rf_GS.fit(balanced_df.drop([\"Target\"], axis=1), balanced_df[\"Target\"])"
   ]
  },
  {
   "cell_type": "code",
   "execution_count": 152,
   "id": "6b5da220-958e-4661-9543-cebae5c04b6b",
   "metadata": {
    "tags": []
   },
   "outputs": [
    {
     "name": "stdout",
     "output_type": "stream",
     "text": [
      "Best Number Of Components: 95\n",
      "Best n_estimators: 100\n",
      "Best max_features: auto\n",
      "Best max_depth: 26\n",
      "Best min_samples_split: 5\n",
      "Best min_samples_leaf: 2\n",
      "Best bootstrap: True\n",
      "\n",
      "RandomForestClassifier(max_depth=26, min_samples_leaf=2, min_samples_split=5,\n",
      "                       random_state=0)\n"
     ]
    }
   ],
   "source": [
    "print('Best Number Of Components:', rf_GS.best_estimator_.get_params()['pca__n_components'])\n",
    "print('Best n_estimators:', rf_GS.best_estimator_.get_params()['rf__n_estimators'])\n",
    "print('Best max_features:', rf_GS.best_estimator_.get_params()['rf__max_features'])\n",
    "print('Best max_depth:', rf_GS.best_estimator_.get_params()['rf__max_depth'])\n",
    "print('Best min_samples_split:', rf_GS.best_estimator_.get_params()['rf__min_samples_split'])\n",
    "print('Best min_samples_leaf:', rf_GS.best_estimator_.get_params()['rf__min_samples_leaf'])\n",
    "print('Best bootstrap:', rf_GS.best_estimator_.get_params()['rf__bootstrap'])\n",
    "print(); print(rf_GS.best_estimator_.get_params()['rf'])"
   ]
  },
  {
   "cell_type": "markdown",
   "id": "ad748d4a-ae8f-44a8-a5c1-360a8dd76ca0",
   "metadata": {},
   "source": [
    "##### Evaluacion"
   ]
  },
  {
   "cell_type": "code",
   "execution_count": 153,
   "id": "61d845db-bd0d-4998-a0fd-2197e29349a1",
   "metadata": {
    "id": "gXsrDSDDMed4",
    "tags": []
   },
   "outputs": [
    {
     "name": "stderr",
     "output_type": "stream",
     "text": [
      "/opt/conda/lib/python3.10/site-packages/sklearn/base.py:445: UserWarning: X does not have valid feature names, but StandardScaler was fitted with feature names\n",
      "  warnings.warn(\n"
     ]
    }
   ],
   "source": [
    "y_pred  = rf_GS.best_estimator_.predict(test_features)"
   ]
  },
  {
   "cell_type": "code",
   "execution_count": 154,
   "id": "708b767d-ab7c-48d5-a4db-aa3408842a26",
   "metadata": {
    "colab": {
     "base_uri": "https://localhost:8080/"
    },
    "executionInfo": {
     "elapsed": 3,
     "status": "ok",
     "timestamp": 1639087935169,
     "user": {
      "displayName": "Fran Vaquer",
      "photoUrl": "https://lh3.googleusercontent.com/a/default-user=s64",
      "userId": "05040906435658654965"
     },
     "user_tz": -60
    },
    "id": "MHDA7bYMdoCr",
    "outputId": "24815273-14ec-489a-f3ff-401d46ade1c9",
    "tags": []
   },
   "outputs": [
    {
     "name": "stdout",
     "output_type": "stream",
     "text": [
      "              precision    recall  f1-score   support\n",
      "\n",
      "         0.0       1.00      0.90      0.94    136343\n",
      "         1.0       0.06      0.86      0.12      1102\n",
      "\n",
      "    accuracy                           0.90    137445\n",
      "   macro avg       0.53      0.88      0.53    137445\n",
      "weighted avg       0.99      0.90      0.94    137445\n",
      "\n"
     ]
    }
   ],
   "source": [
    "print(classification_report(test_labels, y_pred))"
   ]
  },
  {
   "cell_type": "code",
   "execution_count": 155,
   "id": "3491b6fb-a575-41e4-a99a-9bb65e4e47c2",
   "metadata": {
    "colab": {
     "base_uri": "https://localhost:8080/"
    },
    "executionInfo": {
     "elapsed": 1,
     "status": "ok",
     "timestamp": 1639087936213,
     "user": {
      "displayName": "Fran Vaquer",
      "photoUrl": "https://lh3.googleusercontent.com/a/default-user=s64",
      "userId": "05040906435658654965"
     },
     "user_tz": -60
    },
    "id": "jEIYLoXKeQMQ",
    "outputId": "889e4dce-5475-454e-d36e-4eebd87c6914",
    "tags": []
   },
   "outputs": [
    {
     "data": {
      "text/plain": [
       "array([[122179,  14164],\n",
       "       [   157,    945]])"
      ]
     },
     "execution_count": 155,
     "metadata": {},
     "output_type": "execute_result"
    }
   ],
   "source": [
    "confusion_matrix(test_labels, y_pred)"
   ]
  },
  {
   "cell_type": "markdown",
   "id": "a06d775a-7f76-4c8b-b1c4-0d888fc32e68",
   "metadata": {
    "id": "Zkn73Mg4e8zd"
   },
   "source": [
    "#### MLP Classifier"
   ]
  },
  {
   "cell_type": "markdown",
   "id": "ffecf1f2-b85a-46b7-bbe0-01806c40da2f",
   "metadata": {},
   "source": [
    "##### Asignación hiperparámetros"
   ]
  },
  {
   "cell_type": "code",
   "execution_count": 156,
   "id": "7f9eea5b-4f8a-4a4d-8659-02f6e52fcd0b",
   "metadata": {
    "tags": []
   },
   "outputs": [],
   "source": [
    "hyp_pipe = Pipeline(steps=[('std_slc', StandardScaler()),\n",
    "                           ('pca', decomposition.PCA()),\n",
    "                           ('mlp', MLPClassifier())])"
   ]
  },
  {
   "cell_type": "code",
   "execution_count": 157,
   "id": "80794711-119c-49e0-8ce7-636fff1ba69f",
   "metadata": {
    "tags": []
   },
   "outputs": [],
   "source": [
    "parameters = {\n",
    "    'pca__n_components': [25, 107],\n",
    "    'mlp__solver': ['lbfgs'],\n",
    "    'mlp__max_iter': [25, 50, 100],\n",
    "    'mlp__alpha': 10.0 ** -np.arange(1,10,4),\n",
    "    'mlp__hidden_layer_sizes':np.arange(10,12),\n",
    "    'mlp__random_state':[0,1,2,3,4,5,6,7,8,9]\n",
    "}"
   ]
  },
  {
   "cell_type": "markdown",
   "id": "d8a56e28-b0fd-4117-b9e0-0b63bdbbc313",
   "metadata": {},
   "source": [
    "##### Búsqueda de mejor modelo"
   ]
  },
  {
   "cell_type": "code",
   "execution_count": null,
   "id": "5d26308d-7575-4b5c-8812-656e5b87235b",
   "metadata": {
    "tags": []
   },
   "outputs": [],
   "source": [
    "%%capture --no-display\n",
    "mlp_GS = RandomizedSearchCV(estimator=hyp_pipe, param_distributions = parameters, n_iter = 100, cv = 3, verbose=2, random_state=42, n_jobs = -1)\n",
    "mlp_GS.fit(balanced_df.drop([\"Target\"], axis=1), balanced_df[\"Target\"])"
   ]
  },
  {
   "cell_type": "raw",
   "id": "07fcc3eb-6e7d-44eb-8f0c-689d7fa409b5",
   "metadata": {
    "tags": []
   },
   "source": [
    "%%capture --no-display\n",
    "clf_GS = GridSearchCV(hyp_pipe, parameters)\n",
    "clf_GS.fit(balanced_df.drop([\"Target\"], axis=1), balanced_df[\"Target\"])"
   ]
  },
  {
   "cell_type": "code",
   "execution_count": 159,
   "id": "6982ce02-3bd4-4e6b-98a2-ddfeb5aef844",
   "metadata": {
    "tags": []
   },
   "outputs": [
    {
     "name": "stdout",
     "output_type": "stream",
     "text": [
      "Best Number Of Components: 25\n",
      "Best n_estimators: lbfgs\n",
      "Best max_features: 100\n",
      "Best max_depth: 9.999999999999999e-06\n",
      "Best min_samples_split: 11\n",
      "Best min_samples_leaf: 2\n",
      "\n",
      "MLPClassifier(alpha=9.999999999999999e-06, hidden_layer_sizes=11, max_iter=100,\n",
      "              random_state=2, solver='lbfgs')\n"
     ]
    }
   ],
   "source": [
    "print('Best Number Of Components:', mlp_GS.best_estimator_.get_params()['pca__n_components'])\n",
    "print('Best n_estimators:', mlp_GS.best_estimator_.get_params()['mlp__solver'])\n",
    "print('Best max_features:', mlp_GS.best_estimator_.get_params()['mlp__max_iter'])\n",
    "print('Best max_depth:', mlp_GS.best_estimator_.get_params()['mlp__alpha'])\n",
    "print('Best min_samples_split:', mlp_GS.best_estimator_.get_params()['mlp__hidden_layer_sizes'])\n",
    "print('Best min_samples_leaf:', mlp_GS.best_estimator_.get_params()['mlp__random_state'])\n",
    "print(); print(mlp_GS.best_estimator_.get_params()['mlp'])"
   ]
  },
  {
   "cell_type": "markdown",
   "id": "d8f9c1fb-5e93-4e9d-ae1e-6a3fb6d56e2d",
   "metadata": {},
   "source": [
    "##### Evaluacion"
   ]
  },
  {
   "cell_type": "code",
   "execution_count": 160,
   "id": "272bb027-575d-421f-b316-3df0eed78c7c",
   "metadata": {
    "id": "gXsrDSDDMed4",
    "tags": []
   },
   "outputs": [
    {
     "name": "stderr",
     "output_type": "stream",
     "text": [
      "/opt/conda/lib/python3.10/site-packages/sklearn/base.py:445: UserWarning: X does not have valid feature names, but StandardScaler was fitted with feature names\n",
      "  warnings.warn(\n"
     ]
    }
   ],
   "source": [
    "y_pred  = mlp_GS.best_estimator_.predict(test_features)"
   ]
  },
  {
   "cell_type": "code",
   "execution_count": 161,
   "id": "a2aadf66-80ff-4578-8666-743c090795f6",
   "metadata": {
    "colab": {
     "base_uri": "https://localhost:8080/"
    },
    "executionInfo": {
     "elapsed": 3,
     "status": "ok",
     "timestamp": 1639087935169,
     "user": {
      "displayName": "Fran Vaquer",
      "photoUrl": "https://lh3.googleusercontent.com/a/default-user=s64",
      "userId": "05040906435658654965"
     },
     "user_tz": -60
    },
    "id": "MHDA7bYMdoCr",
    "outputId": "24815273-14ec-489a-f3ff-401d46ade1c9",
    "tags": []
   },
   "outputs": [
    {
     "name": "stdout",
     "output_type": "stream",
     "text": [
      "              precision    recall  f1-score   support\n",
      "\n",
      "         0.0       1.00      0.90      0.95    136343\n",
      "         1.0       0.06      0.85      0.12      1102\n",
      "\n",
      "    accuracy                           0.90    137445\n",
      "   macro avg       0.53      0.87      0.53    137445\n",
      "weighted avg       0.99      0.90      0.94    137445\n",
      "\n"
     ]
    }
   ],
   "source": [
    "print(classification_report(test_labels, y_pred))"
   ]
  },
  {
   "cell_type": "code",
   "execution_count": 162,
   "id": "175538c7-bd29-4d7e-8e96-fe36a4fd8742",
   "metadata": {
    "colab": {
     "base_uri": "https://localhost:8080/"
    },
    "executionInfo": {
     "elapsed": 1,
     "status": "ok",
     "timestamp": 1639087936213,
     "user": {
      "displayName": "Fran Vaquer",
      "photoUrl": "https://lh3.googleusercontent.com/a/default-user=s64",
      "userId": "05040906435658654965"
     },
     "user_tz": -60
    },
    "id": "jEIYLoXKeQMQ",
    "outputId": "889e4dce-5475-454e-d36e-4eebd87c6914",
    "tags": []
   },
   "outputs": [
    {
     "data": {
      "text/plain": [
       "array([[122436,  13907],\n",
       "       [   170,    932]])"
      ]
     },
     "execution_count": 162,
     "metadata": {},
     "output_type": "execute_result"
    }
   ],
   "source": [
    "confusion_matrix(test_labels, y_pred)"
   ]
  },
  {
   "cell_type": "markdown",
   "id": "18a80919-be91-4ebb-8ce5-cdf6603fca9e",
   "metadata": {
    "id": "Zkn73Mg4e8zd"
   },
   "source": [
    "## Modelo Final\n",
    "- El modelo que mejor ha funcionado ha sido Random Forest con el dato balanceado por abajo\n",
    "- Se han ajustado hiperparametros\n",
    "- En este paso se guardará el modelo en pickle"
   ]
  },
  {
   "cell_type": "code",
   "execution_count": 163,
   "id": "7cd68aaf-c379-481b-bed1-dc42a017e7b6",
   "metadata": {},
   "outputs": [],
   "source": [
    "final_model = rf_GS.best_estimator_"
   ]
  },
  {
   "cell_type": "markdown",
   "id": "75e3461f-3556-495f-b703-2a02ee66e553",
   "metadata": {},
   "source": [
    "### Evaluacion Todo Dataset"
   ]
  },
  {
   "cell_type": "code",
   "execution_count": 164,
   "id": "6796dbd5-c9da-4f07-9abf-76f6f532bf62",
   "metadata": {
    "id": "gXsrDSDDMed4",
    "tags": []
   },
   "outputs": [],
   "source": [
    "y_pred  = final_model.predict(df_preprocessed.drop([\"cnt_id\",\"cnt_programaherencias\"], axis=1))"
   ]
  },
  {
   "cell_type": "code",
   "execution_count": 165,
   "id": "5f2007ac-dcad-4318-89ae-c05e6c2fb8fc",
   "metadata": {
    "tags": []
   },
   "outputs": [
    {
     "data": {
      "text/plain": [
       "(687224,)"
      ]
     },
     "execution_count": 165,
     "metadata": {},
     "output_type": "execute_result"
    }
   ],
   "source": [
    "y_pred.shape"
   ]
  },
  {
   "cell_type": "code",
   "execution_count": 166,
   "id": "4b56e76b-6137-4ba6-ad74-c2f7b5acc926",
   "metadata": {
    "colab": {
     "base_uri": "https://localhost:8080/"
    },
    "executionInfo": {
     "elapsed": 3,
     "status": "ok",
     "timestamp": 1639087935169,
     "user": {
      "displayName": "Fran Vaquer",
      "photoUrl": "https://lh3.googleusercontent.com/a/default-user=s64",
      "userId": "05040906435658654965"
     },
     "user_tz": -60
    },
    "id": "MHDA7bYMdoCr",
    "outputId": "24815273-14ec-489a-f3ff-401d46ade1c9",
    "tags": []
   },
   "outputs": [
    {
     "name": "stdout",
     "output_type": "stream",
     "text": [
      "              precision    recall  f1-score   support\n",
      "\n",
      "         0.0       1.00      0.90      0.94    681714\n",
      "         1.0       0.06      0.89      0.12      5510\n",
      "\n",
      "    accuracy                           0.89    687224\n",
      "   macro avg       0.53      0.89      0.53    687224\n",
      "weighted avg       0.99      0.89      0.94    687224\n",
      "\n"
     ]
    }
   ],
   "source": [
    "print(classification_report(np.array(df_preprocessed[\"cnt_programaherencias\"]).astype(\"float32\"), y_pred))"
   ]
  },
  {
   "cell_type": "code",
   "execution_count": 167,
   "id": "d207b38c-22ae-4d36-93a2-1293f325af46",
   "metadata": {
    "colab": {
     "base_uri": "https://localhost:8080/"
    },
    "executionInfo": {
     "elapsed": 1,
     "status": "ok",
     "timestamp": 1639087936213,
     "user": {
      "displayName": "Fran Vaquer",
      "photoUrl": "https://lh3.googleusercontent.com/a/default-user=s64",
      "userId": "05040906435658654965"
     },
     "user_tz": -60
    },
    "id": "jEIYLoXKeQMQ",
    "outputId": "889e4dce-5475-454e-d36e-4eebd87c6914",
    "tags": []
   },
   "outputs": [
    {
     "data": {
      "text/plain": [
       "array([[610171,  71543],\n",
       "       [   626,   4884]])"
      ]
     },
     "execution_count": 167,
     "metadata": {},
     "output_type": "execute_result"
    }
   ],
   "source": [
    "confusion_matrix(np.array(df_preprocessed[\"cnt_programaherencias\"]).astype(\"float32\"), y_pred)"
   ]
  },
  {
   "cell_type": "code",
   "execution_count": 168,
   "id": "e9634804-9247-409b-9f0e-98ee9bb15908",
   "metadata": {
    "colab": {
     "base_uri": "https://localhost:8080/"
    },
    "executionInfo": {
     "elapsed": 3,
     "status": "ok",
     "timestamp": 1639087937368,
     "user": {
      "displayName": "Fran Vaquer",
      "photoUrl": "https://lh3.googleusercontent.com/a/default-user=s64",
      "userId": "05040906435658654965"
     },
     "user_tz": -60
    },
    "id": "AXWQsvvodvIG",
    "outputId": "b5574b57-58b5-43ea-ce81-c62b115860d2",
    "tags": []
   },
   "outputs": [
    {
     "name": "stdout",
     "output_type": "stream",
     "text": [
      "                                 Predicción No Programa Herencias  \\\n",
      "Verdadero No Programa Herencias                            610171   \n",
      "Verdadero Programa Herencias                                  626   \n",
      "\n",
      "                                 Predicción Programa Herencias  \n",
      "Verdadero No Programa Herencias                          71543  \n",
      "Verdadero Programa Herencias                              4884  \n"
     ]
    }
   ],
   "source": [
    "conf=pd.DataFrame(\n",
    "    confusion_matrix(np.array(df_preprocessed[\"cnt_programaherencias\"]).astype(\"float32\"), y_pred),\n",
    "    columns=['Predicción No Programa Herencias', 'Predicción Programa Herencias'],\n",
    "    index  =['Verdadero No Programa Herencias', 'Verdadero Programa Herencias']\n",
    ")\n",
    "print(conf)"
   ]
  },
  {
   "cell_type": "code",
   "execution_count": 169,
   "id": "0cd60e39-ea3c-4f8f-8ce8-113ced1371ee",
   "metadata": {
    "colab": {
     "base_uri": "https://localhost:8080/"
    },
    "executionInfo": {
     "elapsed": 3,
     "status": "ok",
     "timestamp": 1639087938359,
     "user": {
      "displayName": "Fran Vaquer",
      "photoUrl": "https://lh3.googleusercontent.com/a/default-user=s64",
      "userId": "05040906435658654965"
     },
     "user_tz": -60
    },
    "id": "CU28npXveGN0",
    "outputId": "e560df3b-fdd8-4b15-c5c3-c4d722f15237",
    "tags": []
   },
   "outputs": [
    {
     "data": {
      "text/plain": [
       "0.8949847502415516"
      ]
     },
     "execution_count": 169,
     "metadata": {},
     "output_type": "execute_result"
    }
   ],
   "source": [
    "accuracy_score(np.array(df_preprocessed[\"cnt_programaherencias\"]).astype(\"float32\"), y_pred)"
   ]
  },
  {
   "cell_type": "code",
   "execution_count": 170,
   "id": "5e313ba0-0248-40d1-9416-aa9fb70048a2",
   "metadata": {
    "colab": {
     "base_uri": "https://localhost:8080/"
    },
    "executionInfo": {
     "elapsed": 2,
     "status": "ok",
     "timestamp": 1639087939362,
     "user": {
      "displayName": "Fran Vaquer",
      "photoUrl": "https://lh3.googleusercontent.com/a/default-user=s64",
      "userId": "05040906435658654965"
     },
     "user_tz": -60
    },
    "id": "_mtNLwPVeiOO",
    "outputId": "062ce7e4-6246-4aab-a087-cc9eebad10e5",
    "scrolled": true,
    "tags": []
   },
   "outputs": [
    {
     "data": {
      "text/plain": [
       "0.8907213078540736"
      ]
     },
     "execution_count": 170,
     "metadata": {},
     "output_type": "execute_result"
    }
   ],
   "source": [
    "roc_auc_score(np.array(df_preprocessed[\"cnt_programaherencias\"]).astype(\"float32\"), y_pred)"
   ]
  },
  {
   "cell_type": "code",
   "execution_count": 171,
   "id": "e758c588-e6ce-4ac1-87a5-1b5c97ea2946",
   "metadata": {
    "id": "gjmgGG3Kewlx",
    "tags": []
   },
   "outputs": [],
   "source": [
    "fpr, tpr, threshold = roc_curve(np.array(df_preprocessed[\"cnt_programaherencias\"]).astype(\"float32\"), y_pred)\n",
    "roc_auc = roc_auc_score(np.array(df_preprocessed[\"cnt_programaherencias\"]).astype(\"float32\"), y_pred)"
   ]
  },
  {
   "cell_type": "code",
   "execution_count": 172,
   "id": "b060b269-857c-415a-a8a2-b77f5819ead5",
   "metadata": {
    "colab": {
     "base_uri": "https://localhost:8080/",
     "height": 295
    },
    "executionInfo": {
     "elapsed": 503,
     "status": "ok",
     "timestamp": 1639087942662,
     "user": {
      "displayName": "Fran Vaquer",
      "photoUrl": "https://lh3.googleusercontent.com/a/default-user=s64",
      "userId": "05040906435658654965"
     },
     "user_tz": -60
    },
    "id": "xx7bFQUjez5m",
    "outputId": "ac149dff-5d87-4bf2-a342-2d4b785b157a",
    "tags": []
   },
   "outputs": [
    {
     "data": {
      "image/png": "[encoded data removed]",
      "text/plain": [
       "<Figure size 640x480 with 1 Axes>"
      ]
     },
     "metadata": {},
     "output_type": "display_data"
    }
   ],
   "source": [
    "plt.title('Receiver Operating Characteristic')\n",
    "plt.plot(fpr, tpr, 'b', label = 'AUC = %0.2f' % roc_auc)\n",
    "plt.legend(loc = 'lower right')\n",
    "plt.plot([0, 1], [0, 1],'r--')\n",
    "plt.xlim([0, 1])\n",
    "plt.ylim([0, 1])\n",
    "plt.ylabel('True Positive Rate')\n",
    "plt.xlabel('False Positive Rate')\n",
    "plt.show()"
   ]
  },
  {
   "cell_type": "markdown",
   "id": "ee92db6d-c694-4d02-99fe-a42f9b8f56de",
   "metadata": {
    "id": "HnrAudROBmAI"
   },
   "source": [
    "### Guardar modelo"
   ]
  },
  {
   "cell_type": "code",
   "execution_count": 173,
   "id": "db5819d3-381d-46d5-94da-e70c1a16c31a",
   "metadata": {
    "tags": []
   },
   "outputs": [],
   "source": [
    "pickle.dump(final_model, open('classifier_final.pkl', 'wb'))"
   ]
  },
  {
   "cell_type": "code",
   "execution_count": null,
   "id": "be1685c2-8ae4-4016-93f1-3cc1d63394ff",
   "metadata": {},
   "outputs": [],
   "source": []
  }
 ],
 "metadata": {
  "availableInstances": [
   {
    "_defaultOrder": 0,
    "_isFastLaunch": true,
    "category": "General purpose",
    "gpuNum": 0,
    "hideHardwareSpecs": false,
    "memoryGiB": 4,
    "name": "ml.t3.medium",
    "vcpuNum": 2
   },
   {
    "_defaultOrder": 1,
    "_isFastLaunch": false,
    "category": "General purpose",
    "gpuNum": 0,
    "hideHardwareSpecs": false,
    "memoryGiB": 8,
    "name": "ml.t3.large",
    "vcpuNum": 2
   },
   {
    "_defaultOrder": 2,
    "_isFastLaunch": false,
    "category": "General purpose",
    "gpuNum": 0,
    "hideHardwareSpecs": false,
    "memoryGiB": 16,
    "name": "ml.t3.xlarge",
    "vcpuNum": 4
   },
   {
    "_defaultOrder": 3,
    "_isFastLaunch": false,
    "category": "General purpose",
    "gpuNum": 0,
    "hideHardwareSpecs": false,
    "memoryGiB": 32,
    "name": "ml.t3.2xlarge",
    "vcpuNum": 8
   },
   {
    "_defaultOrder": 4,
    "_isFastLaunch": true,
    "category": "General purpose",
    "gpuNum": 0,
    "hideHardwareSpecs": false,
    "memoryGiB": 8,
    "name": "ml.m5.large",
    "vcpuNum": 2
   },
   {
    "_defaultOrder": 5,
    "_isFastLaunch": false,
    "category": "General purpose",
    "gpuNum": 0,
    "hideHardwareSpecs": false,
    "memoryGiB": 16,
    "name": "ml.m5.xlarge",
    "vcpuNum": 4
   },
   {
    "_defaultOrder": 6,
    "_isFastLaunch": false,
    "category": "General purpose",
    "gpuNum": 0,
    "hideHardwareSpecs": false,
    "memoryGiB": 32,
    "name": "ml.m5.2xlarge",
    "vcpuNum": 8
   },
   {
    "_defaultOrder": 7,
    "_isFastLaunch": false,
    "category": "General purpose",
    "gpuNum": 0,
    "hideHardwareSpecs": false,
    "memoryGiB": 64,
    "name": "ml.m5.4xlarge",
    "vcpuNum": 16
   },
   {
    "_defaultOrder": 8,
    "_isFastLaunch": false,
    "category": "General purpose",
    "gpuNum": 0,
    "hideHardwareSpecs": false,
    "memoryGiB": 128,
    "name": "ml.m5.8xlarge",
    "vcpuNum": 32
   },
   {
    "_defaultOrder": 9,
    "_isFastLaunch": false,
    "category": "General purpose",
    "gpuNum": 0,
    "hideHardwareSpecs": false,
    "memoryGiB": 192,
    "name": "ml.m5.12xlarge",
    "vcpuNum": 48
   },
   {
    "_defaultOrder": 10,
    "_isFastLaunch": false,
    "category": "General purpose",
    "gpuNum": 0,
    "hideHardwareSpecs": false,
    "memoryGiB": 256,
    "name": "ml.m5.16xlarge",
    "vcpuNum": 64
   },
   {
    "_defaultOrder": 11,
    "_isFastLaunch": false,
    "category": "General purpose",
    "gpuNum": 0,
    "hideHardwareSpecs": false,
    "memoryGiB": 384,
    "name": "ml.m5.24xlarge",
    "vcpuNum": 96
   },
   {
    "_defaultOrder": 12,
    "_isFastLaunch": false,
    "category": "General purpose",
    "gpuNum": 0,
    "hideHardwareSpecs": false,
    "memoryGiB": 8,
    "name": "ml.m5d.large",
    "vcpuNum": 2
   },
   {
    "_defaultOrder": 13,
    "_isFastLaunch": false,
    "category": "General purpose",
    "gpuNum": 0,
    "hideHardwareSpecs": false,
    "memoryGiB": 16,
    "name": "ml.m5d.xlarge",
    "vcpuNum": 4
   },
   {
    "_defaultOrder": 14,
    "_isFastLaunch": false,
    "category": "General purpose",
    "gpuNum": 0,
    "hideHardwareSpecs": false,
    "memoryGiB": 32,
    "name": "ml.m5d.2xlarge",
    "vcpuNum": 8
   },
   {
    "_defaultOrder": 15,
    "_isFastLaunch": false,
    "category": "General purpose",
    "gpuNum": 0,
    "hideHardwareSpecs": false,
    "memoryGiB": 64,
    "name": "ml.m5d.4xlarge",
    "vcpuNum": 16
   },
   {
    "_defaultOrder": 16,
    "_isFastLaunch": false,
    "category": "General purpose",
    "gpuNum": 0,
    "hideHardwareSpecs": false,
    "memoryGiB": 128,
    "name": "ml.m5d.8xlarge",
    "vcpuNum": 32
   },
   {
    "_defaultOrder": 17,
    "_isFastLaunch": false,
    "category": "General purpose",
    "gpuNum": 0,
    "hideHardwareSpecs": false,
    "memoryGiB": 192,
    "name": "ml.m5d.12xlarge",
    "vcpuNum": 48
   },
   {
    "_defaultOrder": 18,
    "_isFastLaunch": false,
    "category": "General purpose",
    "gpuNum": 0,
    "hideHardwareSpecs": false,
    "memoryGiB": 256,
    "name": "ml.m5d.16xlarge",
    "vcpuNum": 64
   },
   {
    "_defaultOrder": 19,
    "_isFastLaunch": false,
    "category": "General purpose",
    "gpuNum": 0,
    "hideHardwareSpecs": false,
    "memoryGiB": 384,
    "name": "ml.m5d.24xlarge",
    "vcpuNum": 96
   },
   {
    "_defaultOrder": 20,
    "_isFastLaunch": false,
    "category": "General purpose",
    "gpuNum": 0,
    "hideHardwareSpecs": true,
    "memoryGiB": 0,
    "name": "ml.geospatial.interactive",
    "supportedImageNames": [
     "sagemaker-geospatial-v1-0"
    ],
    "vcpuNum": 0
   },
   {
    "_defaultOrder": 21,
    "_isFastLaunch": true,
    "category": "Compute optimized",
    "gpuNum": 0,
    "hideHardwareSpecs": false,
    "memoryGiB": 4,
    "name": "ml.c5.large",
    "vcpuNum": 2
   },
   {
    "_defaultOrder": 22,
    "_isFastLaunch": false,
    "category": "Compute optimized",
    "gpuNum": 0,
    "hideHardwareSpecs": false,
    "memoryGiB": 8,
    "name": "ml.c5.xlarge",
    "vcpuNum": 4
   },
   {
    "_defaultOrder": 23,
    "_isFastLaunch": false,
    "category": "Compute optimized",
    "gpuNum": 0,
    "hideHardwareSpecs": false,
    "memoryGiB": 16,
    "name": "ml.c5.2xlarge",
    "vcpuNum": 8
   },
   {
    "_defaultOrder": 24,
    "_isFastLaunch": false,
    "category": "Compute optimized",
    "gpuNum": 0,
    "hideHardwareSpecs": false,
    "memoryGiB": 32,
    "name": "ml.c5.4xlarge",
    "vcpuNum": 16
   },
   {
    "_defaultOrder": 25,
    "_isFastLaunch": false,
    "category": "Compute optimized",
    "gpuNum": 0,
    "hideHardwareSpecs": false,
    "memoryGiB": 72,
    "name": "ml.c5.9xlarge",
    "vcpuNum": 36
   },
   {
    "_defaultOrder": 26,
    "_isFastLaunch": false,
    "category": "Compute optimized",
    "gpuNum": 0,
    "hideHardwareSpecs": false,
    "memoryGiB": 96,
    "name": "ml.c5.12xlarge",
    "vcpuNum": 48
   },
   {
    "_defaultOrder": 27,
    "_isFastLaunch": false,
    "category": "Compute optimized",
    "gpuNum": 0,
    "hideHardwareSpecs": false,
    "memoryGiB": 144,
    "name": "ml.c5.18xlarge",
    "vcpuNum": 72
   },
   {
    "_defaultOrder": 28,
    "_isFastLaunch": false,
    "category": "Compute optimized",
    "gpuNum": 0,
    "hideHardwareSpecs": false,
    "memoryGiB": 192,
    "name": "ml.c5.24xlarge",
    "vcpuNum": 96
   },
   {
    "_defaultOrder": 29,
    "_isFastLaunch": true,
    "category": "Accelerated computing",
    "gpuNum": 1,
    "hideHardwareSpecs": false,
    "memoryGiB": 16,
    "name": "ml.g4dn.xlarge",
    "vcpuNum": 4
   },
   {
    "_defaultOrder": 30,
    "_isFastLaunch": false,
    "category": "Accelerated computing",
    "gpuNum": 1,
    "hideHardwareSpecs": false,
    "memoryGiB": 32,
    "name": "ml.g4dn.2xlarge",
    "vcpuNum": 8
   },
   {
    "_defaultOrder": 31,
    "_isFastLaunch": false,
    "category": "Accelerated computing",
    "gpuNum": 1,
    "hideHardwareSpecs": false,
    "memoryGiB": 64,
    "name": "ml.g4dn.4xlarge",
    "vcpuNum": 16
   },
   {
    "_defaultOrder": 32,
    "_isFastLaunch": false,
    "category": "Accelerated computing",
    "gpuNum": 1,
    "hideHardwareSpecs": false,
    "memoryGiB": 128,
    "name": "ml.g4dn.8xlarge",
    "vcpuNum": 32
   },
   {
    "_defaultOrder": 33,
    "_isFastLaunch": false,
    "category": "Accelerated computing",
    "gpuNum": 4,
    "hideHardwareSpecs": false,
    "memoryGiB": 192,
    "name": "ml.g4dn.12xlarge",
    "vcpuNum": 48
   },
   {
    "_defaultOrder": 34,
    "_isFastLaunch": false,
    "category": "Accelerated computing",
    "gpuNum": 1,
    "hideHardwareSpecs": false,
    "memoryGiB": 256,
    "name": "ml.g4dn.16xlarge",
    "vcpuNum": 64
   },
   {
    "_defaultOrder": 35,
    "_isFastLaunch": false,
    "category": "Accelerated computing",
    "gpuNum": 1,
    "hideHardwareSpecs": false,
    "memoryGiB": 61,
    "name": "ml.p3.2xlarge",
    "vcpuNum": 8
   },
   {
    "_defaultOrder": 36,
    "_isFastLaunch": false,
    "category": "Accelerated computing",
    "gpuNum": 4,
    "hideHardwareSpecs": false,
    "memoryGiB": 244,
    "name": "ml.p3.8xlarge",
    "vcpuNum": 32
   },
   {
    "_defaultOrder": 37,
    "_isFastLaunch": false,
    "category": "Accelerated computing",
    "gpuNum": 8,
    "hideHardwareSpecs": false,
    "memoryGiB": 488,
    "name": "ml.p3.16xlarge",
    "vcpuNum": 64
   },
   {
    "_defaultOrder": 38,
    "_isFastLaunch": false,
    "category": "Accelerated computing",
    "gpuNum": 8,
    "hideHardwareSpecs": false,
    "memoryGiB": 768,
    "name": "ml.p3dn.24xlarge",
    "vcpuNum": 96
   },
   {
    "_defaultOrder": 39,
    "_isFastLaunch": false,
    "category": "Memory Optimized",
    "gpuNum": 0,
    "hideHardwareSpecs": false,
    "memoryGiB": 16,
    "name": "ml.r5.large",
    "vcpuNum": 2
   },
   {
    "_defaultOrder": 40,
    "_isFastLaunch": false,
    "category": "Memory Optimized",
    "gpuNum": 0,
    "hideHardwareSpecs": false,
    "memoryGiB": 32,
    "name": "ml.r5.xlarge",
    "vcpuNum": 4
   },
   {
    "_defaultOrder": 41,
    "_isFastLaunch": false,
    "category": "Memory Optimized",
    "gpuNum": 0,
    "hideHardwareSpecs": false,
    "memoryGiB": 64,
    "name": "ml.r5.2xlarge",
    "vcpuNum": 8
   },
   {
    "_defaultOrder": 42,
    "_isFastLaunch": false,
    "category": "Memory Optimized",
    "gpuNum": 0,
    "hideHardwareSpecs": false,
    "memoryGiB": 128,
    "name": "ml.r5.4xlarge",
    "vcpuNum": 16
   },
   {
    "_defaultOrder": 43,
    "_isFastLaunch": false,
    "category": "Memory Optimized",
    "gpuNum": 0,
    "hideHardwareSpecs": false,
    "memoryGiB": 256,
    "name": "ml.r5.8xlarge",
    "vcpuNum": 32
   },
   {
    "_defaultOrder": 44,
    "_isFastLaunch": false,
    "category": "Memory Optimized",
    "gpuNum": 0,
    "hideHardwareSpecs": false,
    "memoryGiB": 384,
    "name": "ml.r5.12xlarge",
    "vcpuNum": 48
   },
   {
    "_defaultOrder": 45,
    "_isFastLaunch": false,
    "category": "Memory Optimized",
    "gpuNum": 0,
    "hideHardwareSpecs": false,
    "memoryGiB": 512,
    "name": "ml.r5.16xlarge",
    "vcpuNum": 64
   },
   {
    "_defaultOrder": 46,
    "_isFastLaunch": false,
    "category": "Memory Optimized",
    "gpuNum": 0,
    "hideHardwareSpecs": false,
    "memoryGiB": 768,
    "name": "ml.r5.24xlarge",
    "vcpuNum": 96
   },
   {
    "_defaultOrder": 47,
    "_isFastLaunch": false,
    "category": "Accelerated computing",
    "gpuNum": 1,
    "hideHardwareSpecs": false,
    "memoryGiB": 16,
    "name": "ml.g5.xlarge",
    "vcpuNum": 4
   },
   {
    "_defaultOrder": 48,
    "_isFastLaunch": false,
    "category": "Accelerated computing",
    "gpuNum": 1,
    "hideHardwareSpecs": false,
    "memoryGiB": 32,
    "name": "ml.g5.2xlarge",
    "vcpuNum": 8
   },
   {
    "_defaultOrder": 49,
    "_isFastLaunch": false,
    "category": "Accelerated computing",
    "gpuNum": 1,
    "hideHardwareSpecs": false,
    "memoryGiB": 64,
    "name": "ml.g5.4xlarge",
    "vcpuNum": 16
   },
   {
    "_defaultOrder": 50,
    "_isFastLaunch": false,
    "category": "Accelerated computing",
    "gpuNum": 1,
    "hideHardwareSpecs": false,
    "memoryGiB": 128,
    "name": "ml.g5.8xlarge",
    "vcpuNum": 32
   },
   {
    "_defaultOrder": 51,
    "_isFastLaunch": false,
    "category": "Accelerated computing",
    "gpuNum": 1,
    "hideHardwareSpecs": false,
    "memoryGiB": 256,
    "name": "ml.g5.16xlarge",
    "vcpuNum": 64
   },
   {
    "_defaultOrder": 52,
    "_isFastLaunch": false,
    "category": "Accelerated computing",
    "gpuNum": 4,
    "hideHardwareSpecs": false,
    "memoryGiB": 192,
    "name": "ml.g5.12xlarge",
    "vcpuNum": 48
   },
   {
    "_defaultOrder": 53,
    "_isFastLaunch": false,
    "category": "Accelerated computing",
    "gpuNum": 4,
    "hideHardwareSpecs": false,
    "memoryGiB": 384,
    "name": "ml.g5.24xlarge",
    "vcpuNum": 96
   },
   {
    "_defaultOrder": 54,
    "_isFastLaunch": false,
    "category": "Accelerated computing",
    "gpuNum": 8,
    "hideHardwareSpecs": false,
    "memoryGiB": 768,
    "name": "ml.g5.48xlarge",
    "vcpuNum": 192
   },
   {
    "_defaultOrder": 55,
    "_isFastLaunch": false,
    "category": "Accelerated computing",
    "gpuNum": 8,
    "hideHardwareSpecs": false,
    "memoryGiB": 1152,
    "name": "ml.p4d.24xlarge",
    "vcpuNum": 96
   },
   {
    "_defaultOrder": 56,
    "_isFastLaunch": false,
    "category": "Accelerated computing",
    "gpuNum": 8,
    "hideHardwareSpecs": false,
    "memoryGiB": 1152,
    "name": "ml.p4de.24xlarge",
    "vcpuNum": 96
   }
  ],
  "kernelspec": {
   "display_name": "Python 3 (ipykernel)",
   "language": "python",
   "name": "python3"
  },
  "language_info": {
   "codemirror_mode": {
    "name": "ipython",
    "version": 3
   },
   "file_extension": ".py",
   "mimetype": "text/x-python",
   "name": "python",
   "nbconvert_exporter": "python",
   "pygments_lexer": "ipython3",
   "version": "3.11.1"
  }
 },
 "nbformat": 4,
 "nbformat_minor": 5
}
