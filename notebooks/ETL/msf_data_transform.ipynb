{
 "cells": [
  {
   "cell_type": "markdown",
   "metadata": {},
   "source": [
    "# Notebook TFM: ETL - Transformación de datos RAW a CURATED\n",
    "<div style=\"background-color:#F2EDED;\">\n",
    "<br/>\n",
    "<div>\n",
    "<img src=\"https://uploads-ssl.webflow.com/614b1fe22fa8b90ef41aeffe/6265cb48f9496b1cefc9ab75_logotipo-mbit-39.png\" width=\"200px\" align=\"left\" CLASS=\"TextWrap\" style=\"background-color:#2a3f3f; margin-left: 10px;\">\n",
    "<img src=\"https://branding-guidelines.msf.es/esp/imgs/logo/Logo-01.jpg\" width=\"100px\" align=\"right\" CLASS=\"TextWrap\" style=\"background-color:#2a3f3f;\">\n",
    "</div>\n",
    "<br/>\n",
    "<br/>\n",
    "<br/>\n",
    "<div>\n",
    "<h1><font color=\"#2a3f3f\" size=4 style=\"margin-left: 10px;\">MODELO DE PROBABILIDAD A TESTAR EN MÉDICOS SIN FRONTERAS</font></h1>\n",
    "</div>\n",
    "<br/>\n",
    "<div style=\"text-align: right; margin-right: 10px; margin-bottom: 10px;\">\n",
    "<font color=\"#2a3f3f\" size=3>Elio López Salamanca </font><br>\n",
    "<font color=\"#2a3f3f\" size=3>Sergio Israel Calleja Chimeno</font><br>\n",
    "</div>\n",
    "</div>"
   ]
  },
  {
   "cell_type": "code",
   "execution_count": 2,
   "metadata": {},
   "outputs": [
    {
     "data": {
      "text/html": [
       "<style>pre { white-space: pre !important; }</style>"
      ],
      "text/plain": [
       "<IPython.core.display.HTML object>"
      ]
     },
     "metadata": {},
     "output_type": "display_data"
    }
   ],
   "source": [
    "from IPython.core.display import HTML\n",
    "display(HTML(\"<style>pre { white-space: pre !important; }</style>\"))"
   ]
  },
  {
   "cell_type": "code",
   "execution_count": 23,
   "metadata": {},
   "outputs": [
    {
     "name": "stdout",
     "output_type": "stream",
     "text": [
      "Calculation started (calculation_id=5ec5a984-045a-3c0d-1863-c40e3f628662) in (session=5ac5a970-2cf4-cf60-51d3-9b8a18b370f8). Checking calculation status...\n"
     ]
    },
    {
     "data": {
      "application/vnd.jupyter.widget-view+json": {
       "model_id": "0b971be8eab64f1e9ecc94cb16e6f156",
       "version_major": 2,
       "version_minor": 0
      },
      "text/plain": [
       "Progress:   0%|          |elapsed time = 00:00s"
      ]
     },
     "metadata": {},
     "output_type": "display_data"
    },
    {
     "name": "stdout",
     "output_type": "stream",
     "text": [
      "Calculation completed.\n",
      "<pyspark.sql.session.SparkSession object at 0x7f90a02bb0>\n",
      "\n"
     ]
    }
   ],
   "source": [
    "spark"
   ]
  },
  {
   "cell_type": "code",
   "execution_count": 1,
   "metadata": {},
   "outputs": [
    {
     "name": "stdout",
     "output_type": "stream",
     "text": [
      "Calculation started (calculation_id=5ec5a984-0594-4fa9-ed54-db076cd9a470) in (session=5ac5a970-2cf4-cf60-51d3-9b8a18b370f8). Checking calculation status...\n"
     ]
    },
    {
     "data": {
      "application/vnd.jupyter.widget-view+json": {
       "model_id": "c9c29c196b9b45bdbbb926fcac59b87a",
       "version_major": 2,
       "version_minor": 0
      },
      "text/plain": [
       "Progress:   0%|          |elapsed time = 00:00s"
      ]
     },
     "metadata": {},
     "output_type": "display_data"
    },
    {
     "name": "stdout",
     "output_type": "stream",
     "text": [
      "Calculation completed.\n",
      "Execution Interrupted. Attempting to stop calculation execution (calculation_id=5ec5a984-0594-4fa9-ed54-db076cd9a470)\n",
      "Calculation 5ec5a984-0594-4fa9-ed54-db076cd9a470 is in state: COMPLETED\n",
      "Calculation completed.\n"
     ]
    }
   ],
   "source": [
    "import logging\n",
    "import re\n",
    "from pyspark.sql import DataFrame\n",
    "from pyspark.sql.functions import col\n",
    "from pyspark.sql.functions import sha2, concat_ws, current_timestamp\n",
    "from pyspark.sql.functions import col, regexp_replace, translate, StringType"
   ]
  },
  {
   "cell_type": "markdown",
   "metadata": {},
   "source": [
    "### 1.  Extracción de los datos utilizando el Metastore de Glue"
   ]
  },
  {
   "cell_type": "code",
   "execution_count": 25,
   "metadata": {},
   "outputs": [
    {
     "name": "stdout",
     "output_type": "stream",
     "text": [
      "Calculation started (calculation_id=3cc5a984-0757-acb1-f8a9-0e71e82d7cbd) in (session=5ac5a970-2cf4-cf60-51d3-9b8a18b370f8). Checking calculation status...\n"
     ]
    },
    {
     "data": {
      "application/vnd.jupyter.widget-view+json": {
       "model_id": "987c62010ad84ba784069bf3b79fb59d",
       "version_major": 2,
       "version_minor": 0
      },
      "text/plain": [
       "Progress:   0%|          |elapsed time = 00:00s"
      ]
     },
     "metadata": {},
     "output_type": "display_data"
    },
    {
     "name": "stdout",
     "output_type": "stream",
     "text": [
      "Calculation completed.\n"
     ]
    }
   ],
   "source": [
    "# Extracción de lo datos raw\n",
    "def extract_data(table_name: str) -> DataFrame:\n",
    "    try:\n",
    "        spark.sql(\"USE msfdb_raw\")\n",
    "        df = spark.sql(f\"SELECT * FROM msfdb_raw.{table_name}\")\n",
    "        logger.info(f\"Data extracted from {table_name}\")\n",
    "        \n",
    "        return df\n",
    "    except Exception as e:\n",
    "        logger.error(f\"Error extracting data from {table_name}: {str(e)}\")\n",
    "        raise"
   ]
  },
  {
   "cell_type": "markdown",
   "metadata": {},
   "source": [
    "### 2. Aquí empieza las definiciones de funciones para la transformación y limpieza de los datos"
   ]
  },
  {
   "cell_type": "code",
   "execution_count": 26,
   "metadata": {},
   "outputs": [
    {
     "name": "stdout",
     "output_type": "stream",
     "text": [
      "Calculation started (calculation_id=e2c5a984-086b-3a9c-8dcc-1e7db5adb6a5) in (session=5ac5a970-2cf4-cf60-51d3-9b8a18b370f8). Checking calculation status...\n"
     ]
    },
    {
     "data": {
      "application/vnd.jupyter.widget-view+json": {
       "model_id": "d477b47851b945d9a1284ee227a2c07e",
       "version_major": 2,
       "version_minor": 0
      },
      "text/plain": [
       "Progress:   0%|          |elapsed time = 00:00s"
      ]
     },
     "metadata": {},
     "output_type": "display_data"
    },
    {
     "name": "stdout",
     "output_type": "stream",
     "text": [
      "Calculation completed.\n"
     ]
    }
   ],
   "source": [
    "def rename_columns(df: DataFrame) -> (DataFrame):\n",
    "    prefix_patterns = [\"npsp__\", \"npsp4hub\", \"npo02__\", \"npe0[1-9]__\", \"msf_\"]\n",
    "    suffix_patterns = [\"__c\"]\n",
    "    \n",
    "    prefix_regex = re.compile(\"|\".join(prefix_patterns))\n",
    "    suffix_regex = re.compile(\"|\".join(suffix_patterns))\n",
    "        \n",
    "    def new_column_name(old_name):\n",
    "        new_name = prefix_regex.sub(\"\", old_name)\n",
    "        new_name = suffix_regex.sub(\"\", new_name)\n",
    "        new_name = re.sub(r\"_(\\d)\", r\"\\1\", new_name)\n",
    "        new_name = ''.join(word.capitalize() for word in new_name.split('_'))\n",
    "        return new_name\n",
    "    \n",
    "    name_mapping = {old_name: new_column_name(old_name) for old_name in df.columns}\n",
    "    logger.info(f\"Columns mapping after rename: {name_mapping}\")\n",
    "    \n",
    "    df = df.selectExpr([\"{} as {}\".format(old, new) for old, new in name_mapping.items()])\n",
    "    \n",
    "    print(\"Schema en rename_columns:\")\n",
    "    df.printSchema()\n",
    "    \n",
    "    logger.info(f\"rename_columns executed. Columns reanamed\")\n",
    "    return df"
   ]
  },
  {
   "cell_type": "code",
   "execution_count": 27,
   "metadata": {},
   "outputs": [
    {
     "name": "stdout",
     "output_type": "stream",
     "text": [
      "Calculation started (calculation_id=08c5a984-0998-b505-9dd5-a0986138cd61) in (session=5ac5a970-2cf4-cf60-51d3-9b8a18b370f8). Checking calculation status...\n"
     ]
    },
    {
     "data": {
      "application/vnd.jupyter.widget-view+json": {
       "model_id": "922d16a4b68a499fa665d5fbdfd4f489",
       "version_major": 2,
       "version_minor": 0
      },
      "text/plain": [
       "Progress:   0%|          |elapsed time = 00:00s"
      ]
     },
     "metadata": {},
     "output_type": "display_data"
    },
    {
     "name": "stdout",
     "output_type": "stream",
     "text": [
      "Calculation completed.\n"
     ]
    }
   ],
   "source": [
    "#  eliminar filas con valores nulos\n",
    "def drop_null_rows(df: DataFrame) -> DataFrame:\n",
    "    \n",
    "    df.na.drop()\n",
    "    logger.info(f\"drop_null_rows executed\")\n",
    "    return df\n",
    "\n",
    "def drop_duplicate_rows(df: DataFrame) -> DataFrame:\n",
    "    \n",
    "    df.dropDuplicates()\n",
    "    logger.info(f\"drop_duplicate_rows executed\")\n",
    "    return df"
   ]
  },
  {
   "cell_type": "code",
   "execution_count": 28,
   "metadata": {},
   "outputs": [
    {
     "name": "stdout",
     "output_type": "stream",
     "text": [
      "Calculation started (calculation_id=54c5a984-0ad0-b49e-1157-9bab8d45eaf6) in (session=5ac5a970-2cf4-cf60-51d3-9b8a18b370f8). Checking calculation status...\n"
     ]
    },
    {
     "data": {
      "application/vnd.jupyter.widget-view+json": {
       "model_id": "f9ca128bd9734f68acd02f22194d4a27",
       "version_major": 2,
       "version_minor": 0
      },
      "text/plain": [
       "Progress:   0%|          |elapsed time = 00:00s"
      ]
     },
     "metadata": {},
     "output_type": "display_data"
    },
    {
     "name": "stdout",
     "output_type": "stream",
     "text": [
      "Calculation completed.\n"
     ]
    }
   ],
   "source": [
    "# seleccionar solo las columnas que estánn en curated_col_names\n",
    "def select_columns(df: DataFrame, curated_col_names: list) -> DataFrame:\n",
    "    try:\n",
    "\n",
    "        selected_columns = [col_name for col_name in df.columns if col_name in curated_col_names]\n",
    "        \n",
    "        if not selected_columns:\n",
    "            raise ValueError(\"No matching columns found!\")\n",
    "        \n",
    "        df_filtered = df.select(*selected_columns)\n",
    "        \n",
    "        print(\"Schema en select_columns:\")\n",
    "        df.printSchema()\n",
    "    \n",
    "        logger.info(f\"select_columns executed\")\n",
    "        return df_filtered\n",
    "    \n",
    "    except Exception as e:\n",
    "        logger.error(f\"Error in select_columns: {str(e)}\")\n",
    "        raise"
   ]
  },
  {
   "cell_type": "code",
   "execution_count": 29,
   "metadata": {},
   "outputs": [
    {
     "name": "stdout",
     "output_type": "stream",
     "text": [
      "Calculation started (calculation_id=aec5a984-0c4f-fc9b-2931-88d203de075f) in (session=5ac5a970-2cf4-cf60-51d3-9b8a18b370f8). Checking calculation status...\n"
     ]
    },
    {
     "data": {
      "application/vnd.jupyter.widget-view+json": {
       "model_id": "8528b450be134e33a6c6df6c7247eb02",
       "version_major": 2,
       "version_minor": 0
      },
      "text/plain": [
       "Progress:   0%|          |elapsed time = 00:00s"
      ]
     },
     "metadata": {},
     "output_type": "display_data"
    },
    {
     "name": "stdout",
     "output_type": "stream",
     "text": [
      "Calculation completed.\n"
     ]
    }
   ],
   "source": [
    "def filter_data(df: DataFrame, filters: list) -> DataFrame:\n",
    "    try:\n",
    "        \n",
    "        if not filters:\n",
    "            logger.info(\"No filters applied\")\n",
    "            return df\n",
    "        \n",
    "        for condition in filters:\n",
    "            df = df.filter(condition)\n",
    "        \n",
    "        print(\"Schema en filter_data:\")\n",
    "        df.printSchema()\n",
    "        \n",
    "        logger.info(\"Data filtered\")\n",
    "        return df\n",
    "    except Exception as e:\n",
    "        logger.error(f\"Error filtering data: {str(e)}\")\n",
    "        raise"
   ]
  },
  {
   "cell_type": "code",
   "execution_count": 30,
   "metadata": {},
   "outputs": [
    {
     "name": "stdout",
     "output_type": "stream",
     "text": [
      "Calculation started (calculation_id=a0c5a984-0da8-adf0-9090-71f4f82fda67) in (session=5ac5a970-2cf4-cf60-51d3-9b8a18b370f8). Checking calculation status...\n"
     ]
    },
    {
     "data": {
      "application/vnd.jupyter.widget-view+json": {
       "model_id": "f42c6c43a5b443c3a12322f76ba65cfa",
       "version_major": 2,
       "version_minor": 0
      },
      "text/plain": [
       "Progress:   0%|          |elapsed time = 00:00s"
      ]
     },
     "metadata": {},
     "output_type": "display_data"
    },
    {
     "name": "stdout",
     "output_type": "stream",
     "text": [
      "Calculation completed.\n"
     ]
    }
   ],
   "source": [
    "def clean_data(df: DataFrame) -> DataFrame:\n",
    "    try:\n",
    "        chars = \"áéíóúñ\"\n",
    "        replace = \"aeioun\"\n",
    "        \n",
    "        string_cols = [f.name for f in df.schema.fields if isinstance(f.dataType, StringType)]\n",
    "        \n",
    "        all_cols = [\n",
    "            translate(col(col_name), chars, replace).alias(col_name) if col_name in string_cols else col(col_name)\n",
    "            for col_name in df.columns\n",
    "        ]\n",
    "        \n",
    "        df = df.select(*all_cols)\n",
    "        \n",
    "        print(\"Schema en clean_data:\")\n",
    "        df.printSchema()\n",
    "        \n",
    "        logger.info(\"Data cleaned\")\n",
    "        return df\n",
    "    except Exception as e:\n",
    "        logger.error(f\"Error cleaning data: {str(e)}\")\n",
    "        raise"
   ]
  },
  {
   "cell_type": "code",
   "execution_count": 31,
   "metadata": {},
   "outputs": [
    {
     "name": "stdout",
     "output_type": "stream",
     "text": [
      "Calculation started (calculation_id=d4c5a984-0ed8-9fff-329d-e33770773ec2) in (session=5ac5a970-2cf4-cf60-51d3-9b8a18b370f8). Checking calculation status...\n"
     ]
    },
    {
     "data": {
      "application/vnd.jupyter.widget-view+json": {
       "model_id": "ad96b1a3b90848d2b0c04915ddef1bf2",
       "version_major": 2,
       "version_minor": 0
      },
      "text/plain": [
       "Progress:   0%|          |elapsed time = 00:00s"
      ]
     },
     "metadata": {},
     "output_type": "display_data"
    },
    {
     "name": "stdout",
     "output_type": "stream",
     "text": [
      "Calculation completed.\n"
     ]
    }
   ],
   "source": [
    "def add_metadata_columns(df: DataFrame) -> DataFrame:\n",
    "    try:\n",
    "\n",
    "        columns_to_hash = [df[col] for col in df.columns]\n",
    "        df = df.withColumn(\"hash_key\", sha2(concat_ws(\"|\", *columns_to_hash), 256))\n",
    "        \n",
    "        df = df.withColumn(\"processing_timestamp\", current_timestamp())\n",
    "        \n",
    "        logger.info(\"Metadata columns added\")\n",
    "        return df\n",
    "    except Exception as e:\n",
    "        logger.error(f\"Error adding metadata columns: {str(e)}\")\n",
    "        raise"
   ]
  },
  {
   "cell_type": "markdown",
   "metadata": {},
   "source": [
    "### 3. Carga de datos en 'Curated' en formato 'Delta'"
   ]
  },
  {
   "cell_type": "code",
   "execution_count": 32,
   "metadata": {},
   "outputs": [
    {
     "name": "stdout",
     "output_type": "stream",
     "text": [
      "Calculation started (calculation_id=6ec5a984-1012-1640-fad5-ac74d6df337f) in (session=5ac5a970-2cf4-cf60-51d3-9b8a18b370f8). Checking calculation status...\n"
     ]
    },
    {
     "data": {
      "application/vnd.jupyter.widget-view+json": {
       "model_id": "a3e55ffdf4b3445c8ff99e61b861ea9c",
       "version_major": 2,
       "version_minor": 0
      },
      "text/plain": [
       "Progress:   0%|          |elapsed time = 00:00s"
      ]
     },
     "metadata": {},
     "output_type": "display_data"
    },
    {
     "name": "stdout",
     "output_type": "stream",
     "text": [
      "Calculation completed.\n"
     ]
    }
   ],
   "source": [
    "from pyspark.sql import DataFrame\n",
    "def load_data_curated(df: DataFrame, load_path: str, partition_field: str = \"noPartition\", primary_key: str = None) -> None:\n",
    "    try:\n",
    "        write_options = {\n",
    "            \"overwriteSchema\": \"true\",\n",
    "        }\n",
    "        if primary_key is not None:\n",
    "            write_options[\"primaryKey\"] = primary_key\n",
    "        \n",
    "        if partition_field != \"noPartition\":\n",
    "            df.coalesce(5) \\\n",
    "                .write \\\n",
    "                .format(\"delta\") \\\n",
    "                .mode(\"overwrite\") \\\n",
    "                .partitionBy(partition_field) \\\n",
    "                .save(load_path)\n",
    "        else:\n",
    "            df.coalesce(5) \\\n",
    "                .write \\\n",
    "                .format(\"delta\") \\\n",
    "                .mode(\"overwrite\") \\\n",
    "                .save(load_path)\n",
    "        \n",
    "        logger.info(f\"Data loaded to {load_path}\")\n",
    "        \n",
    "    except Exception as e:\n",
    "        logger.error(f\"Error loading data to {load_path}: {str(e)}\")\n",
    "        raise"
   ]
  },
  {
   "cell_type": "markdown",
   "metadata": {},
   "source": [
    "### 4. Fichero/Objeto JSON de configuración de mapeo de entidades"
   ]
  },
  {
   "cell_type": "code",
   "execution_count": 58,
   "metadata": {},
   "outputs": [
    {
     "name": "stdout",
     "output_type": "stream",
     "text": [
      "Calculation started (calculation_id=dac5a98e-59c0-1fac-2c93-dfa4ea7bd0fc) in (session=5ac5a970-2cf4-cf60-51d3-9b8a18b370f8). Checking calculation status...\n"
     ]
    },
    {
     "data": {
      "application/vnd.jupyter.widget-view+json": {
       "model_id": "1a650415439c41b98cb068c5f32ad94e",
       "version_major": 2,
       "version_minor": 0
      },
      "text/plain": [
       "Progress:   0%|          |elapsed time = 00:00s"
      ]
     },
     "metadata": {},
     "output_type": "display_data"
    },
    {
     "name": "stdout",
     "output_type": "stream",
     "text": [
      "Calculation completed.\n"
     ]
    }
   ],
   "source": [
    "# Configuración de entidades: tablas y columnas\n",
    "\n",
    "table_config = {\n",
    "    \"raw_msf_campaign\": {\n",
    "        \"curated_name\": \"Campaign\",\n",
    "        \"curated_columns\": [\n",
    "            \"Id\",\n",
    "            \"Campaigndonationreporting\",\n",
    "            \"Campaignentryreporting\",\n",
    "            \"Isemergency\",\n",
    "            \"Isonline\",\n",
    "            \"Objective\",\n",
    "            \"Objectivepublic\",\n",
    "            \"Segment\",\n",
    "            \"Status\"\n",
    "        ],\n",
    "        \"partition_key\": \"Segment\",\n",
    "        \"primary_key\": \"Id\",\n",
    "        \"filters\": [\n",
    "            (\"Segment <> ''\")\n",
    "        ]\n",
    "    },\n",
    "    \"raw_msf_contact\": {\n",
    "        \"curated_name\": \"Contact\",\n",
    "        \"curated_columns\": [\n",
    "            \"Id\",\n",
    "            \"Ltvscore\",\n",
    "            \"Program\",\n",
    "            \"Programaherencias\",\n",
    "            \"Programais\",\n",
    "            \"Legacyconfidentiality\",\n",
    "            \"Membertype\"\n",
    "        ],\n",
    "        \"partition_key\": \"Membertype\",\n",
    "        \"primary_key\": \"Id\",\n",
    "        \"filters\": [\n",
    "            (\"Programaherencias IS NOT NULL and Program <> ''\")\n",
    "        ]\n",
    "    },\n",
    "    \"raw_msf_opportunity\": {\n",
    "        \"curated_name\": \"Opportunity\",\n",
    "        \"curated_columns\": [\n",
    "            \"Id\",\n",
    "            \"Rating\",\n",
    "            \"Campaignid\",\n",
    "            \"PrimaryContact\",\n",
    "            \"RecurringDonation\",\n",
    "            \"Stagename\",\n",
    "            \"Program\",\n",
    "            \"Type\",\n",
    "            \"Typefundraisingcontribution\"\n",
    "        ],\n",
    "        \"partition_key\": \"Type\",\n",
    "        \"primary_key\": \"Id\",\n",
    "\n",
    "        \"filters\": [\n",
    "            (\"Type IN ('Herencia', 'Pago de Herencia', 'Recurrent Donation', 'Membership')\")\n",
    "        ]\n",
    "    },\n",
    "    \"raw_msf_quotamodification\": {\n",
    "        \"curated_name\": \"QuotaModification\",\n",
    "        \"curated_columns\": [\n",
    "            \"Id\",\n",
    "            \"Isdeleted\",\n",
    "            \"Recurringdonation\",\n",
    "            \"Campaigninfluence\",\n",
    "            \"Changeamount\",\n",
    "            \"Changeannualizedquota\",\n",
    "            \"Changetype\",\n",
    "            \"Newamount\",\n",
    "            \"Newannualizedquota\",\n",
    "            \"Newrecurringperiod\",\n",
    "            \"Contactid\",\n",
    "            \"Changedate\"\n",
    "        ],\n",
    "        \"partition_key\": \"Changetype\",\n",
    "        \"primary_key\": \"Id\",\n",
    "        \"filters\": [\n",
    "            (\"Isdeleted = 'false' and Changetype IS NOT NULL and Changetype <> ''\")\n",
    "        ]\n",
    "    },\n",
    "    \"raw_msf_recurringdonation\": {\n",
    "        \"curated_name\": \"RecurringDonation\",\n",
    "        \"curated_columns\": [\n",
    "            \"Id\",\n",
    "            \"Isdeleted\",\n",
    "            \"Annualizedquota\",\n",
    "            \"Cancelationdate\",\n",
    "            \"Currentcampaign\",\n",
    "            \"Amount\",\n",
    "            \"Contact\",\n",
    "            \"InstallmentPeriod\",\n",
    "            \"PaidAmount\",\n",
    "            \"TotalPaidInstallments\"\n",
    "        ],\n",
    "        \"partition_key\": \"InstallmentPeriod\",\n",
    "        \"primary_key\": \"Id\",\n",
    "        \"filters\": [\n",
    "            (\"Isdeleted = 'false' and InstallmentPeriod IS NOT NULL and InstallmentPeriod <> ''\")\n",
    "        ]\n",
    "    },\n",
    "    \"raw_msf_task\": {\n",
    "        \"curated_name\": \"Task\",\n",
    "        \"curated_columns\": [\n",
    "            \"Id\",\n",
    "            \"Activitydate\",\n",
    "            \"Campaign\",\n",
    "            \"Closetype\",\n",
    "            \"Inboundoutbound\",\n",
    "            \"Objective\",\n",
    "            \"Productprogram\",\n",
    "            \"Startdate\",\n",
    "            \"Thematic\",\n",
    "            \"Typetemplate\",\n",
    "            \"Ownerid\",\n",
    "            \"Status\",\n",
    "            \"Subject\",\n",
    "            \"Whoid\",\n",
    "            \"Whatid\"\n",
    "        ],\n",
    "        \"partition_key\": \"Thematic\",\n",
    "        \"primary_key\": \"Id\",\n",
    "        \"filters\": [\n",
    "            (\"Thematic IS NOT NULL and Campaign is NOT NULL and YEAR(startdate)=2023\")\n",
    "        ]\n",
    "    }\n",
    "}"
   ]
  },
  {
   "cell_type": "markdown",
   "metadata": {},
   "source": [
    "### Definición de la ETL"
   ]
  },
  {
   "cell_type": "code",
   "execution_count": 34,
   "metadata": {},
   "outputs": [
    {
     "name": "stdout",
     "output_type": "stream",
     "text": [
      "Calculation started (calculation_id=32c5a984-12a5-6aef-079e-530a3625405d) in (session=5ac5a970-2cf4-cf60-51d3-9b8a18b370f8). Checking calculation status...\n"
     ]
    },
    {
     "data": {
      "application/vnd.jupyter.widget-view+json": {
       "model_id": "5bcfe7be6a77470c9c58a9df18279294",
       "version_major": 2,
       "version_minor": 0
      },
      "text/plain": [
       "Progress:   0%|          |elapsed time = 00:00s"
      ]
     },
     "metadata": {},
     "output_type": "display_data"
    },
    {
     "name": "stdout",
     "output_type": "stream",
     "text": [
      "Calculation completed.\n"
     ]
    }
   ],
   "source": [
    "logging.basicConfig(level=logging.INFO)\n",
    "logger = logging.getLogger(__name__)\n",
    "\n",
    "def run_etl(table_config: dict):\n",
    "    \"\"\"\n",
    "    Ejecuta el pipeline ETL para cada tabla en table_config.\n",
    "    table_config: Diccionario con configuración de las tablas.\n",
    "    \"\"\"\n",
    "    for raw_table_name, config in table_config.items():\n",
    "        try:\n",
    "            # Extract\n",
    "            df = extract_data(raw_table_name)\n",
    "            print(f'Table name:{raw_table_name}')\n",
    "            df.printSchema()\n",
    "            \n",
    "            # Transformaciones\n",
    "            df_transformed = (df\n",
    "                        .transform(rename_columns)\n",
    "                        .transform(drop_null_rows)\n",
    "                        .transform(drop_duplicate_rows)\n",
    "                        .transform(lambda df: df.select(*[col for col in df.columns if col in config[\"curated_columns\"]]))\n",
    "                        .transform(lambda df: filter_data(df, config.get(\"filters\", [])))\n",
    "                        .transform(clean_data)\n",
    "                        .transform(add_metadata_columns)\n",
    "                       )\n",
    "            df_transformed.printSchema()\n",
    "         \n",
    "             # Load\n",
    "            load_path = f\"s3://curated-msf-mbit/{config['curated_name']}\"\n",
    "            partition_key = config.get(\"partition_key\", \"noPartition\")\n",
    "            primary_key = config.get(\"primary_key\")\n",
    "        \n",
    "            load_data_curated(df_transformed, load_path, partition_key, primary_key)\n",
    "        \n",
    "        except Exception as e:\n",
    "            logger.error(f\"Error processing table {raw_table_name}: {str(e)}\")"
   ]
  },
  {
   "cell_type": "markdown",
   "metadata": {},
   "source": [
    "### Ejecuta ETL"
   ]
  },
  {
   "cell_type": "markdown",
   "metadata": {},
   "source": [
    "#### Antes de escribir, configuramos del n�mero m�ximo de registros escritos en un solo archivo."
   ]
  },
  {
   "cell_type": "code",
   "execution_count": 2,
   "metadata": {},
   "outputs": [],
   "source": [
    "spark.conf.set(\"spark.sql.files.maxRecordsPerFile\", 1000000)"
   ]
  },
  {
   "cell_type": "code",
   "execution_count": 57,
   "metadata": {},
   "outputs": [
    {
     "name": "stdout",
     "output_type": "stream",
     "text": [
      "Calculation started (calculation_id=38c5a98d-b97e-3d85-e4c9-a2ec6e77597e) in (session=5ac5a970-2cf4-cf60-51d3-9b8a18b370f8). Checking calculation status...\n"
     ]
    },
    {
     "data": {
      "application/vnd.jupyter.widget-view+json": {
       "model_id": "8fd85703750d4d698ff7776c2f0ad629",
       "version_major": 2,
       "version_minor": 0
      },
      "text/plain": [
       "Progress:   0%|          |elapsed time = 00:00s"
      ]
     },
     "metadata": {},
     "output_type": "display_data"
    },
    {
     "name": "stdout",
     "output_type": "stream",
     "text": [
      "Calculation completed.\n",
      "Table name:raw_msf_recurringdonation\n",
      "root\n",
      " |-- id: string (nullable = true)\n",
      " |-- isdeleted: boolean (nullable = true)\n",
      " |-- msf_annualizedquota__c: double (nullable = true)\n",
      " |-- msf_cancelationdate__c: date (nullable = true)\n",
      " |-- msf_cancelationreason__c: string (nullable = true)\n",
      " |-- msf_currentcampaign__c: string (nullable = true)\n",
      " |-- msf_currentleadsource1__c: string (nullable = true)\n",
      " |-- msf_currentquotamodification__c: string (nullable = true)\n",
      " |-- msf_leadsource1__c: string (nullable = true)\n",
      " |-- msf_memberid__c: string (nullable = true)\n",
      " |-- npe03__amount__c: double (nullable = true)\n",
      " |-- npe03__contact__c: string (nullable = true)\n",
      " |-- npe03__date_established__c: date (nullable = true)\n",
      " |-- npe03__installment_period__c: string (nullable = true)\n",
      " |-- npe03__last_payment_date__c: date (nullable = true)\n",
      " |-- npe03__next_payment_date__c: date (nullable = true)\n",
      " |-- npe03__open_ended_status__c: string (nullable = true)\n",
      " |-- npe03__paid_amount__c: double (nullable = true)\n",
      " |-- npe03__recurring_donation_campaign__c: string (nullable = true)\n",
      " |-- npe03__total_paid_installments__c: double (nullable = true)\n",
      " |-- npsp4hub__payment_method__c: string (nullable = true)\n",
      "\n",
      "Schema en rename_columns:\n",
      "root\n",
      " |-- Id: string (nullable = true)\n",
      " |-- Isdeleted: boolean (nullable = true)\n",
      " |-- Annualizedquota: double (nullable = true)\n",
      " |-- Cancelationdate: date (nullable = true)\n",
      " |-- Cancelationreason: string (nullable = true)\n",
      " |-- Currentcampaign: string (nullable = true)\n",
      " |-- Currentleadsource1: string (nullable = true)\n",
      " |-- Currentquotamodification: string (nullable = true)\n",
      " |-- Leadsource1: string (nullable = true)\n",
      " |-- Memberid: string (nullable = true)\n",
      " |-- Amount: double (nullable = true)\n",
      " |-- Contact: string (nullable = true)\n",
      " |-- DateEstablished: date (nullable = true)\n",
      " |-- InstallmentPeriod: string (nullable = true)\n",
      " |-- LastPaymentDate: date (nullable = true)\n",
      " |-- NextPaymentDate: date (nullable = true)\n",
      " |-- OpenEndedStatus: string (nullable = true)\n",
      " |-- PaidAmount: double (nullable = true)\n",
      " |-- RecurringDonationCampaign: string (nullable = true)\n",
      " |-- TotalPaidInstallments: double (nullable = true)\n",
      " |-- PaymentMethod: string (nullable = true)\n",
      "\n",
      "Schema en filter_data:\n",
      "root\n",
      " |-- Id: string (nullable = true)\n",
      " |-- Isdeleted: boolean (nullable = true)\n",
      " |-- Annualizedquota: double (nullable = true)\n",
      " |-- Cancelationdate: date (nullable = true)\n",
      " |-- Currentcampaign: string (nullable = true)\n",
      " |-- Amount: double (nullable = true)\n",
      " |-- Contact: string (nullable = true)\n",
      " |-- InstallmentPeriod: string (nullable = true)\n",
      " |-- PaidAmount: double (nullable = true)\n",
      " |-- TotalPaidInstallments: double (nullable = true)\n",
      "\n",
      "Schema en clean_data:\n",
      "root\n",
      " |-- Id: string (nullable = true)\n",
      " |-- Isdeleted: boolean (nullable = true)\n",
      " |-- Annualizedquota: double (nullable = true)\n",
      " |-- Cancelationdate: date (nullable = true)\n",
      " |-- Currentcampaign: string (nullable = true)\n",
      " |-- Amount: double (nullable = true)\n",
      " |-- Contact: string (nullable = true)\n",
      " |-- InstallmentPeriod: string (nullable = true)\n",
      " |-- PaidAmount: double (nullable = true)\n",
      " |-- TotalPaidInstallments: double (nullable = true)\n",
      "\n",
      "root\n",
      " |-- Id: string (nullable = true)\n",
      " |-- Isdeleted: boolean (nullable = true)\n",
      " |-- Annualizedquota: double (nullable = true)\n",
      " |-- Cancelationdate: date (nullable = true)\n",
      " |-- Currentcampaign: string (nullable = true)\n",
      " |-- Amount: double (nullable = true)\n",
      " |-- Contact: string (nullable = true)\n",
      " |-- InstallmentPeriod: string (nullable = true)\n",
      " |-- PaidAmount: double (nullable = true)\n",
      " |-- TotalPaidInstallments: double (nullable = true)\n",
      " |-- hash_key: string (nullable = true)\n",
      " |-- processing_timestamp: timestamp (nullable = false)\n",
      "INFO:builtins:Data extracted from raw_msf_recurringdonation\n",
      "INFO:builtins:Columns mapping after rename: {'id': 'Id', 'isdeleted': 'Isdeleted', 'msf_annualizedquota__c': 'Annualizedquota', 'msf_cancelationdate__c': 'Cancelationdate', 'msf_cancelationreason__c': 'Cancelationreason', 'msf_currentcampaign__c': 'Currentcampaign', 'msf_currentleadsource1__c': 'Currentleadsource1', 'msf_currentquotamodification__c': 'Currentquotamodification', 'msf_leadsource1__c': 'Leadsource1', 'msf_memberid__c': 'Memberid', 'npe03__amount__c': 'Amount', 'npe03__contact__c': 'Contact', 'npe03__date_established__c': 'DateEstablished', 'npe03__installment_period__c': 'InstallmentPeriod', 'npe03__last_payment_date__c': 'LastPaymentDate', 'npe03__next_payment_date__c': 'NextPaymentDate', 'npe03__open_ended_status__c': 'OpenEndedStatus', 'npe03__paid_amount__c': 'PaidAmount', 'npe03__recurring_donation_campaign__c': 'RecurringDonationCampaign', 'npe03__total_paid_installments__c': 'TotalPaidInstallments', 'npsp4hub__payment_method__c': 'PaymentMethod'}\n",
      "INFO:builtins:rename_columns executed. Columns reanamed\n",
      "INFO:builtins:drop_null_rows executed\n",
      "INFO:builtins:drop_duplicate_rows executed\n",
      "INFO:builtins:Data filtered\n",
      "INFO:builtins:Data cleaned\n",
      "INFO:builtins:Metadata columns added\n",
      "INFO:builtins:Data loaded to s3://curated-msf-mbit/RecurringDonation\n"
     ]
    }
   ],
   "source": [
    "run_etl(table_config)"
   ]
  },
  {
   "cell_type": "code",
   "execution_count": 3,
   "metadata": {},
   "outputs": [],
   "source": [
    "# Nos apoyamos en este tipo de funciones de DELTA LAKE para optimiar las tablas generadas \n",
    "spark.sql(\"OPTIMIZE Opportunity\")"
   ]
  },
  {
   "cell_type": "code",
   "execution_count": null,
   "metadata": {},
   "outputs": [],
   "source": []
  }
 ],
 "metadata": {
  "kernelspec": {
   "display_name": "Python 3",
   "language": "python",
   "name": "python3"
  },
  "language_info": {
   "codemirror_mode": {
    "name": "ipython",
    "version": 3
   },
   "file_extension": ".py",
   "mimetype": "text/x-python",
   "name": "python",
   "nbconvert_exporter": "python",
   "pygments_lexer": "ipython3",
   "version": "3.9.13"
  }
 },
 "nbformat": 4,
 "nbformat_minor": 1
}
